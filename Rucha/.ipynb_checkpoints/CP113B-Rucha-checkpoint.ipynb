{
 "cells": [
  {
   "cell_type": "markdown",
   "metadata": {},
   "source": [
    "# CP-113B "
   ]
  },
  {
   "cell_type": "markdown",
   "metadata": {},
   "source": [
    "## Intro to Jupyter Notebook\n",
    "\n",
    "Jupyter Notebook is a user-friendly computing environment that allows users to interactively run and edit Python code. \n",
    "\n",
    "In this assignment, you will learn how to write basic code to take in quantitative data and turn it into qualitative analysis. MORE DESCRIPTION HERE\n",
    "\n",
    "First, let's learn a bit about Jupyter Notebook! For a full tutorial, you can check out the following link: https://jupyter-notebook.readthedocs.io/en/stable/ \n",
    "\n",
    "Here, we just give you a brief introduction based off of the docs linked above. "
   ]
  },
  {
   "cell_type": "markdown",
   "metadata": {},
   "source": [
    "#### Types of Cells\n",
    "\n",
    "1. **Code cells**: cells that show input and output of live code\n",
    "2. **Markdown cells**: cells in which you can write text such as decriptions of your code\n",
    "3. **Raw cells**: unformatted text that is included when notebooks are converted to different format (you don't need to worry about these)\n",
    "\n",
    "#### How to Edit a Cell\n",
    "Double click on the cell to edit, and type in your changes! This applies to both code cells and markdown cells. \n",
    "\n",
    "#### How to Run a Cell\n",
    "Click on the icon in the tool bar that looks like a \"play\" button (it's located in between the down arrow and the square). INSERT IMAGE HERE? <br>\n",
    "Alternatively, you can hit *Ctrl+Enter* on a PC or *Command+Enter* on a Mac!\n",
    "\n",
    "#### How to Save Your Work\n",
    "Click on the leftmost  icon in the tool bar (left of the plus icon). <br>\n",
    "Alternatively, you can hit *Ctrl+S* on a PC or *Command+Enter* on a Mac!"
   ]
  },
  {
   "cell_type": "code",
   "execution_count": null,
   "metadata": {
    "collapsed": true
   },
   "outputs": [],
   "source": []
  },
  {
   "cell_type": "code",
   "execution_count": 39,
   "metadata": {
    "collapsed": false
   },
   "outputs": [],
   "source": [
    "## These are all pre-written Python packages that we will be using to read in, clean, analyze, and model our data. \n",
    "\n",
    "# import utilities \n",
    "import pandas as pd\n",
    "import numpy as np\n",
    "import seaborn as sns\n",
    "import matplotlib.pyplot as plt\n",
    "\n",
    "## from widget notebook\n",
    "#from datascience import *\n",
    "import numpy as np\n",
    "import math\n",
    "import matplotlib.pyplot as plt\n",
    "plt.style.use('fivethirtyeight')\n",
    "import ipywidgets as widgets\n",
    "%matplotlib inline"
   ]
  },
  {
   "cell_type": "code",
   "execution_count": 40,
   "metadata": {
    "collapsed": true
   },
   "outputs": [],
   "source": [
    "# Read in data\n",
    "df_2000 = pd.read_excel('CP113B Data for Redlining Analysis.xlsx')\n",
    "# df_2017 = pd.read_excel('CP113B_Data_Redlining_Analysis_2017.xlsx') # might not need this after all"
   ]
  },
  {
   "cell_type": "code",
   "execution_count": 41,
   "metadata": {
    "collapsed": false
   },
   "outputs": [
    {
     "data": {
      "text/html": [
       "<div>\n",
       "<table border=\"1\" class=\"dataframe\">\n",
       "  <thead>\n",
       "    <tr style=\"text-align: right;\">\n",
       "      <th></th>\n",
       "      <th>FIPS</th>\n",
       "      <th>Name of Area</th>\n",
       "      <th>Total Population</th>\n",
       "      <th>Percent Non-Hispanic White</th>\n",
       "      <th>Percent Black</th>\n",
       "      <th>Percent Hispanic</th>\n",
       "      <th>Percent Asian</th>\n",
       "      <th>Percent Other Race or Ethnicity</th>\n",
       "      <th>Poverty Rate</th>\n",
       "      <th>Percent with a BA Degree or Higher</th>\n",
       "      <th>Percent High School Dropouts</th>\n",
       "      <th>Median Household Income</th>\n",
       "      <th>Housing Units</th>\n",
       "      <th>Percent Owner Occupied</th>\n",
       "      <th>Median House Value</th>\n",
       "    </tr>\n",
       "  </thead>\n",
       "  <tbody>\n",
       "    <tr>\n",
       "      <th>356</th>\n",
       "      <td>6001451704</td>\n",
       "      <td>Census Tract 4517.04</td>\n",
       "      <td>4555</td>\n",
       "      <td>81.821666</td>\n",
       "      <td>0.549310</td>\n",
       "      <td>8.916709</td>\n",
       "      <td>3.334185</td>\n",
       "      <td>5.378130</td>\n",
       "      <td>2.062516</td>\n",
       "      <td>34.599488</td>\n",
       "      <td>6.067416</td>\n",
       "      <td>63708</td>\n",
       "      <td>1593</td>\n",
       "      <td>79.948868</td>\n",
       "      <td>288304</td>\n",
       "    </tr>\n",
       "    <tr>\n",
       "      <th>357</th>\n",
       "      <td>6001981900</td>\n",
       "      <td>Census Tract 9819</td>\n",
       "      <td>46</td>\n",
       "      <td>21.455458</td>\n",
       "      <td>19.196989</td>\n",
       "      <td>53.450439</td>\n",
       "      <td>2.132999</td>\n",
       "      <td>3.764115</td>\n",
       "      <td>6.900878</td>\n",
       "      <td>18.452381</td>\n",
       "      <td>27.419355</td>\n",
       "      <td>4281</td>\n",
       "      <td>13</td>\n",
       "      <td>39.461883</td>\n",
       "      <td>11611</td>\n",
       "    </tr>\n",
       "    <tr>\n",
       "      <th>358</th>\n",
       "      <td>6001982000</td>\n",
       "      <td>Census Tract 9820</td>\n",
       "      <td>25</td>\n",
       "      <td>8.000000</td>\n",
       "      <td>0.000000</td>\n",
       "      <td>28.000000</td>\n",
       "      <td>56.000000</td>\n",
       "      <td>8.000000</td>\n",
       "      <td>20.000000</td>\n",
       "      <td>0.000000</td>\n",
       "      <td>0.000000</td>\n",
       "      <td>90398</td>\n",
       "      <td>11</td>\n",
       "      <td>36.363636</td>\n",
       "      <td>196273</td>\n",
       "    </tr>\n",
       "    <tr>\n",
       "      <th>359</th>\n",
       "      <td>6001983200</td>\n",
       "      <td>Census Tract 9832</td>\n",
       "      <td>69</td>\n",
       "      <td>50.724638</td>\n",
       "      <td>0.000000</td>\n",
       "      <td>11.594203</td>\n",
       "      <td>10.144928</td>\n",
       "      <td>27.536232</td>\n",
       "      <td>0.000000</td>\n",
       "      <td>32.812500</td>\n",
       "      <td>NaN</td>\n",
       "      <td>154060</td>\n",
       "      <td>46</td>\n",
       "      <td>93.478261</td>\n",
       "      <td>342158</td>\n",
       "    </tr>\n",
       "    <tr>\n",
       "      <th>360</th>\n",
       "      <td>6001990000</td>\n",
       "      <td>Census Tract 9900</td>\n",
       "      <td>0</td>\n",
       "      <td>0.000000</td>\n",
       "      <td>0.000000</td>\n",
       "      <td>0.000000</td>\n",
       "      <td>0.000000</td>\n",
       "      <td>0.000000</td>\n",
       "      <td>0.000000</td>\n",
       "      <td>0.000000</td>\n",
       "      <td>0.000000</td>\n",
       "      <td>0</td>\n",
       "      <td>0</td>\n",
       "      <td>0.000000</td>\n",
       "      <td>0</td>\n",
       "    </tr>\n",
       "  </tbody>\n",
       "</table>\n",
       "</div>"
      ],
      "text/plain": [
       "           FIPS          Name of Area  Total Population  \\\n",
       "356  6001451704  Census Tract 4517.04              4555   \n",
       "357  6001981900     Census Tract 9819                46   \n",
       "358  6001982000     Census Tract 9820                25   \n",
       "359  6001983200     Census Tract 9832                69   \n",
       "360  6001990000     Census Tract 9900                 0   \n",
       "\n",
       "     Percent Non-Hispanic White  Percent Black  Percent Hispanic  \\\n",
       "356                   81.821666       0.549310          8.916709   \n",
       "357                   21.455458      19.196989         53.450439   \n",
       "358                    8.000000       0.000000         28.000000   \n",
       "359                   50.724638       0.000000         11.594203   \n",
       "360                    0.000000       0.000000          0.000000   \n",
       "\n",
       "     Percent Asian  Percent Other Race or Ethnicity  Poverty Rate  \\\n",
       "356       3.334185                         5.378130      2.062516   \n",
       "357       2.132999                         3.764115      6.900878   \n",
       "358      56.000000                         8.000000     20.000000   \n",
       "359      10.144928                        27.536232      0.000000   \n",
       "360       0.000000                         0.000000      0.000000   \n",
       "\n",
       "     Percent with a BA Degree or Higher  Percent High School Dropouts  \\\n",
       "356                           34.599488                      6.067416   \n",
       "357                           18.452381                     27.419355   \n",
       "358                            0.000000                      0.000000   \n",
       "359                           32.812500                           NaN   \n",
       "360                            0.000000                      0.000000   \n",
       "\n",
       "     Median Household Income  Housing Units  Percent Owner Occupied  \\\n",
       "356                    63708           1593               79.948868   \n",
       "357                     4281             13               39.461883   \n",
       "358                    90398             11               36.363636   \n",
       "359                   154060             46               93.478261   \n",
       "360                        0              0                0.000000   \n",
       "\n",
       "     Median House Value  \n",
       "356              288304  \n",
       "357               11611  \n",
       "358              196273  \n",
       "359              342158  \n",
       "360                   0  "
      ]
     },
     "execution_count": 41,
     "metadata": {},
     "output_type": "execute_result"
    }
   ],
   "source": [
    "df_2000.tail()"
   ]
  },
  {
   "cell_type": "code",
   "execution_count": 42,
   "metadata": {
    "collapsed": true
   },
   "outputs": [],
   "source": [
    "# widget imports \n",
    "# import the widgets module\n",
    "import ipywidgets as widgets\n",
    "from ipywidgets import interact, interactive, fixed, interact_manual"
   ]
  },
  {
   "cell_type": "code",
   "execution_count": 44,
   "metadata": {
    "collapsed": false
   },
   "outputs": [
    {
     "data": {
      "text/plain": [
       "['FIPS',\n",
       " 'Name of Area',\n",
       " 'Total Population',\n",
       " 'Percent Non-Hispanic White',\n",
       " 'Percent Black',\n",
       " 'Percent Hispanic',\n",
       " 'Percent Asian',\n",
       " 'Percent Other Race or Ethnicity',\n",
       " 'Poverty Rate',\n",
       " 'Percent with a BA Degree or Higher',\n",
       " 'Percent High School Dropouts',\n",
       " 'Median Household Income',\n",
       " 'Housing Units',\n",
       " 'Percent Owner Occupied',\n",
       " 'Median House Value']"
      ]
     },
     "execution_count": 44,
     "metadata": {},
     "output_type": "execute_result"
    }
   ],
   "source": [
    "df_2000.columns.tolist()"
   ]
  },
  {
   "cell_type": "code",
   "execution_count": 47,
   "metadata": {
    "collapsed": false
   },
   "outputs": [
    {
     "data": {
      "text/plain": [
       "<matplotlib.collections.PathCollection at 0x15d77073828>"
      ]
     },
     "metadata": {},
     "output_type": "display_data"
    },
    {
     "data": {
      "image/png": "[encoded data removed]",
      "text/plain": [
       "<matplotlib.figure.Figure at 0x15d77015780>"
      ]
     },
     "metadata": {},
     "output_type": "display_data"
    }
   ],
   "source": [
    "def scatter_features(feature1, feature2):\n",
    "    x = df_2000[[feature1]]\n",
    "    y = df_2000[[feature2]]\n",
    "    return plt.scatter(x,y)\n",
    "\n",
    "# create drop down menus for widget\n",
    "wid_1 = widgets.Dropdown(\n",
    "    options=df_2000.columns.tolist(),\n",
    "    description='Variable:',\n",
    "    disabled=False,\n",
    ")\n",
    "\n",
    "wid_2 = widgets.Dropdown(\n",
    "    options=df_2000.columns.tolist(),\n",
    "    description='Variable:',\n",
    "    disabled=False,\n",
    ")\n",
    "\n",
    "interact(scatter_features, feature1 = wid_1, feature2 = wid_2)"
   ]
  },
  {
   "cell_type": "code",
   "execution_count": null,
   "metadata": {
    "collapsed": true
   },
   "outputs": [],
   "source": []
  },
  {
   "cell_type": "code",
   "execution_count": null,
   "metadata": {
    "collapsed": true
   },
   "outputs": [],
   "source": []
  },
  {
   "cell_type": "code",
   "execution_count": null,
   "metadata": {
    "collapsed": true
   },
   "outputs": [],
   "source": []
  }
 ],
 "metadata": {
  "kernelspec": {
   "display_name": "Python 3",
   "language": "python",
   "name": "python3"
  },
  "language_info": {
   "codemirror_mode": {
    "name": "ipython",
    "version": 3
   },
   "file_extension": ".py",
   "mimetype": "text/x-python",
   "name": "python",
   "nbconvert_exporter": "python",
   "pygments_lexer": "ipython3",
   "version": "3.6.0"
  },
  "widgets": {
   "state": {
    "2873492823f24c838268c0e27d2c69fc": {
     "views": [
      {
       "cell_index": 9
      }
     ]
    }
   },
   "version": "1.2.0"
  }
 },
 "nbformat": 4,
 "nbformat_minor": 2
}
