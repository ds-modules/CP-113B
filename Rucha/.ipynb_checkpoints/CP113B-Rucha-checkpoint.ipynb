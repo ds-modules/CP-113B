{
 "cells": [
  {
   "cell_type": "markdown",
   "metadata": {},
   "source": [
    "# CP-113B "
   ]
  },
  {
   "cell_type": "markdown",
   "metadata": {},
   "source": [
    "## Intro to Jupyter Notebook\n",
    "\n",
    "Jupyter Notebook is a user-friendly computing environment that allows users to interactively run and edit Python code. \n",
    "\n",
    "In this assignment, you will learn how to write basic code to take in quantitative data and turn it into qualitative analysis. MORE DESCRIPTION HERE\n",
    "\n",
    "First, let's learn a bit about Jupyter Notebook! For a full tutorial, you can check out the following link: https://jupyter-notebook.readthedocs.io/en/stable/ \n",
    "\n",
    "Here, we just give you a brief introduction based off of the docs linked above. "
   ]
  },
  {
   "cell_type": "markdown",
   "metadata": {},
   "source": [
    "#### Types of Cells\n",
    "\n",
    "1. **Code cells**: cells that show input and output of live code\n",
    "2. **Markdown cells**: cells in which you can write text such as decriptions of your code\n",
    "3. **Raw cells**: unformatted text that is included when notebooks are converted to different format (you don't need to worry about these)\n",
    "\n",
    "#### How to Edit a Cell\n",
    "Double click on the cell to edit, and type in your changes! This applies to both code cells and markdown cells. \n",
    "\n",
    "#### How to Run a Cell\n",
    "Click on the icon in the tool bar that looks like a \"play\" button (it's located in between the down arrow and the square). INSERT IMAGE HERE? <br>\n",
    "Alternatively, you can hit *Ctrl+Enter* on a PC or *Command+Enter* on a Mac!\n",
    "\n",
    "#### How to Save Your Work\n",
    "Click on the leftmost  icon in the tool bar (left of the plus icon). <br>\n",
    "Alternatively, you can hit *Ctrl+S* on a PC or *Command+Enter* on a Mac!"
   ]
  },
  {
   "cell_type": "code",
   "execution_count": 2,
   "metadata": {
    "collapsed": false
   },
   "outputs": [],
   "source": [
    "#pip install xlrd"
   ]
  },
  {
   "cell_type": "code",
   "execution_count": 3,
   "metadata": {
    "collapsed": true
   },
   "outputs": [],
   "source": [
    "## These are all pre-written Python packages that we will be using to read in, clean, analyze, and model our data. \n",
    "\n",
    "# import utilities \n",
    "import pandas as pd\n",
    "import numpy as np\n",
    "import seaborn as sns\n",
    "import matplotlib.pyplot as plt\n",
    "\n",
    "## from widget notebook\n",
    "#from datascience import *\n",
    "import numpy as np\n",
    "import math\n",
    "import matplotlib.pyplot as plt\n",
    "plt.style.use('fivethirtyeight')\n",
    "import ipywidgets as widgets\n",
    "%matplotlib inline"
   ]
  },
  {
   "cell_type": "code",
   "execution_count": 4,
   "metadata": {
    "collapsed": true
   },
   "outputs": [],
   "source": [
    "# Read in data\n",
    "df_2000 = pd.read_excel(r'CP113B Data for Redlining Analysis.xlsx')"
   ]
  },
  {
   "cell_type": "code",
   "execution_count": 5,
   "metadata": {
    "collapsed": true
   },
   "outputs": [],
   "source": [
    "# widget imports \n",
    "# import the widgets module\n",
    "import ipywidgets as widgets\n",
    "from ipywidgets import interact, interactive, fixed, interact_manual"
   ]
  },
  {
   "cell_type": "code",
   "execution_count": 6,
   "metadata": {
    "collapsed": false
   },
   "outputs": [
    {
     "data": {
      "text/plain": [
       "['FIPS',\n",
       " 'Name of Area',\n",
       " 'Total Population',\n",
       " 'Percent Non-Hispanic White',\n",
       " 'Percent Black',\n",
       " 'Percent Hispanic',\n",
       " 'Percent Asian',\n",
       " 'Percent Other Race or Ethnicity',\n",
       " 'Poverty Rate',\n",
       " 'Percent with a BA Degree or Higher',\n",
       " 'Percent High School Dropouts',\n",
       " 'Median Household Income',\n",
       " 'Housing Units',\n",
       " 'Percent Owner Occupied',\n",
       " 'Median House Value']"
      ]
     },
     "execution_count": 6,
     "metadata": {},
     "output_type": "execute_result"
    }
   ],
   "source": [
    "df_2000.columns.tolist()"
   ]
  },
  {
   "cell_type": "code",
   "execution_count": 7,
   "metadata": {
    "collapsed": false
   },
   "outputs": [
    {
     "data": {
      "text/plain": [
       "<matplotlib.axes._subplots.AxesSubplot at 0x262146e93c8>"
      ]
     },
     "metadata": {},
     "output_type": "display_data"
    },
    {
     "data": {
      "text/plain": [
       "<function __main__.scatter_features>"
      ]
     },
     "execution_count": 7,
     "metadata": {},
     "output_type": "execute_result"
    },
    {
     "data": {
      "image/png": "[encoded data removed]",
      "text/plain": [
       "<matplotlib.figure.Figure at 0x262146a3dd8>"
      ]
     },
     "metadata": {},
     "output_type": "display_data"
    }
   ],
   "source": [
    "def scatter_features(feature1, feature2):\n",
    "    plt.figure(figsize=(20,8))\n",
    "    x = df_2000[feature1]\n",
    "    y = df_2000[feature2]\n",
    "#     b, m = polyfit(x, y, 1)\n",
    "#     ax = plt.scatter(x,y)\n",
    "#     fit = plt.plot(x, b + m * x, '-')\n",
    "    return sns.regplot(x,y,ci=False)\n",
    "\n",
    "# create drop down menus for widget\n",
    "wid_1 = widgets.Dropdown(\n",
    "    options=df_2000.columns.tolist(),\n",
    "    description='Variable:',\n",
    "    disabled=False,\n",
    ")\n",
    "\n",
    "wid_2 = widgets.Dropdown(\n",
    "    options=df_2000.columns.tolist(),\n",
    "    description='Variable:',\n",
    "    disabled=False,\n",
    ")\n",
    "\n",
    "interact(scatter_features, feature1 = wid_1, feature2 = wid_2)\n"
   ]
  },
  {
   "cell_type": "code",
   "execution_count": null,
   "metadata": {
    "collapsed": true
   },
   "outputs": [],
   "source": []
  },
  {
   "cell_type": "code",
   "execution_count": null,
   "metadata": {
    "collapsed": true
   },
   "outputs": [],
   "source": []
  },
  {
   "cell_type": "code",
   "execution_count": null,
   "metadata": {
    "collapsed": true
   },
   "outputs": [],
   "source": []
  }
 ],
 "metadata": {
  "kernelspec": {
   "display_name": "Python 3",
   "language": "python",
   "name": "python3"
  },
  "language_info": {
   "codemirror_mode": {
    "name": "ipython",
    "version": 3
   },
   "file_extension": ".py",
   "mimetype": "text/x-python",
   "name": "python",
   "nbconvert_exporter": "python",
   "pygments_lexer": "ipython3",
   "version": "3.6.0"
  },
  "widgets": {
   "state": {
    "2e5fa777d7a34a28b9327e45c58ab592": {
     "views": [
      {
       "cell_index": 8
      }
     ]
    }
   },
   "version": "1.2.0"
  }
 },
 "nbformat": 4,
 "nbformat_minor": 2
}
