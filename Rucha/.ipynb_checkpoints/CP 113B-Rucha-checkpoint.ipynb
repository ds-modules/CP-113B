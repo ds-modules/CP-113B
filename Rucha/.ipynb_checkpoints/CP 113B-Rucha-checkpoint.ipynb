{
 "cells": [
  {
   "cell_type": "code",
   "execution_count": 1,
   "metadata": {
    "collapsed": true
   },
   "outputs": [],
   "source": [
    "import pandas as pd\n",
    "import numpy as np\n",
    "import seaborn as sns\n",
    "import matplotlib.pyplot as plt"
   ]
  },
  {
   "cell_type": "code",
   "execution_count": 8,
   "metadata": {
    "collapsed": true
   },
   "outputs": [],
   "source": [
    "# Read in data\n",
    "df_2000 = pd.read_excel('CP113B Data for Redlining Analysis.xlsx')\n",
    "df_2017 = pd.read_excel('CP113B_Data_Redlining_Analysis_2017.xlsx')"
   ]
  },
  {
   "cell_type": "code",
   "execution_count": 6,
   "metadata": {
    "collapsed": false
   },
   "outputs": [
    {
     "data": {
      "text/html": [
       "<div>\n",
       "<table border=\"1\" class=\"dataframe\">\n",
       "  <thead>\n",
       "    <tr style=\"text-align: right;\">\n",
       "      <th></th>\n",
       "      <th>FIPS</th>\n",
       "      <th>Name of Area</th>\n",
       "      <th>Total Population</th>\n",
       "      <th>Percent Non-Hispanic White</th>\n",
       "      <th>Percent Black</th>\n",
       "      <th>Percent Hispanic</th>\n",
       "      <th>Percent Asian</th>\n",
       "      <th>Percent Other Race or Ethnicity</th>\n",
       "      <th>Poverty Rate</th>\n",
       "      <th>Percent with a BA Degree or Higher</th>\n",
       "      <th>Percent High School Dropouts</th>\n",
       "      <th>Median Household Income</th>\n",
       "      <th>Housing Units</th>\n",
       "      <th>Percent Owner Occupied</th>\n",
       "      <th>Median House Value</th>\n",
       "    </tr>\n",
       "  </thead>\n",
       "  <tbody>\n",
       "    <tr>\n",
       "      <th>0</th>\n",
       "      <td>6001400100</td>\n",
       "      <td>Census Tract 4001</td>\n",
       "      <td>2463</td>\n",
       "      <td>76.461039</td>\n",
       "      <td>4.951299</td>\n",
       "      <td>4.586039</td>\n",
       "      <td>11.201299</td>\n",
       "      <td>2.800325</td>\n",
       "      <td>2.925640</td>\n",
       "      <td>83.717509</td>\n",
       "      <td>0.0</td>\n",
       "      <td>196645</td>\n",
       "      <td>1145</td>\n",
       "      <td>90.567686</td>\n",
       "      <td>985548</td>\n",
       "    </tr>\n",
       "    <tr>\n",
       "      <th>1</th>\n",
       "      <td>6001400200</td>\n",
       "      <td>Census Tract 4002</td>\n",
       "      <td>1943</td>\n",
       "      <td>79.989712</td>\n",
       "      <td>2.572016</td>\n",
       "      <td>5.967078</td>\n",
       "      <td>7.047325</td>\n",
       "      <td>4.423868</td>\n",
       "      <td>6.841564</td>\n",
       "      <td>77.258567</td>\n",
       "      <td>0.0</td>\n",
       "      <td>122061</td>\n",
       "      <td>862</td>\n",
       "      <td>57.656613</td>\n",
       "      <td>677115</td>\n",
       "    </tr>\n",
       "  </tbody>\n",
       "</table>\n",
       "</div>"
      ],
      "text/plain": [
       "         FIPS       Name of Area  Total Population  \\\n",
       "0  6001400100  Census Tract 4001              2463   \n",
       "1  6001400200  Census Tract 4002              1943   \n",
       "\n",
       "   Percent Non-Hispanic White  Percent Black  Percent Hispanic  Percent Asian  \\\n",
       "0                   76.461039       4.951299          4.586039      11.201299   \n",
       "1                   79.989712       2.572016          5.967078       7.047325   \n",
       "\n",
       "   Percent Other Race or Ethnicity  Poverty Rate  \\\n",
       "0                         2.800325      2.925640   \n",
       "1                         4.423868      6.841564   \n",
       "\n",
       "   Percent with a BA Degree or Higher  Percent High School Dropouts  \\\n",
       "0                           83.717509                           0.0   \n",
       "1                           77.258567                           0.0   \n",
       "\n",
       "   Median Household Income  Housing Units  Percent Owner Occupied  \\\n",
       "0                   196645           1145               90.567686   \n",
       "1                   122061            862               57.656613   \n",
       "\n",
       "   Median House Value  \n",
       "0              985548  \n",
       "1              677115  "
      ]
     },
     "execution_count": 6,
     "metadata": {},
     "output_type": "execute_result"
    }
   ],
   "source": [
    "df_2000.head(2)"
   ]
  },
  {
   "cell_type": "code",
   "execution_count": 9,
   "metadata": {
    "collapsed": true
   },
   "outputs": [],
   "source": [
    "fips_2017 = df_2017[['FIPS']]"
   ]
  },
  {
   "cell_type": "code",
   "execution_count": null,
   "metadata": {
    "collapsed": false
   },
   "outputs": [],
   "source": []
  }
 ],
 "metadata": {
  "kernelspec": {
   "display_name": "Python 3",
   "language": "python",
   "name": "python3"
  },
  "language_info": {
   "codemirror_mode": {
    "name": "ipython",
    "version": 3
   },
   "file_extension": ".py",
   "mimetype": "text/x-python",
   "name": "python",
   "nbconvert_exporter": "python",
   "pygments_lexer": "ipython3",
   "version": "3.6.0"
  }
 },
 "nbformat": 4,
 "nbformat_minor": 2
}
