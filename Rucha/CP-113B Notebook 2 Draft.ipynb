{
 "cells": [
  {
   "cell_type": "markdown",
   "metadata": {},
   "source": [
    "# CP-113B "
   ]
  },
  {
   "cell_type": "markdown",
   "metadata": {},
   "source": [
    "## The Jupyter Notebook\n",
    "\n",
    "First of all, note that this page is divided into what are called *cells*. You can navigate cells by clicking on them or by using the up and down arrows. Cells will be highlighted as you navigate them.\n",
    "\n",
    "### Text cells\n",
    "\n",
    "Text cells (like this one) can be edited by double-clicking on them. They're written in a simple format called [Markdown](http://daringfireball.net/projects/markdown/syntax) to add formatting and section headings.  You don't need to learn Markdown, but know the difference between Text Cells and Code Cells."
   ]
  },
  {
   "cell_type": "markdown",
   "metadata": {},
   "source": [
    "### Code cells\n",
    "Other cells contain code in the Python 3 language. Don't worry -- we'll show you everything you need to know to succeed in this part of the class. \n",
    "\n",
    "The fundamental building block of Python code is an **expression**. Cells can contain multiple lines with multiple expressions.  We'll explain what exactly we mean by \"expressions\" in just a moment: first, let's learn how to \"run\" cells."
   ]
  },
  {
   "cell_type": "markdown",
   "metadata": {},
   "source": [
    "### Running cells\n",
    "\n",
    "\"Running a cell\" is equivalent to pressing \"Enter\" on a calculator once you've typed in the expression you want to evaluate: it produces an **output**. When you run a text cell, it outputs clean, organized writing. When you run a code cell, it **computes** all of the expressions you want to evaluate, and can **output** the result of the computation.\n",
    "\n",
    "<p></p>\n",
    "\n",
    "<div class=\"alert alert-info\">\n",
    "To run the code in a code cell, first click on that cell to activate it.  It'll be highlighted with a little green or blue rectangle.  Next, you can either press the <code><b>▶|</b> Run </code> button above or press <b><code>Shift + Return</code></b> or <b><code>Shift + Enter</code></b>. This will run the current cell and select the next one.\n",
    "</div>\n",
    "\n",
    "Text cells are useful for taking notes and keeping your notebook organized, but your data analysis will be done in code cells. We will focus on code cells for the rest of the class."
   ]
  },
  {
   "cell_type": "markdown",
   "metadata": {},
   "source": [
    "#### How to Save Your Work\n",
    "Click on the leftmost  icon in the tool bar (left of the plus icon). <br>\n",
    "Alternatively, you can hit *Ctrl+S* on a PC or *Command+Enter* on a Mac!"
   ]
  },
  {
   "cell_type": "markdown",
   "metadata": {},
   "source": [
    "## The Data\n",
    "\n",
    "Descriptions, more stuff"
   ]
  },
  {
   "cell_type": "code",
   "execution_count": 1,
   "metadata": {
    "collapsed": true
   },
   "outputs": [],
   "source": [
    "## If your file is not able to be read in below, uncomment the following line and then try reading in the data again\n",
    "\n",
    "#!pip install xlrd"
   ]
  },
  {
   "cell_type": "code",
   "execution_count": 2,
   "metadata": {
    "collapsed": true
   },
   "outputs": [],
   "source": [
    "## These are all pre-written Python packages that we will be using to read in, clean, analyze, and model our data. \n",
    "\n",
    "# import utilities \n",
    "import pandas as pd\n",
    "import numpy as np\n",
    "import seaborn as sns\n",
    "import matplotlib.pyplot as plt\n",
    "import math\n",
    "plt.style.use('fivethirtyeight')\n",
    "%matplotlib inline"
   ]
  },
  {
   "cell_type": "code",
   "execution_count": 3,
   "metadata": {
    "collapsed": true
   },
   "outputs": [],
   "source": [
    "# Read in data\n",
    "df_2000 = pd.read_excel('CP113B Data for Redlining Analysis.xlsx')\n",
    "df_2017 = pd.read_excel('CP113B_Data_Redlining_Analysis_2017.xlsx')"
   ]
  },
  {
   "cell_type": "markdown",
   "metadata": {},
   "source": [
    "## Description of Data (Carolina)"
   ]
  },
  {
   "cell_type": "markdown",
   "metadata": {},
   "source": [
    "#### Where did this data come from?"
   ]
  },
  {
   "cell_type": "code",
   "execution_count": null,
   "metadata": {
    "collapsed": true
   },
   "outputs": [],
   "source": [
    "# Run this cell to take a look at the first few rows of the 2017 data set and answer the questions below\n",
    "## Remember, to edit a cell, double click on it\n",
    "\n",
    "df_2017.head()"
   ]
  },
  {
   "cell_type": "code",
   "execution_count": null,
   "metadata": {
    "collapsed": true
   },
   "outputs": [],
   "source": [
    "# Run this cell to take a look at the first few rows of the 2017 data set and answer the questions below\n",
    "## Remember, to edit a cell, double click on it\n",
    "\n",
    "df_2000.head()"
   ]
  },
  {
   "cell_type": "markdown",
   "metadata": {},
   "source": [
    "##### What does a row represent?\n",
    "\n",
    "TODO: REPLACE THIS TEXT WITH YOUR ANSWER"
   ]
  },
  {
   "cell_type": "markdown",
   "metadata": {},
   "source": [
    "##### What information is contained in the columns?\n",
    "\n",
    "TODO: REPLACE THIS TEXT WITH YOUR ANSWER"
   ]
  },
  {
   "cell_type": "markdown",
   "metadata": {},
   "source": [
    "## Comparing Variables with a Scatter Plot\n",
    "\n",
    "The following cell builds an interactive widget for you to see a scatter plot of the relationship between any two variables that you choose from the data sets. It is up to you choose two variables that make sense to compare between the two years and draw conclusions. \n",
    "\n",
    "Run the following cell and play around with a few variables to see what you find! Note: some variables (such as 'Name of Area') **may cause the code to error out**, don't worry about this! This is happening because the variable contains string values and the widget works only for numeric values. If you see an error, just pick a different variable from the dropdown menu and continue working. \n"
   ]
  },
  {
   "cell_type": "code",
   "execution_count": null,
   "metadata": {
    "collapsed": true
   },
   "outputs": [],
   "source": [
    "##### FILL IN WITH DOUBLE VARIABLE SCATTER PLOT WIDGET #####"
   ]
  },
  {
   "cell_type": "markdown",
   "metadata": {},
   "source": [
    "#### Write down and compare at least 6 variable correlations that you see. Make sure you talk about what changes you see over the different years. \n",
    "\n",
    "###### TODO\n",
    "\n",
    "1. Replace\n",
    "\n",
    "2. This\n",
    "\n",
    "3. Text\n",
    "\n",
    "4. With\n",
    "\n",
    "5. Your\n",
    "\n",
    "6. Answer\n",
    "\n"
   ]
  },
  {
   "cell_type": "markdown",
   "metadata": {},
   "source": [
    "### Discuss and Explore\n",
    "\n",
    "What assumptions does our recipe make about gentrification? How might our recipe be biased? How might that affect policy impacts?\n",
    "\n",
    "\n",
    "TODO: REPLACE THIS TEXT WITH YOU ANSWERS TO THE ABOVE QUESTIONS\n"
   ]
  },
  {
   "cell_type": "markdown",
   "metadata": {},
   "source": [
    "# Visualizing The Difference"
   ]
  },
  {
   "cell_type": "markdown",
   "metadata": {},
   "source": [
    "The interactive widget below calculates the difference between the value of a particular variable by census tract. For instance, the scatter plot of poverty rate will show you the poverty rate of some given Census Tract in 2000 minus the poverty rate of the sam census tract in 2017. Use the graph to answer the questions below. "
   ]
  },
  {
   "cell_type": "code",
   "execution_count": 5,
   "metadata": {
    "collapsed": true
   },
   "outputs": [],
   "source": [
    "####### PUT IN SCATTER PLOT WIDGET OF DIFFERENCES #######"
   ]
  },
  {
   "cell_type": "markdown",
   "metadata": {},
   "source": [
    "### Discuss and Explore\n",
    "\n",
    "\n",
    "Use the widget and the map to support your answers to the following questions."
   ]
  },
  {
   "cell_type": "markdown",
   "metadata": {},
   "source": [
    "1. How many tracts gentrified? \n",
    "\n",
    "2. How many saw poverty decline? \n",
    "\n",
    "3. How many saw the share of homeowners increase? \n",
    "\n",
    "4. How many saw a decline in the share of African American population? \n",
    "\n",
    "\n"
   ]
  }
 ],
 "metadata": {
  "kernelspec": {
   "display_name": "Python 3",
   "language": "python",
   "name": "python3"
  },
  "language_info": {
   "codemirror_mode": {
    "name": "ipython",
    "version": 3
   },
   "file_extension": ".py",
   "mimetype": "text/x-python",
   "name": "python",
   "nbconvert_exporter": "python",
   "pygments_lexer": "ipython3",
   "version": "3.6.0"
  }
 },
 "nbformat": 4,
 "nbformat_minor": 2
}
