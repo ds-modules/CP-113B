{
 "cells": [
  {
   "cell_type": "markdown",
   "metadata": {},
   "source": [
    "# CP-113B "
   ]
  },
  {
   "cell_type": "markdown",
   "metadata": {},
   "source": [
    "## The Jupyter Notebook\n",
    "\n",
    "First of all, note that this page is divided into what are called *cells*. You can navigate cells by clicking on them or by using the up and down arrows. Cells will be highlighted as you navigate them.\n",
    "\n",
    "### Text cells\n",
    "\n",
    "Text cells (like this one) can be edited by double-clicking on them. They're written in a simple format called [Markdown](http://daringfireball.net/projects/markdown/syntax) to add formatting and section headings.  You don't need to learn Markdown, but know the difference between Text Cells and Code Cells."
   ]
  },
  {
   "cell_type": "markdown",
   "metadata": {},
   "source": [
    "### Code cells\n",
    "Other cells contain code in the Python 3 language. Don't worry -- we'll show you everything you need to know to succeed in this part of the class. \n",
    "\n",
    "The fundamental building block of Python code is an **expression**. Cells can contain multiple lines with multiple expressions.  We'll explain what exactly we mean by \"expressions\" in just a moment: first, let's learn how to \"run\" cells."
   ]
  },
  {
   "cell_type": "markdown",
   "metadata": {},
   "source": [
    "### Running cells\n",
    "\n",
    "\"Running a cell\" is equivalent to pressing \"Enter\" on a calculator once you've typed in the expression you want to evaluate: it produces an **output**. When you run a text cell, it outputs clean, organized writing. When you run a code cell, it **computes** all of the expressions you want to evaluate, and can **output** the result of the computation.\n",
    "\n",
    "<p></p>\n",
    "\n",
    "<div class=\"alert alert-info\">\n",
    "To run the code in a code cell, first click on that cell to activate it.  It'll be highlighted with a little green or blue rectangle.  Next, you can either press the <code><b>▶|</b> Run </code> button above or press <b><code>Shift + Return</code></b> or <b><code>Shift + Enter</code></b>. This will run the current cell and select the next one.\n",
    "</div>\n",
    "\n",
    "Text cells are useful for taking notes and keeping your notebook organized, but your data analysis will be done in code cells. We will focus on code cells for the rest of the class."
   ]
  },
  {
   "cell_type": "markdown",
   "metadata": {},
   "source": [
    "#### How to Save Your Work\n",
    "Click on the leftmost  icon in the tool bar (left of the plus icon). <br>\n",
    "Alternatively, you can hit *Ctrl+S* on a PC or *Command+Enter* on a Mac!"
   ]
  },
  {
   "cell_type": "code",
   "execution_count": 1,
   "metadata": {},
   "outputs": [],
   "source": [
    "#Importing Utilitties\n",
    "#These are all pre-written Python packages that we will be using to read in, clean, analyze, and model our data.\n",
    "import os\n",
    "import re\n",
    "import geojson\n",
    "import folium\n",
    "import math\n",
    "import pandas as pd\n",
    "import numpy as np\n",
    "import seaborn as sns\n",
    "import matplotlib.pyplot as plt\n",
    "import ipywidgets as widgets\n",
    "import geopandas as gpd\n",
    "from IPython.display import IFrame\n",
    "plt.style.use('fivethirtyeight')\n",
    "# import ipywidgets as widgets\n",
    "%matplotlib inline"
   ]
  },
  {
   "cell_type": "markdown",
   "metadata": {},
   "source": [
    "## The Data\n",
    "\n",
    "Descriptions, more stuff"
   ]
  },
  {
   "cell_type": "code",
   "execution_count": 6,
   "metadata": {},
   "outputs": [],
   "source": [
    "## If your file is not able to be read in below, uncomment the following line and then try reading in the data again\n",
    "\n",
    "#!pip install xlrd"
   ]
  },
  {
   "cell_type": "code",
   "execution_count": 5,
   "metadata": {},
   "outputs": [],
   "source": [
    "# Read in data\n",
    "#df_2000 = pd.read_excel('CP113B Data for Redlining Analysis.xlsx')\n",
    "df_2017 = pd.read_excel('CP113B_Data_Redlining_Analysis_2017.xlsx')"
   ]
  },
  {
   "cell_type": "markdown",
   "metadata": {},
   "source": [
    "## Description of Data (Carolina)"
   ]
  },
  {
   "cell_type": "markdown",
   "metadata": {},
   "source": [
    "#### Where did this data come from?"
   ]
  },
  {
   "cell_type": "markdown",
   "metadata": {},
   "source": [
    "### What does it all mean?"
   ]
  },
  {
   "cell_type": "code",
   "execution_count": 7,
   "metadata": {},
   "outputs": [
    {
     "data": {
      "text/html": [
       "<div>\n",
       "<style scoped>\n",
       "    .dataframe tbody tr th:only-of-type {\n",
       "        vertical-align: middle;\n",
       "    }\n",
       "\n",
       "    .dataframe tbody tr th {\n",
       "        vertical-align: top;\n",
       "    }\n",
       "\n",
       "    .dataframe thead th {\n",
       "        text-align: right;\n",
       "    }\n",
       "</style>\n",
       "<table border=\"1\" class=\"dataframe\">\n",
       "  <thead>\n",
       "    <tr style=\"text-align: right;\">\n",
       "      <th></th>\n",
       "      <th>FIPS</th>\n",
       "      <th>Name of Area</th>\n",
       "      <th>Total Population</th>\n",
       "      <th>Percent Non-Hispanic White</th>\n",
       "      <th>Percent Black</th>\n",
       "      <th>Percent Hispanic</th>\n",
       "      <th>Percent Asian</th>\n",
       "      <th>Percent Other Race/Ethnicity</th>\n",
       "      <th>Poverty Rate</th>\n",
       "      <th>Percent BA or Higher</th>\n",
       "      <th>High School Drop Out Rate</th>\n",
       "      <th>Median Household Income</th>\n",
       "      <th>Housing Units</th>\n",
       "      <th>Percent Owner Occupied</th>\n",
       "      <th>Median House Value</th>\n",
       "    </tr>\n",
       "  </thead>\n",
       "  <tbody>\n",
       "    <tr>\n",
       "      <th>0</th>\n",
       "      <td>6001400100</td>\n",
       "      <td>Census Tract 4001, Alameda County, California</td>\n",
       "      <td>2991</td>\n",
       "      <td>69.207623</td>\n",
       "      <td>2.808425</td>\n",
       "      <td>3.778001</td>\n",
       "      <td>16.181879</td>\n",
       "      <td>8.024072</td>\n",
       "      <td>4.225352</td>\n",
       "      <td>81.301824</td>\n",
       "      <td>0.0</td>\n",
       "      <td>208393</td>\n",
       "      <td>1254</td>\n",
       "      <td>88.038278</td>\n",
       "      <td>1104500.0</td>\n",
       "    </tr>\n",
       "    <tr>\n",
       "      <th>1</th>\n",
       "      <td>6001400200</td>\n",
       "      <td>Census Tract 4002, Alameda County, California</td>\n",
       "      <td>1997</td>\n",
       "      <td>71.306960</td>\n",
       "      <td>0.901352</td>\n",
       "      <td>8.863295</td>\n",
       "      <td>9.814722</td>\n",
       "      <td>9.113671</td>\n",
       "      <td>5.469142</td>\n",
       "      <td>81.696429</td>\n",
       "      <td>0.0</td>\n",
       "      <td>147500</td>\n",
       "      <td>828</td>\n",
       "      <td>59.782609</td>\n",
       "      <td>1045200.0</td>\n",
       "    </tr>\n",
       "    <tr>\n",
       "      <th>2</th>\n",
       "      <td>6001400300</td>\n",
       "      <td>Census Tract 4003, Alameda County, California</td>\n",
       "      <td>5123</td>\n",
       "      <td>66.972477</td>\n",
       "      <td>9.408550</td>\n",
       "      <td>7.515128</td>\n",
       "      <td>9.759906</td>\n",
       "      <td>6.343939</td>\n",
       "      <td>7.510814</td>\n",
       "      <td>66.311618</td>\n",
       "      <td>0.0</td>\n",
       "      <td>88173</td>\n",
       "      <td>2458</td>\n",
       "      <td>43.653377</td>\n",
       "      <td>943300.0</td>\n",
       "    </tr>\n",
       "    <tr>\n",
       "      <th>3</th>\n",
       "      <td>6001400400</td>\n",
       "      <td>Census Tract 4004, Alameda County, California</td>\n",
       "      <td>3991</td>\n",
       "      <td>65.772989</td>\n",
       "      <td>5.963418</td>\n",
       "      <td>9.446254</td>\n",
       "      <td>12.127286</td>\n",
       "      <td>6.690053</td>\n",
       "      <td>9.248555</td>\n",
       "      <td>80.101394</td>\n",
       "      <td>0.0</td>\n",
       "      <td>102821</td>\n",
       "      <td>1786</td>\n",
       "      <td>36.674132</td>\n",
       "      <td>872400.0</td>\n",
       "    </tr>\n",
       "    <tr>\n",
       "      <th>4</th>\n",
       "      <td>6001400500</td>\n",
       "      <td>Census Tract 4005, Alameda County, California</td>\n",
       "      <td>3944</td>\n",
       "      <td>53.372211</td>\n",
       "      <td>24.112576</td>\n",
       "      <td>10.319473</td>\n",
       "      <td>5.578093</td>\n",
       "      <td>6.617647</td>\n",
       "      <td>9.421951</td>\n",
       "      <td>67.216425</td>\n",
       "      <td>0.0</td>\n",
       "      <td>92375</td>\n",
       "      <td>1625</td>\n",
       "      <td>35.815385</td>\n",
       "      <td>721700.0</td>\n",
       "    </tr>\n",
       "  </tbody>\n",
       "</table>\n",
       "</div>"
      ],
      "text/plain": [
       "         FIPS                                   Name of Area  \\\n",
       "0  6001400100  Census Tract 4001, Alameda County, California   \n",
       "1  6001400200  Census Tract 4002, Alameda County, California   \n",
       "2  6001400300  Census Tract 4003, Alameda County, California   \n",
       "3  6001400400  Census Tract 4004, Alameda County, California   \n",
       "4  6001400500  Census Tract 4005, Alameda County, California   \n",
       "\n",
       "   Total Population  Percent Non-Hispanic White  Percent Black  \\\n",
       "0              2991                   69.207623       2.808425   \n",
       "1              1997                   71.306960       0.901352   \n",
       "2              5123                   66.972477       9.408550   \n",
       "3              3991                   65.772989       5.963418   \n",
       "4              3944                   53.372211      24.112576   \n",
       "\n",
       "   Percent Hispanic  Percent Asian  Percent Other Race/Ethnicity  \\\n",
       "0          3.778001      16.181879                      8.024072   \n",
       "1          8.863295       9.814722                      9.113671   \n",
       "2          7.515128       9.759906                      6.343939   \n",
       "3          9.446254      12.127286                      6.690053   \n",
       "4         10.319473       5.578093                      6.617647   \n",
       "\n",
       "   Poverty Rate  Percent BA or Higher  High School Drop Out Rate  \\\n",
       "0      4.225352             81.301824                        0.0   \n",
       "1      5.469142             81.696429                        0.0   \n",
       "2      7.510814             66.311618                        0.0   \n",
       "3      9.248555             80.101394                        0.0   \n",
       "4      9.421951             67.216425                        0.0   \n",
       "\n",
       "   Median Household Income  Housing Units  Percent Owner Occupied  \\\n",
       "0                   208393           1254               88.038278   \n",
       "1                   147500            828               59.782609   \n",
       "2                    88173           2458               43.653377   \n",
       "3                   102821           1786               36.674132   \n",
       "4                    92375           1625               35.815385   \n",
       "\n",
       "   Median House Value  \n",
       "0           1104500.0  \n",
       "1           1045200.0  \n",
       "2            943300.0  \n",
       "3            872400.0  \n",
       "4            721700.0  "
      ]
     },
     "execution_count": 7,
     "metadata": {},
     "output_type": "execute_result"
    }
   ],
   "source": [
    "# Run this cell to take a look at the first few rows of the data set and answer the questions below\n",
    "## Remember, to edit a cell, double click on it\n",
    "\n",
    "df_2017.head()"
   ]
  },
  {
   "cell_type": "markdown",
   "metadata": {},
   "source": [
    "##### What does a row represent?\n",
    "\n",
    "TODO: REPLACE THIS TEXT WITH YOUR ANSWER"
   ]
  },
  {
   "cell_type": "markdown",
   "metadata": {},
   "source": [
    "##### What information is contained in the columns?\n",
    "\n",
    "TODO: REPLACE THIS TEXT WITH YOUR ANSWER"
   ]
  },
  {
   "cell_type": "markdown",
   "metadata": {},
   "source": [
    "## Correlation (spatial join)"
   ]
  },
  {
   "cell_type": "markdown",
   "metadata": {},
   "source": [
    "#### Definitions: correlation\n",
    "\n"
   ]
  },
  {
   "cell_type": "code",
   "execution_count": null,
   "metadata": {},
   "outputs": [],
   "source": []
  },
  {
   "cell_type": "code",
   "execution_count": null,
   "metadata": {},
   "outputs": [],
   "source": []
  },
  {
   "cell_type": "markdown",
   "metadata": {},
   "source": [
    "## Comparing Variables with a Scatter Plot\n",
    "\n",
    "The following cell builds an interactive widget for you to see a scatter plot of the relationship between any two variables that you choose from the data. It is up to you choose two variables that make sense to compare and draw conclusions. \n",
    "\n",
    "Run the following cell and play around with a few variables to see what you find! Note: some variables (such as 'Name of Area') **may cause the code to error out**, don't worry about this! This is happening because the variable contains string values and the widget works only for numeric values. If you see an error, just pick a different variable from the dropdown menu and continue. \n"
   ]
  },
  {
   "cell_type": "code",
   "execution_count": 8,
   "metadata": {},
   "outputs": [],
   "source": [
    "# widget imports \n",
    "# import the widgets module\n",
    "import ipywidgets as widgets\n",
    "from ipywidgets import interact, interactive, fixed, interact_manual\n",
    "from IPython.display import display"
   ]
  },
  {
   "cell_type": "code",
   "execution_count": 9,
   "metadata": {},
   "outputs": [
    {
     "data": {
      "application/vnd.jupyter.widget-view+json": {
       "model_id": "e51811cd15104143902741b195a6a058",
       "version_major": 2,
       "version_minor": 0
      },
      "text/plain": [
       "interactive(children=(Dropdown(description='a', options=('FIPS', 'Name of Area', 'Total Population', 'Percent …"
      ]
     },
     "metadata": {},
     "output_type": "display_data"
    }
   ],
   "source": [
    "def f(a, b):\n",
    "    # Polynomial best fit line.\n",
    "    df_2017_fit = np.polyfit(df_2017[a],df_2017[b],1)\n",
    "\n",
    "    # Scatter plots.\n",
    "    ax1= df_2017.plot(kind='scatter', x=a,y=b, color='blue',alpha=0.5, figsize=(12,6))\n",
    "\n",
    "    # Regression lines.\n",
    "    plt.plot(df_2017[a],df_2017_fit[0]*df_2017[a]+df_2017_fit[1], color='darkblue', linewidth=2)\n",
    "\n",
    "    # Regression equations.\n",
    "    x_text = max(df_2017[a])\n",
    "    y_text = min(df_2017[b])\n",
    "    plt.text(x_text,y_text,'y={:.2f}+{:.2f}*x'.format(df_2017_fit[1],df_2017_fit[0]),color='darkgreen',size=12, horizontalalignment='right',\n",
    "         verticalalignment='top')\n",
    "\n",
    "    # Legend, title and labels.\n",
    "    plt.legend(labels=['DF_2017'+'Regresion Line','DF_2017'])\n",
    "    plt.title('Relationship between '+ a + ' and ' + b, size=18)\n",
    "    plt.xlabel(a, size=12)\n",
    "    plt.ylabel(b, size=12);\n",
    "    corr = df_2017.corr()[a][b]\n",
    "    print('Correlation: ',corr)\n",
    "    \n",
    "display(widgets.interactive(f, a=df_2017.columns.tolist(),b=df_2017.columns.tolist()))"
   ]
  },
  {
   "cell_type": "markdown",
   "metadata": {
    "collapsed": true
   },
   "source": [
    "#### Write down and compare at least 6 variable correlations that you see.\n",
    "\n",
    "###### TODO\n",
    "\n",
    "1. Replace\n",
    "\n",
    "2. This\n",
    "\n",
    "3. Text\n",
    "\n",
    "4. With\n",
    "\n",
    "5. Your\n",
    "\n",
    "6. Answer\n",
    "\n"
   ]
  },
  {
   "cell_type": "markdown",
   "metadata": {},
   "source": []
  }
 ],
 "metadata": {
  "kernelspec": {
   "display_name": "Python 3",
   "language": "python",
   "name": "python3"
  },
  "language_info": {
   "codemirror_mode": {
    "name": "ipython",
    "version": 3
   },
   "file_extension": ".py",
   "mimetype": "text/x-python",
   "name": "python",
   "nbconvert_exporter": "python",
   "pygments_lexer": "ipython3",
   "version": "3.6.8"
  },
  "widgets": {
   "state": {
    "17bdfcdd652d4554a74790bf7577efda": {
     "views": [
      {
       "cell_index": 17
      }
     ]
    },
    "6895d89b7c244ec988bb9044d251a289": {
     "views": [
      {
       "cell_index": 17
      }
     ]
    },
    "8a105d4b0e414e24bd676751ee2b44a7": {
     "views": [
      {
       "cell_index": 17
      }
     ]
    },
    "c8b8e0e6f1504ce1a770aae394d14a0d": {
     "views": [
      {
       "cell_index": 17
      }
     ]
    },
    "d95315d8be154ec8851ca5a0e7a6146d": {
     "views": [
      {
       "cell_index": 17
      }
     ]
    },
    "ea737f4996d04727b79f1a522f72f13c": {
     "views": [
      {
       "cell_index": 17
      }
     ]
    },
    "f23dfb3ecc7c435291d845d8a756ac7f": {
     "views": [
      {
       "cell_index": 17
      }
     ]
    }
   },
   "version": "1.2.0"
  }
 },
 "nbformat": 4,
 "nbformat_minor": 2
}
