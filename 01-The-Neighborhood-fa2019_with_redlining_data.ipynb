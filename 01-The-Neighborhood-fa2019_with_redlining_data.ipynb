{
 "cells": [
  {
   "cell_type": "markdown",
   "metadata": {},
   "source": [
    "Run the code cell below with the ▶| button above to set up this notebook, or type `SHIFT-ENTER`:"
   ]
  },
  {
   "cell_type": "code",
   "execution_count": 1,
   "metadata": {},
   "outputs": [],
   "source": [
    "from datascience import *\n",
    "import pandas as pd\n",
    "import geojson\n",
    "import numpy as np\n",
    "import matplotlib.pyplot as plt\n",
    "import folium\n",
    "from IPython.display import HTML, display, IFrame\n",
    "from folium import plugins\n",
    "%matplotlib inline\n",
    "from scipy import stats\n",
    "import ipywidgets as widgets\n",
    "from soc_module import *\n",
    "import warnings\n",
    "warnings.filterwarnings('ignore')\n",
    "from datetime import datetime\n",
    "import re"
   ]
  },
  {
   "cell_type": "markdown",
   "metadata": {},
   "source": [
    "# Sociology 130 Module: \"The Neighborhood Project\"\n",
    "\n",
    "Welcome to the data science part of your project! You have gathered data and entered it [here](https://goo.gl/forms/eY1mephilS6VqAT83) from your assigned census tracts.  Now it's time to explore our class data and quantify our observations using Python, a popular programming language used in data science. \n",
    "\n",
    "You won't need any prior programming knowledge to do this! The purpose of this module is not to teach you programming, but rather to show you the power of these tools and give you the intuition for how they work. It also allows us to quickly produce summarizations of our data!\n",
    "\n",
    "## Table of Contents\n",
    "\n",
    "0. [Python and Jupyter Notebooks](#jupyter)\n",
    "1. [Class Data](#yourdata)\n",
    "2. [Our Metrics](#ourmetrics)\n",
    "3. [Census Data](#census)\n",
    "4. [Correlation](#correlation)\n",
    "5. [Regression](#regression)"
   ]
  },
  {
   "cell_type": "markdown",
   "metadata": {},
   "source": [
    "#### Completing the Notebooks\n",
    "\n",
    "\n",
    "<div class=\"alert alert-info\"> \n",
    "\n",
    "**QUESTION** cells are in blue and ask you to answers questions or fill in code cells. To receive full credit for your assignment, you must complete all **QUESTION** cells.\n",
    "\n",
    "\n",
    "</div>\n",
    "\n"
   ]
  },
  {
   "cell_type": "markdown",
   "metadata": {},
   "source": [
    "# Part 0: Introduction to Python and Jupyter Notebooks: <a id='jupyter'></a>\n",
    "\n",
    "## 1. Cells and Code\n",
    "In a notebook, each rectangle containing text or code is called a *cell*.\n",
    "\n",
    "Cells (like this one) can be edited by double-clicking on them. This cell is a text cell, written in a simple format called [Markdown](http://daringfireball.net/projects/markdown/syntax) to add formatting and section headings.  You don't need to worry about Markdown today, but it's a pretty fun+easy tool to learn.\n",
    "\n",
    "After you edit a cell, click the \"run cell\" button at the top that looks like ▶| to confirm any changes. (Try not to delete the instructions.) You can also press `SHIFT-ENTER` to run any cell or progress from one cell to the next.\n",
    "\n",
    "Other cells contain code in the Python programming language.  Running a code cell will execute all of the code it contains.\n",
    "\n",
    "Try running this cell:"
   ]
  },
  {
   "cell_type": "code",
   "execution_count": 2,
   "metadata": {},
   "outputs": [
    {
     "name": "stdout",
     "output_type": "stream",
     "text": [
      "Hello, World!\n"
     ]
    }
   ],
   "source": [
    "print(\"Hello, World!\")"
   ]
  },
  {
   "cell_type": "markdown",
   "metadata": {},
   "source": [
    "When you need to run an entire Jupyter notebook, click on the \"Cell\" option at the top and then select \"Run All\". This should execute each cell of the notebook."
   ]
  },
  {
   "cell_type": "code",
   "execution_count": 3,
   "metadata": {},
   "outputs": [],
   "source": [
    "# <-- Hash symbol marks a \"comment\" in Python that would not be executed or printed out. \n",
    "# Comments are often used to explain the actual code. "
   ]
  },
  {
   "cell_type": "markdown",
   "metadata": {},
   "source": [
    "### Technical Issues\n",
    "If you run a cell and see a `NameError` message below the cell, you probably forgot to run one of the cells above it. Make sure you run all the cells in order each time you open the notebook. You can do this easily by going to the \"Cell\" menu at the top and clicking \"Run all\".\n",
    "\n",
    "If at the top right side of the notebook you get a flag \"Cannot Connect to Kernel\", this may have happened due to poor internet connectivity. Try clicking \"Kernel\" at the top left and selecting either \"Restart\" or \"Restart & Run All\".\n",
    "\n",
    "Still having issues? **Come to Data Peer Consulting Office Hours at 3rd Floor Moffitt!** Find a Peer Consultant with the expertise you need and get your questions answered: [Office Hours Schedule is linked here]( https://data.berkeley.edu/education/peer-consulting)"
   ]
  },
  {
   "cell_type": "markdown",
   "metadata": {},
   "source": [
    "### Save and Access the Notebook\n",
    "To save your progress in your Jupyter notebook, click on the floppy disk icon at the top left corner or go to the File menu and select \"Save and Checkpoint\". If you want to come back to this notebook later, use the link provided by your professor or go to https://datahub.berkeley.edu and sign in with your bCourses account."
   ]
  },
  {
   "cell_type": "markdown",
   "metadata": {},
   "source": [
    "## 2. Basic Python Functionality\n",
    "\n",
    "[Optional] Click on the [link](http://datahub.berkeley.edu/user-redirect/interact?account=ds-modules&repo=SOC-130AC&branch=master&path=Part-0-Intro-to-Python.ipynb) which will take you to another Jupyter notebook where you can further explore Python. "
   ]
  },
  {
   "cell_type": "markdown",
   "metadata": {},
   "source": [
    "# Part 1: Class Data<a id='yourdata'></a>\n",
    "\n",
    "We can read in the data you submitted through the form by asking Google for the form information and turning it into a table."
   ]
  },
  {
   "cell_type": "code",
   "execution_count": 4,
   "metadata": {
    "scrolled": false
   },
   "outputs": [
    {
     "data": {
      "text/html": [
       "<table border=\"1\" class=\"dataframe\">\n",
       "    <thead>\n",
       "        <tr>\n",
       "            <th>Image #1</th> <th>Image #1 Address</th> <th>Other thoughts or comments for Image #1</th> <th>Image #2</th> <th>Image #2 Address</th> <th>Other thoughts or comments for Image #2</th> <th>Image #3</th> <th>Image #3 Address</th> <th>Other thoughts or comments for Image #3</th> <th>Image #4</th> <th>Other thoughts or comments for Image #4</th> <th>Image #4 Address</th> <th>Image #5</th> <th>Image #5 Address</th> <th>Other thoughts or comments for Image #5</th> <th>Image #1 coordinates</th> <th>Image #2 coordinates</th> <th>Image #3 coordinates</th> <th>Image #4 coordinates</th> <th>Image #5 coordinates</th> <th>Census Tract</th>\n",
       "        </tr>\n",
       "    </thead>\n",
       "    <tbody>\n",
       "        <tr>\n",
       "            <td>https://drive.google.com/open?id=1RmWTmeeYjbIgKaFhrgQE1M ...</td> <td>601 Webster St, Oakland, CA, 94609      </td> <td>This was one of a few stores that were gated up during t ...</td> <td>https://drive.google.com/open?id=1PXD3bu_7j2vVDhS7I6HRBa ...</td> <td>601 Webster Street, Oakland, CA, 94609      </td> <td>The Salvation Army was closed on this particular day but ...</td> <td>https://drive.google.com/open?id=1KY1Mvgc9-eLqvG6KkNwsgc ...</td> <td>601 Webster Street, Oakland, CA, 94609  </td> <td> I should have gone in here to try the food, it smelled  ...</td> <td>https://drive.google.com/open?id=1keCgzxOTujwnZ9EQB4skHb ...</td> <td>UGS crew --- possibly a gang or street dance team? There ...</td> <td>601 Webster St, Oakland, CA, 94609       </td> <td>nan                                                         </td> <td>nan                                     </td> <td>nan                                                         </td> <td>[37.798025, -122.272283]             </td> <td>[37.798025, -122.272283]             </td> <td>[37.798025, -122.272283]             </td> <td>[37.798025, -122.272283]             </td> <td>nan                                 </td> <td>4030        </td>\n",
       "        </tr>\n",
       "        <tr>\n",
       "            <td>https://drive.google.com/open?id=1stJ2WAm5XvqD1TfKRLmGG_ ...</td> <td>931 Carmel Ave, Albany, CA, 94706       </td> <td>nan                                                         </td> <td>https://drive.google.com/open?id=1UlT_fZkGjDLHoV9onuUMU0 ...</td> <td>1362 Marin Ave, Albany, CA , 94706          </td> <td>nan                                                         </td> <td>https://drive.google.com/open?id=1-eg5yVHgMiRtJCpbgZQl8f ...</td> <td>1391 Solano Ave, Albany, CA, 94706      </td> <td>nan                                                         </td> <td>https://drive.google.com/open?id=1mouPFYSJ16OWxgNGtnsb6C ...</td> <td>nan                                                         </td> <td>1391 Solano Ave, Albany, CA, 94706       </td> <td>https://drive.google.com/open?id=1ymFvN6smtsGKB96TLb-1HX ...</td> <td>708 Solano Ave, Albany, CA, 94706       </td> <td>nan                                                         </td> <td>[37.8899946030529, -122.289521691888]</td> <td>[37.8883455055134, -122.288877697661]</td> <td>[37.8908002222222, -122.290461888889]</td> <td>[37.8908002222222, -122.290461888889]</td> <td>[37.888633027305, -122.307014522052]</td> <td>4205        </td>\n",
       "        </tr>\n",
       "        <tr>\n",
       "            <td>https://drive.google.com/open?id=1kpIEXVR335w3vtrZj0Qxz6 ...</td> <td>2200 Los Angeles St, Berkeley, CA, 94704</td> <td>The only house on Los Angeles Street with a single giant ...</td> <td>https://drive.google.com/open?id=1zRsqDdsZBeYDSho_EuiZ6G ...</td> <td>2210 Los Angeles Street, Berkeley, CA, 94704</td> <td>Another example of a well-maintained house on Los Angele ...</td> <td>https://drive.google.com/open?id=12Fqi0YrnKfV9eqelGoyS__ ...</td> <td>1136 Spruce Street, Berkeley, CA, 94704 </td> <td>One of many houses that’s currently being renovated on w ...</td> <td>https://drive.google.com/open?id=189j-3sZAefhs8gH35aEY1R ...</td> <td>PG&E is currently working on Spruce Street, with many “R ...</td> <td>1128 Spruce Street, Berkeley, CA, 94704  </td> <td>https://drive.google.com/open?id=1Hn70fF7xfZh1IT7oxwUimO ...</td> <td>1133 Spruce Street, Berkeley, CA, 94704 </td> <td>This house is located at the east side of Spruce Street. ...</td> <td>(37.8883409, -122.270922)            </td> <td>(37.8883409, -122.270922)            </td> <td>[37.8876024042097, -122.266919689902]</td> <td>[37.8877886656757, -122.266948315416]</td> <td>[37.8879082848895, -122.26673971951]</td> <td>4214        </td>\n",
       "        </tr>\n",
       "        <tr>\n",
       "            <td>https://drive.google.com/open?id=15rdCtKIgX-Fb8WCHI4d8Ke ...</td> <td>378 8th Street, Oakland, CA, 94607      </td> <td>nan                                                         </td> <td>https://drive.google.com/open?id=1hMNbBE8pc9Q82jcr4gK-qn ...</td> <td>360 8th Street, Oakland, CA, 94607          </td> <td>nan                                                         </td> <td>https://drive.google.com/open?id=1ykCymHyvIELaRbnRcrAdp- ...</td> <td>376 8th Street, Oakland, CA, 94607      </td> <td>nan                                                         </td> <td>https://drive.google.com/open?id=1rfVrj-7QZkbfUWazVV-P2e ...</td> <td>nan                                                         </td> <td>800 Franklin Street, Oakland, CA, 94607  </td> <td>nan                                                         </td> <td>nan                                     </td> <td>nan                                                         </td> <td>[37.7995886695836, -122.272012934734]</td> <td>[37.7994604111548, -122.27167993785] </td> <td>[37.8020326, -122.2784424]           </td> <td>[37.799789, -122.272409]             </td> <td>nan                                 </td> <td>4030        </td>\n",
       "        </tr>\n",
       "        <tr>\n",
       "            <td>https://drive.google.com/open?id=1F1B-1oHlh9y6zz-yFxUGUz ...</td> <td>1645 Hopkins Street, Berkeley, CA, 94707</td> <td>Unfortunately, this building was at the end of the walk- ...</td> <td>https://drive.google.com/open?id=1ycZ91fitTHwhiVOyESVoJo ...</td> <td>1226 Carlotta Avenue, Berkeley, CA, 94707   </td> <td>For the stretch from the intersection of Carlotta Ave. a ...</td> <td>https://drive.google.com/open?id=1S_BJ03A64lP9Q2pV34bY8z ...</td> <td>1647 Hopkins Street, Berkeley, CA, 94707</td> <td>nan                                                         </td> <td>https://drive.google.com/open?id=1a4rgJSw2qIMk130GvsH4d0 ...</td> <td>I felt that this residence was fairly representative of  ...</td> <td>1288 Carlotta Avenue, Berkeley, CA, 94707</td> <td>https://drive.google.com/open?id=1clCPXj-QBzMpU4eDkE_LB4 ...</td> <td>1611 Hopkins Street, Berkeley, CA, 94707</td> <td>This building had a mattress leaning on one of the outsi ...</td> <td>[37.88256465, -122.28065260328]      </td> <td>[37.8839914809146, -122.28048481675] </td> <td>[37.8824167547207, -122.280525537024]</td> <td>[37.8826557841063, -122.280673827285]</td> <td>[37.8822196, -122.281236836644]     </td> <td>4213        </td>\n",
       "        </tr>\n",
       "    </tbody>\n",
       "</table>\n",
       "<p>... (127 rows omitted)</p>"
      ],
      "text/plain": [
       "<IPython.core.display.HTML object>"
      ]
     },
     "metadata": {},
     "output_type": "display_data"
    },
    {
     "data": {
      "text/html": [
       "<table border=\"1\" class=\"dataframe\">\n",
       "    <thead>\n",
       "        <tr>\n",
       "            <th>Timestamp</th> <th>Census Tract</th> <th>Amount of Beer/Liquor Bottles (1 to 5 scale)</th> <th>Amount of Cigarette/Cigar Butts (1 to 5 scale)</th> <th>Amount of Condoms (1 to 5 scale)</th> <th>Amount of Garbage (1 to 5 scale)</th> <th>Abandoned Cars (Y?N)</th> <th>Treatment (1 (Friendly) to 5 (Suspicion) scale)</th> <th>Condition of Buildings (1 (Good) to 4 (Poor) scale)</th> <th>Graffiti (Y/N)</th> <th>Fenching (1 (None) to 4 (High mesh) scale)</th> <th>Renovations (Y/N)</th> <th>Types of Establishments</th> <th>Amount of Trees Linked the Block Fence (1 (Few) to 3 (Most) scale)</th> <th>Public Transporation Available (Y/N)</th> <th>Private Security Visible (Y/N)</th> <th>Police Visible (Y/N)</th>\n",
       "        </tr>\n",
       "    </thead>\n",
       "    <tbody>\n",
       "        <tr>\n",
       "            <td>2019-10-25 12:52:40</td> <td>4030        </td> <td>1                                           </td> <td>2                                             </td> <td>1                               </td> <td>2                               </td> <td>0                   </td> <td>4                                              </td> <td>4                                                  </td> <td>1             </td> <td>3                                         </td> <td>1                </td> <td>Bodega deli corner-store convenience store, Eating place ...</td> <td>1                                                                 </td> <td>0                                   </td> <td>0                             </td> <td>0                   </td>\n",
       "        </tr>\n",
       "        <tr>\n",
       "            <td>2019-10-25 12:54:25</td> <td>4205        </td> <td>1                                           </td> <td>1                                             </td> <td>1                               </td> <td>1                               </td> <td>0                   </td> <td>1                                              </td> <td>1                                                  </td> <td>0             </td> <td>1                                         </td> <td>0                </td> <td>Banks or credit unions, Community center, Eating places/ ...</td> <td>3                                                                 </td> <td>1                                   </td> <td>0                             </td> <td>0                   </td>\n",
       "        </tr>\n",
       "        <tr>\n",
       "            <td>2019-10-25 14:32:16</td> <td>4214        </td> <td>1                                           </td> <td>1                                             </td> <td>1                               </td> <td>1                               </td> <td>0                   </td> <td>2                                              </td> <td>2                                                  </td> <td>0             </td> <td>2                                         </td> <td>1                </td> <td>Schools or daycare centers                                  </td> <td>3                                                                 </td> <td>1                                   </td> <td>0                             </td> <td>0                   </td>\n",
       "        </tr>\n",
       "        <tr>\n",
       "            <td>2019-10-25 15:27:57</td> <td>4030        </td> <td>1                                           </td> <td>2                                             </td> <td>1                               </td> <td>3                               </td> <td>0                   </td> <td>3                                              </td> <td>2                                                  </td> <td>1             </td> <td>1                                         </td> <td>0                </td> <td>Banks or credit unions, Eating places/restaurants, Super ...</td> <td>1                                                                 </td> <td>0                                   </td> <td>0                             </td> <td>0                   </td>\n",
       "        </tr>\n",
       "        <tr>\n",
       "            <td>2019-10-25 21:24:53</td> <td>4213        </td> <td>1                                           </td> <td>1                                             </td> <td>1                               </td> <td>1                               </td> <td>0                   </td> <td>2                                              </td> <td>4                                                  </td> <td>0             </td> <td>2                                         </td> <td>1                </td> <td>Professional offices (doctor dentist lawyer accountant r ...</td> <td>3                                                                 </td> <td>1                                   </td> <td>0                             </td> <td>0                   </td>\n",
       "        </tr>\n",
       "    </tbody>\n",
       "</table>\n",
       "<p>... (127 rows omitted)</p>"
      ],
      "text/plain": [
       "<IPython.core.display.HTML object>"
      ]
     },
     "metadata": {},
     "output_type": "display_data"
    }
   ],
   "source": [
    "# The following two lines read two spreadsheets.\n",
    "image_data = Table.read_table(\"data/image_data.csv\")\n",
    "class_data = Table.read_table(\"data/class_data.csv\")\n",
    "\n",
    "# The following block cleans entries in the \"Census Tract\" column.\n",
    "image_data[\"Census Tract\"] = [str(i) for i in image_data[\"Census Tract\"]]\n",
    "class_data[\"Census Tract\"] = [str(i) for i in class_data[\"Census Tract\"]]\n",
    "sub = lambda s: re.sub(r\"\\.[0-9]*\", \"\", s) # Defines a function that removes decimals.\n",
    "\n",
    "# Applies the function defined above to the \"Census Tract\" column in both tables.\n",
    "image_data[\"Census Tract\"] = image_data.apply(sub, \"Census Tract\")\n",
    "class_data[\"Census Tract\"] = class_data.apply(sub, \"Census Tract\")\n",
    "\n",
    "image_data.show(5)\n",
    "class_data.show(5)"
   ]
  },
  {
   "cell_type": "markdown",
   "metadata": {},
   "source": [
    "That's a lot of columns! Now that our data is inside the `class_data` variable, we can ask that varible for some information. We can get a list of the column names with the `.labels` attribute of the table:"
   ]
  },
  {
   "cell_type": "code",
   "execution_count": 5,
   "metadata": {},
   "outputs": [
    {
     "data": {
      "text/plain": [
       "('Timestamp',\n",
       " 'Census Tract',\n",
       " 'Amount of Beer/Liquor Bottles (1 to 5 scale)',\n",
       " 'Amount of Cigarette/Cigar Butts (1 to 5 scale)',\n",
       " 'Amount of Condoms (1 to 5 scale)',\n",
       " 'Amount of Garbage (1 to 5 scale)',\n",
       " 'Abandoned Cars (Y?N)',\n",
       " 'Treatment (1 (Friendly) to 5 (Suspicion) scale)',\n",
       " 'Condition of Buildings (1 (Good) to 4 (Poor) scale)',\n",
       " 'Graffiti (Y/N)',\n",
       " 'Fenching (1 (None) to 4 (High mesh) scale)',\n",
       " 'Renovations (Y/N)',\n",
       " 'Types of Establishments',\n",
       " 'Amount of Trees Linked the Block Fence (1 (Few) to 3 (Most) scale)',\n",
       " 'Public Transporation Available (Y/N)',\n",
       " 'Private Security Visible (Y/N)',\n",
       " 'Police Visible (Y/N)')"
      ]
     },
     "execution_count": 5,
     "metadata": {},
     "output_type": "execute_result"
    }
   ],
   "source": [
    "class_data.labels"
   ]
  },
  {
   "cell_type": "markdown",
   "metadata": {},
   "source": [
    "Let's get some summary statistics and do some plotting.\n",
    "\n",
    "How many of you reported on which census tracts?"
   ]
  },
  {
   "cell_type": "code",
   "execution_count": 6,
   "metadata": {},
   "outputs": [
    {
     "data": {
      "text/html": [
       "<table border=\"1\" class=\"dataframe\">\n",
       "    <thead>\n",
       "        <tr>\n",
       "            <th>Census Tract</th> <th>count</th>\n",
       "        </tr>\n",
       "    </thead>\n",
       "    <tbody>\n",
       "        <tr>\n",
       "            <td>4005        </td> <td>6    </td>\n",
       "        </tr>\n",
       "        <tr>\n",
       "            <td>4006        </td> <td>6    </td>\n",
       "        </tr>\n",
       "        <tr>\n",
       "            <td>4007        </td> <td>6    </td>\n",
       "        </tr>\n",
       "        <tr>\n",
       "            <td>4010        </td> <td>6    </td>\n",
       "        </tr>\n",
       "        <tr>\n",
       "            <td>4014        </td> <td>7    </td>\n",
       "        </tr>\n",
       "        <tr>\n",
       "            <td>4027        </td> <td>6    </td>\n",
       "        </tr>\n",
       "        <tr>\n",
       "            <td>4028        </td> <td>5    </td>\n",
       "        </tr>\n",
       "        <tr>\n",
       "            <td>4030        </td> <td>6    </td>\n",
       "        </tr>\n",
       "        <tr>\n",
       "            <td>4031        </td> <td>5    </td>\n",
       "        </tr>\n",
       "        <tr>\n",
       "            <td>4033        </td> <td>6    </td>\n",
       "        </tr>\n",
       "        <tr>\n",
       "            <td>4201        </td> <td>6    </td>\n",
       "        </tr>\n",
       "        <tr>\n",
       "            <td>4202        </td> <td>5    </td>\n",
       "        </tr>\n",
       "        <tr>\n",
       "            <td>4203        </td> <td>3    </td>\n",
       "        </tr>\n",
       "        <tr>\n",
       "            <td>4204        </td> <td>4    </td>\n",
       "        </tr>\n",
       "        <tr>\n",
       "            <td>4205        </td> <td>5    </td>\n",
       "        </tr>\n",
       "        <tr>\n",
       "            <td>4206        </td> <td>5    </td>\n",
       "        </tr>\n",
       "        <tr>\n",
       "            <td>4212        </td> <td>6    </td>\n",
       "        </tr>\n",
       "        <tr>\n",
       "            <td>4213        </td> <td>6    </td>\n",
       "        </tr>\n",
       "        <tr>\n",
       "            <td>4214        </td> <td>6    </td>\n",
       "        </tr>\n",
       "        <tr>\n",
       "            <td>4217        </td> <td>6    </td>\n",
       "        </tr>\n",
       "        <tr>\n",
       "            <td>4224        </td> <td>5    </td>\n",
       "        </tr>\n",
       "        <tr>\n",
       "            <td>4229        </td> <td>6    </td>\n",
       "        </tr>\n",
       "        <tr>\n",
       "            <td>4235        </td> <td>4    </td>\n",
       "        </tr>\n",
       "        <tr>\n",
       "            <td>4239        </td> <td>6    </td>\n",
       "        </tr>\n",
       "    </tbody>\n",
       "</table>"
      ],
      "text/plain": [
       "<IPython.core.display.HTML object>"
      ]
     },
     "metadata": {},
     "output_type": "display_data"
    }
   ],
   "source": [
    "class_data.group(\"Census Tract\").show()"
   ]
  },
  {
   "cell_type": "markdown",
   "metadata": {},
   "source": [
    "\n",
    "We can use the `.plot.barh()` method to this to visualize the counts:"
   ]
  },
  {
   "cell_type": "code",
   "execution_count": 7,
   "metadata": {},
   "outputs": [
    {
     "data": {
      "image/png": "[encoded data removed]",
      "text/plain": [
       "<Figure size 432x864 with 1 Axes>"
      ]
     },
     "metadata": {
      "needs_background": "light"
     },
     "output_type": "display_data"
    }
   ],
   "source": [
    "class_data.group(\"Census Tract\").barh(\"Census Tract\")"
   ]
  },
  {
   "cell_type": "markdown",
   "metadata": {},
   "source": [
    "One of the key principles of coding is to recycle the code we have written and reduce repetition.\n",
    "\n",
    "We can write a short function, `bar_chart_column`, to plot the counts for any of our columns in the table. All we have to do is select the column label in the dropdown."
   ]
  },
  {
   "cell_type": "code",
   "execution_count": 8,
   "metadata": {},
   "outputs": [
    {
     "data": {
      "application/vnd.jupyter.widget-view+json": {
       "model_id": "1eb95139f35348dcb053a6cc901bd6f0",
       "version_major": 2,
       "version_minor": 0
      },
      "text/plain": [
       "interactive(children=(Dropdown(description='Column', options=('Census Tract', 'Amount of Beer/Liquor Bottles (…"
      ]
     },
     "metadata": {},
     "output_type": "display_data"
    }
   ],
   "source": [
    "# This function takes one argument: COL.\n",
    "# It then draws a bar chart for this column.\n",
    "def bar_chart_column(col):\n",
    "    bar_chart_data.group(col).barh(col)\n",
    "\n",
    "bar_chart_data = class_data.drop(\"What kinds of establishments are there on the block face? Select all that apply.\")\n",
    "\n",
    "# Interative widget. Feel free to choose any column\n",
    "# in the dropdown menu.\n",
    "dropdown = widgets.Dropdown(options=bar_chart_data.labels[1:], description=\"Column\")\n",
    "display(widgets.interactive(bar_chart_column, col=dropdown))"
   ]
  },
  {
   "cell_type": "markdown",
   "metadata": {},
   "source": [
    "We can then ask for these columns and plot their means too."
   ]
  },
  {
   "cell_type": "code",
   "execution_count": 9,
   "metadata": {},
   "outputs": [
    {
     "data": {
      "image/png": "[encoded data removed]",
      "text/plain": [
       "<Figure size 432x288 with 1 Axes>"
      ]
     },
     "metadata": {
      "needs_background": "light"
     },
     "output_type": "display_data"
    }
   ],
   "source": [
    "(class_data\n",
    "    .to_df()\n",
    "    .iloc[:,2:] # Keeps all the rows, but keeps only columns that have indices >= 2\n",
    "    .mean()     # Takes the mean of each column\n",
    "    .plot       # Draws a bar chart.\n",
    "    .barh());"
   ]
  },
  {
   "cell_type": "markdown",
   "metadata": {
    "collapsed": true
   },
   "source": [
    "One of the questions had checkbox answers that listed all of the establishments that were observed by each student in their assigned census tract. Let's create a seperate column for each of the possible options. A value of `1` in the column indicates that the estalishment was observed. A value of `0` indicates that the establishment was not observed.\n",
    "\n",
    "This is called **one-hot encoding**."
   ]
  },
  {
   "cell_type": "code",
   "execution_count": 10,
   "metadata": {},
   "outputs": [
    {
     "data": {
      "text/html": [
       "<table border=\"1\" class=\"dataframe\">\n",
       "    <thead>\n",
       "        <tr>\n",
       "            <th>Types of Establishments</th> <th>Bodega deli corner-store convenience store</th> <th>Eating places/restaurants</th> <th>Fast food or take-out places</th> <th>Banks or credit unions</th> <th>Community center</th> <th>Gas station</th> <th>Post office</th> <th>Supermarkets/grocery stores</th> <th>Schools or daycare centers</th> <th>Professional offices (doctor dentist lawyer accountant real estate)</th> <th>Parks</th> <th>nan</th> <th>Bars and alcoholic beverage services</th> <th>Chain retail stores</th> <th>Auto repair/auto body shop</th> <th>Liquor stores or Marijuana Dispensaries</th> <th>Warehouses</th> <th>Playgrounds</th> <th>Manufacturing</th> <th>N/A</th> <th>Payday lenders check cashers or pawn shops</th> <th>Fire station</th> <th>Police station</th>\n",
       "        </tr>\n",
       "    </thead>\n",
       "    <tbody>\n",
       "        <tr>\n",
       "            <td>Bodega deli corner-store convenience store, Eating place ...</td> <td>1                                         </td> <td>1                        </td> <td>1                           </td> <td>0                     </td> <td>0               </td> <td>0          </td> <td>0          </td> <td>0                          </td> <td>0                         </td> <td>0                                                                  </td> <td>0    </td> <td>0   </td> <td>0                                   </td> <td>0                  </td> <td>0                         </td> <td>0                                      </td> <td>0         </td> <td>0          </td> <td>0            </td> <td>0   </td> <td>0                                         </td> <td>0           </td> <td>0             </td>\n",
       "        </tr>\n",
       "        <tr>\n",
       "            <td>Banks or credit unions, Community center, Eating places/ ...</td> <td>0                                         </td> <td>1                        </td> <td>1                           </td> <td>1                     </td> <td>1               </td> <td>1          </td> <td>1          </td> <td>1                          </td> <td>0                         </td> <td>0                                                                  </td> <td>0    </td> <td>0   </td> <td>0                                   </td> <td>0                  </td> <td>0                         </td> <td>0                                      </td> <td>0         </td> <td>0          </td> <td>0            </td> <td>0   </td> <td>0                                         </td> <td>0           </td> <td>0             </td>\n",
       "        </tr>\n",
       "        <tr>\n",
       "            <td>Schools or daycare centers                                  </td> <td>0                                         </td> <td>0                        </td> <td>0                           </td> <td>0                     </td> <td>0               </td> <td>0          </td> <td>0          </td> <td>0                          </td> <td>1                         </td> <td>0                                                                  </td> <td>0    </td> <td>0   </td> <td>0                                   </td> <td>0                  </td> <td>0                         </td> <td>0                                      </td> <td>0         </td> <td>0          </td> <td>0            </td> <td>0   </td> <td>0                                         </td> <td>0           </td> <td>0             </td>\n",
       "        </tr>\n",
       "        <tr>\n",
       "            <td>Banks or credit unions, Eating places/restaurants, Super ...</td> <td>0                                         </td> <td>1                        </td> <td>0                           </td> <td>1                     </td> <td>0               </td> <td>0          </td> <td>0          </td> <td>1                          </td> <td>0                         </td> <td>0                                                                  </td> <td>0    </td> <td>0   </td> <td>0                                   </td> <td>0                  </td> <td>0                         </td> <td>0                                      </td> <td>0         </td> <td>0          </td> <td>0            </td> <td>0   </td> <td>0                                         </td> <td>0           </td> <td>0             </td>\n",
       "        </tr>\n",
       "        <tr>\n",
       "            <td>Professional offices (doctor dentist lawyer accountant r ...</td> <td>0                                         </td> <td>0                        </td> <td>0                           </td> <td>0                     </td> <td>0               </td> <td>0          </td> <td>0          </td> <td>0                          </td> <td>0                         </td> <td>1                                                                  </td> <td>0    </td> <td>0   </td> <td>0                                   </td> <td>0                  </td> <td>0                         </td> <td>0                                      </td> <td>0         </td> <td>0          </td> <td>0            </td> <td>0   </td> <td>0                                         </td> <td>0           </td> <td>0             </td>\n",
       "        </tr>\n",
       "    </tbody>\n",
       "</table>\n",
       "<p>... (127 rows omitted)</p>"
      ],
      "text/plain": [
       "<IPython.core.display.HTML object>"
      ]
     },
     "metadata": {},
     "output_type": "display_data"
    }
   ],
   "source": [
    "# Extracts responses about establishments.\n",
    "raw_establishment_responses = class_data.to_df().iloc[:, 12]\n",
    "\n",
    "# For each response, split it into a list of options selected.\n",
    "split_establishment_responses = [response.split(\", \") for response in raw_establishment_responses\n",
    "                                 if not pd.isnull(response)]\n",
    "\n",
    "# The variable above is a list of lists.\n",
    "# We want to flatten the list.\n",
    "establishments = pd.Series([item for sublist in split_establishment_responses for item in sublist])\n",
    "\n",
    "\n",
    "# Now let's do one-hot encoding!\n",
    "ests_table = Table.empty().with_column(\"Types of Establishments\", class_data[\"Types of Establishments\"])\n",
    "\n",
    "for establishment in establishments.unique():\n",
    "    establishment_data = []\n",
    "\n",
    "    for row in class_data.rows:\n",
    "        ests = row.item('Types of Establishments')\n",
    "       \n",
    "        if not pd.isnull(ests):\n",
    "            row_establishments = ests.split(', ')\n",
    "        \n",
    "        if establishment in row_establishments:\n",
    "            establishment_data.append(1)\n",
    "        else: \n",
    "            establishment_data.append(0)\n",
    "    \n",
    "    ests_table[establishment] = establishment_data\n",
    "    \n",
    "ests_table.show(5)"
   ]
  },
  {
   "cell_type": "code",
   "execution_count": 11,
   "metadata": {},
   "outputs": [
    {
     "data": {
      "image/png": "[encoded data removed]",
      "text/plain": [
       "<Figure size 432x288 with 1 Axes>"
      ]
     },
     "metadata": {
      "needs_background": "light"
     },
     "output_type": "display_data"
    }
   ],
   "source": [
    "# Find the sum of each of the establishments.\n",
    "col_sums = []\n",
    "for col in ests_table.drop(0).labels:\n",
    "    col_sums.append(sum(ests_table[col]))\n",
    "\n",
    "# Put them into a series : index ~ type of establishment, value ~ count\n",
    "establishment_counts = pd.Series(col_sums, index = ests_table.drop(0).labels)\n",
    "establishment_counts = establishment_counts.drop(\"N/A\")\n",
    "\n",
    "establishment_counts.plot.barh()\n",
    "plt.title(ests_table.labels[0])\n",
    "plt.show()"
   ]
  },
  {
   "cell_type": "markdown",
   "metadata": {
    "collapsed": true
   },
   "source": [
    "---\n",
    "\n",
    "## Mapping\n",
    "\n",
    "We can also visualize how your responses mapped out over the census tracts. We'll use a library called `folium` to map your observations onto a map of the census tracts, and include popups with your comments and photos."
   ]
  },
  {
   "cell_type": "code",
   "execution_count": 12,
   "metadata": {
    "scrolled": false
   },
   "outputs": [
    {
     "data": {
      "text/html": [
       "\n",
       "        <iframe\n",
       "            width=\"700\"\n",
       "            height=\"400\"\n",
       "            src=\"maps/map1.html\"\n",
       "            frameborder=\"0\"\n",
       "            allowfullscreen\n",
       "        ></iframe>\n",
       "        "
      ],
      "text/plain": [
       "<IPython.lib.display.IFrame at 0x7faabcf88ef0>"
      ]
     },
     "execution_count": 12,
     "metadata": {},
     "output_type": "execute_result"
    }
   ],
   "source": [
    "alameda = geojson.load(open(\"data/alameda-2010.geojson\"))\n",
    "myMap = folium.Map(location=(37.8044, -122.2711), zoom_start=11.4)\n",
    "\n",
    "map_data(myMap, alameda, image_data).save(\"maps/map1.html\") # remove null row\n",
    "IFrame('maps/map1.html', width=700, height=400)"
   ]
  },
  {
   "cell_type": "markdown",
   "metadata": {},
   "source": [
    "Click around census tracts near yours to see if the other students' observations are similar and see if you can eyeball any trends. Check out other areas on the map and see if there are trends for tracts in specific areas."
   ]
  },
  {
   "cell_type": "markdown",
   "metadata": {},
   "source": [
    "<div class=\"alert alert-info\">\n",
    "\n",
    "**QUESTION:** Do specific characteristics cluster in different areas? Which ones? Which characteristsics seem to cluster together? What types of data do you think will correlate with socioeconomic characteristics like median income, poverty rate, education?  Why?\n",
    "\n",
    "</div>"
   ]
  },
  {
   "cell_type": "markdown",
   "metadata": {},
   "source": [
    "_Type your answer here, replacing this text._"
   ]
  },
  {
   "cell_type": "markdown",
   "metadata": {},
   "source": [
    "---\n",
    "\n",
    "# Part 2: Our Metrics<a id='ourmetrics'></a>\n",
    "\n",
    "Now that you have made some predictions, we can compare our data with socioeconomic data from the U.S. Census for the different tracts we visited and see if we can find evidence to support them. From your data, we can create some point scales that measure different aspects of a neighborhood.\n",
    "\n",
    "For example, we can make a scale called “social disorder” for the first part of your responses. Let's first subeset our data:"
   ]
  },
  {
   "cell_type": "code",
   "execution_count": 13,
   "metadata": {},
   "outputs": [
    {
     "data": {
      "text/html": [
       "<table border=\"1\" class=\"dataframe\">\n",
       "    <thead>\n",
       "        <tr>\n",
       "            <th>Census Tract</th> <th>Amount of Beer/Liquor Bottles (1 to 5 scale)</th> <th>Amount of Cigarette/Cigar Butts (1 to 5 scale)</th> <th>Amount of Condoms (1 to 5 scale)</th> <th>Amount of Garbage (1 to 5 scale)</th> <th>Abandoned Cars (Y?N)</th> <th>Treatment (1 (Friendly) to 5 (Suspicion) scale)</th> <th>Condition of Buildings (1 (Good) to 4 (Poor) scale)</th> <th>Graffiti (Y/N)</th> <th>Fenching (1 (None) to 4 (High mesh) scale)</th> <th>Renovations (Y/N)</th>\n",
       "        </tr>\n",
       "    </thead>\n",
       "    <tbody>\n",
       "        <tr>\n",
       "            <td>4030        </td> <td>1                                           </td> <td>2                                             </td> <td>1                               </td> <td>2                               </td> <td>0                   </td> <td>4                                              </td> <td>4                                                  </td> <td>1             </td> <td>3                                         </td> <td>1                </td>\n",
       "        </tr>\n",
       "        <tr>\n",
       "            <td>4205        </td> <td>1                                           </td> <td>1                                             </td> <td>1                               </td> <td>1                               </td> <td>0                   </td> <td>1                                              </td> <td>1                                                  </td> <td>0             </td> <td>1                                         </td> <td>0                </td>\n",
       "        </tr>\n",
       "        <tr>\n",
       "            <td>4214        </td> <td>1                                           </td> <td>1                                             </td> <td>1                               </td> <td>1                               </td> <td>0                   </td> <td>2                                              </td> <td>2                                                  </td> <td>0             </td> <td>2                                         </td> <td>1                </td>\n",
       "        </tr>\n",
       "        <tr>\n",
       "            <td>4030        </td> <td>1                                           </td> <td>2                                             </td> <td>1                               </td> <td>3                               </td> <td>0                   </td> <td>3                                              </td> <td>2                                                  </td> <td>1             </td> <td>1                                         </td> <td>0                </td>\n",
       "        </tr>\n",
       "        <tr>\n",
       "            <td>4213        </td> <td>1                                           </td> <td>1                                             </td> <td>1                               </td> <td>1                               </td> <td>0                   </td> <td>2                                              </td> <td>4                                                  </td> <td>0             </td> <td>2                                         </td> <td>1                </td>\n",
       "        </tr>\n",
       "    </tbody>\n",
       "</table>\n",
       "<p>... (127 rows omitted)</p>"
      ],
      "text/plain": [
       "<IPython.core.display.HTML object>"
      ]
     },
     "metadata": {},
     "output_type": "display_data"
    }
   ],
   "source": [
    "#class data is not changed after selection\n",
    "social_disorder = class_data.select(range(1, 12))\n",
    "social_disorder.show(5)"
   ]
  },
  {
   "cell_type": "markdown",
   "metadata": {},
   "source": [
    "Now we'll need to scale the values because all responses were not on the same scale. But for this part, the higher the value the more negative the social disorder was:"
   ]
  },
  {
   "cell_type": "code",
   "execution_count": 14,
   "metadata": {},
   "outputs": [
    {
     "data": {
      "text/html": [
       "<table border=\"1\" class=\"dataframe\">\n",
       "    <thead>\n",
       "        <tr>\n",
       "            <th>Census Tract</th> <th>Amount of Beer/Liquor Bottles (1 to 5 scale)</th> <th>Amount of Cigarette/Cigar Butts (1 to 5 scale)</th> <th>Amount of Condoms (1 to 5 scale)</th> <th>Amount of Garbage (1 to 5 scale)</th> <th>Abandoned Cars (Y?N)</th> <th>Treatment (1 (Friendly) to 5 (Suspicion) scale)</th> <th>Condition of Buildings (1 (Good) to 4 (Poor) scale)</th> <th>Graffiti (Y/N)</th> <th>Fenching (1 (None) to 4 (High mesh) scale)</th> <th>Renovations (Y/N)</th>\n",
       "        </tr>\n",
       "    </thead>\n",
       "    <tbody>\n",
       "        <tr>\n",
       "            <td>4030        </td> <td>0                                           </td> <td>0.25                                          </td> <td>0                               </td> <td>0.25                            </td> <td>0                   </td> <td>0.75                                           </td> <td>1                                                  </td> <td>1             </td> <td>0.666667                                  </td> <td>1                </td>\n",
       "        </tr>\n",
       "        <tr>\n",
       "            <td>4205        </td> <td>0                                           </td> <td>0                                             </td> <td>0                               </td> <td>0                               </td> <td>0                   </td> <td>0                                              </td> <td>0                                                  </td> <td>0             </td> <td>0                                         </td> <td>0                </td>\n",
       "        </tr>\n",
       "        <tr>\n",
       "            <td>4214        </td> <td>0                                           </td> <td>0                                             </td> <td>0                               </td> <td>0                               </td> <td>0                   </td> <td>0.25                                           </td> <td>0.333333                                           </td> <td>0             </td> <td>0.333333                                  </td> <td>1                </td>\n",
       "        </tr>\n",
       "        <tr>\n",
       "            <td>4030        </td> <td>0                                           </td> <td>0.25                                          </td> <td>0                               </td> <td>0.5                             </td> <td>0                   </td> <td>0.5                                            </td> <td>0.333333                                           </td> <td>1             </td> <td>0                                         </td> <td>0                </td>\n",
       "        </tr>\n",
       "        <tr>\n",
       "            <td>4213        </td> <td>0                                           </td> <td>0                                             </td> <td>0                               </td> <td>0                               </td> <td>0                   </td> <td>0.25                                           </td> <td>1                                                  </td> <td>0             </td> <td>0.333333                                  </td> <td>1                </td>\n",
       "        </tr>\n",
       "    </tbody>\n",
       "</table>\n",
       "<p>... (127 rows omitted)</p>"
      ],
      "text/plain": [
       "<IPython.core.display.HTML object>"
      ]
     },
     "metadata": {},
     "output_type": "display_data"
    }
   ],
   "source": [
    "social_disorder = scale_values(social_disorder, np.arange(1, 11))\n",
    "social_disorder.show(5)"
   ]
  },
  {
   "cell_type": "markdown",
   "metadata": {},
   "source": [
    "Now that our values are scaled, we can take the mean across all observation for a given census tract for a given column, and then take the mean across columns:"
   ]
  },
  {
   "cell_type": "code",
   "execution_count": 15,
   "metadata": {},
   "outputs": [
    {
     "data": {
      "text/html": [
       "<table border=\"1\" class=\"dataframe\">\n",
       "    <thead>\n",
       "        <tr>\n",
       "            <th>Census Tract</th> <th>Social Disorder</th>\n",
       "        </tr>\n",
       "    </thead>\n",
       "    <tbody>\n",
       "        <tr>\n",
       "            <td>4005        </td> <td>0.2875         </td>\n",
       "        </tr>\n",
       "        <tr>\n",
       "            <td>4006        </td> <td>0.202778       </td>\n",
       "        </tr>\n",
       "        <tr>\n",
       "            <td>4007        </td> <td>0.283333       </td>\n",
       "        </tr>\n",
       "        <tr>\n",
       "            <td>4010        </td> <td>0.308333       </td>\n",
       "        </tr>\n",
       "        <tr>\n",
       "            <td>4014        </td> <td>0.484524       </td>\n",
       "        </tr>\n",
       "        <tr>\n",
       "            <td>4027        </td> <td>0.319444       </td>\n",
       "        </tr>\n",
       "        <tr>\n",
       "            <td>4028        </td> <td>0.315          </td>\n",
       "        </tr>\n",
       "        <tr>\n",
       "            <td>4030        </td> <td>0.343056       </td>\n",
       "        </tr>\n",
       "        <tr>\n",
       "            <td>4031        </td> <td>0.298333       </td>\n",
       "        </tr>\n",
       "        <tr>\n",
       "            <td>4033        </td> <td>0.302778       </td>\n",
       "        </tr>\n",
       "    </tbody>\n",
       "</table>\n",
       "<p>... (14 rows omitted)</p>"
      ],
      "text/plain": [
       "Census Tract | Social Disorder\n",
       "4005         | 0.2875\n",
       "4006         | 0.202778\n",
       "4007         | 0.283333\n",
       "4010         | 0.308333\n",
       "4014         | 0.484524\n",
       "4027         | 0.319444\n",
       "4028         | 0.315\n",
       "4030         | 0.343056\n",
       "4031         | 0.298333\n",
       "4033         | 0.302778\n",
       "... (14 rows omitted)"
      ]
     },
     "execution_count": 15,
     "metadata": {},
     "output_type": "execute_result"
    }
   ],
   "source": [
    "#extracting means across columns\n",
    "means = social_disorder.group(\"Census Tract\", np.mean).drop(\"Census Tract\").values.mean(axis=1)\n",
    "\n",
    "#assigning Census Tract to their respective means\n",
    "social_disorder = Table().with_columns(\n",
    "    \"Census Tract\", np.unique(social_disorder.column(\"Census Tract\")),\n",
    "    \"Social Disorder\", means\n",
    ")\n",
    "social_disorder"
   ]
  },
  {
   "cell_type": "markdown",
   "metadata": {},
   "source": [
    "Remember, the higher the value the more negative we perceived the census tract to be.\n",
    "\n",
    "We can do the same for our amenities part:"
   ]
  },
  {
   "cell_type": "code",
   "execution_count": 16,
   "metadata": {},
   "outputs": [
    {
     "data": {
      "text/html": [
       "<table border=\"1\" class=\"dataframe\">\n",
       "    <thead>\n",
       "        <tr>\n",
       "            <th>Types of Establishments</th> <th>Bodega deli corner-store convenience store</th> <th>Eating places/restaurants</th> <th>Fast food or take-out places</th> <th>Banks or credit unions</th> <th>Community center</th> <th>Gas station</th> <th>Post office</th> <th>Supermarkets/grocery stores</th> <th>Schools or daycare centers</th> <th>Professional offices (doctor dentist lawyer accountant real estate)</th> <th>Parks</th> <th>nan</th> <th>Bars and alcoholic beverage services</th> <th>Chain retail stores</th> <th>Auto repair/auto body shop</th> <th>Liquor stores or Marijuana Dispensaries</th> <th>Warehouses</th> <th>Playgrounds</th> <th>Manufacturing</th> <th>N/A</th> <th>Payday lenders check cashers or pawn shops</th> <th>Fire station</th> <th>Police station</th> <th>Census Tract</th> <th>Trees</th>\n",
       "        </tr>\n",
       "    </thead>\n",
       "    <tbody>\n",
       "        <tr>\n",
       "            <td>Bodega deli corner-store convenience store, Eating place ...</td> <td>1                                         </td> <td>1                        </td> <td>1                           </td> <td>0                     </td> <td>0               </td> <td>0          </td> <td>0          </td> <td>0                          </td> <td>0                         </td> <td>0                                                                  </td> <td>0    </td> <td>0   </td> <td>0                                   </td> <td>0                  </td> <td>0                         </td> <td>0                                      </td> <td>0         </td> <td>0          </td> <td>0            </td> <td>0   </td> <td>0                                         </td> <td>0           </td> <td>0             </td> <td>4030        </td> <td>0    </td>\n",
       "        </tr>\n",
       "        <tr>\n",
       "            <td>Banks or credit unions, Community center, Eating places/ ...</td> <td>0                                         </td> <td>1                        </td> <td>1                           </td> <td>1                     </td> <td>1               </td> <td>1          </td> <td>1          </td> <td>1                          </td> <td>0                         </td> <td>0                                                                  </td> <td>0    </td> <td>0   </td> <td>0                                   </td> <td>0                  </td> <td>0                         </td> <td>0                                      </td> <td>0         </td> <td>0          </td> <td>0            </td> <td>0   </td> <td>0                                         </td> <td>0           </td> <td>0             </td> <td>4205        </td> <td>1    </td>\n",
       "        </tr>\n",
       "        <tr>\n",
       "            <td>Schools or daycare centers                                  </td> <td>0                                         </td> <td>0                        </td> <td>0                           </td> <td>0                     </td> <td>0               </td> <td>0          </td> <td>0          </td> <td>0                          </td> <td>1                         </td> <td>0                                                                  </td> <td>0    </td> <td>0   </td> <td>0                                   </td> <td>0                  </td> <td>0                         </td> <td>0                                      </td> <td>0         </td> <td>0          </td> <td>0            </td> <td>0   </td> <td>0                                         </td> <td>0           </td> <td>0             </td> <td>4214        </td> <td>1    </td>\n",
       "        </tr>\n",
       "        <tr>\n",
       "            <td>Banks or credit unions, Eating places/restaurants, Super ...</td> <td>0                                         </td> <td>1                        </td> <td>0                           </td> <td>1                     </td> <td>0               </td> <td>0          </td> <td>0          </td> <td>1                          </td> <td>0                         </td> <td>0                                                                  </td> <td>0    </td> <td>0   </td> <td>0                                   </td> <td>0                  </td> <td>0                         </td> <td>0                                      </td> <td>0         </td> <td>0          </td> <td>0            </td> <td>0   </td> <td>0                                         </td> <td>0           </td> <td>0             </td> <td>4030        </td> <td>0    </td>\n",
       "        </tr>\n",
       "        <tr>\n",
       "            <td>Professional offices (doctor dentist lawyer accountant r ...</td> <td>0                                         </td> <td>0                        </td> <td>0                           </td> <td>0                     </td> <td>0               </td> <td>0          </td> <td>0          </td> <td>0                          </td> <td>0                         </td> <td>1                                                                  </td> <td>0    </td> <td>0   </td> <td>0                                   </td> <td>0                  </td> <td>0                         </td> <td>0                                      </td> <td>0         </td> <td>0          </td> <td>0            </td> <td>0   </td> <td>0                                         </td> <td>0           </td> <td>0             </td> <td>4213        </td> <td>1    </td>\n",
       "        </tr>\n",
       "    </tbody>\n",
       "</table>\n",
       "<p>... (127 rows omitted)</p>"
      ],
      "text/plain": [
       "<IPython.core.display.HTML object>"
      ]
     },
     "metadata": {},
     "output_type": "display_data"
    }
   ],
   "source": [
    "#adding 2 new columns to Establishments table to create a new table for amenities\n",
    "#note: the columns are added at the end of the table\n",
    "amenities = ests_table.with_columns(\n",
    "    \"Census Tract\", class_data.column(\"Census Tract\"),\n",
    "    \"Trees\", class_data.column(\"Amount of Trees Linked the Block Fence (1 (Few) to 3 (Most) scale)\")\n",
    ")\n",
    "\n",
    "#converting Trees values to binary: 0 if \"1 (Few)\" and 1 if more\n",
    "amenities[\"Trees\"] = [(0, 1)[value > 1] for value in amenities[\"Trees\"]]\n",
    "amenities.show(5)"
   ]
  },
  {
   "cell_type": "markdown",
   "metadata": {},
   "source": [
    "Certain amenities are positive and indicate desirable conditions in a neighborhood. These characteristics include things like School or Daycares, and supermarkets. Let's create a table containing only positive amenities"
   ]
  },
  {
   "cell_type": "code",
   "execution_count": 17,
   "metadata": {},
   "outputs": [
    {
     "data": {
      "text/html": [
       "<table border=\"1\" class=\"dataframe\">\n",
       "    <thead>\n",
       "        <tr>\n",
       "            <th>Census Tract</th> <th>Banks or credit unions</th> <th>Chain retail stores</th> <th>Community center</th> <th>Eating places/restaurants</th> <th>Fire station</th> <th>Parks</th> <th>Playgrounds</th> <th>Post office</th> <th>Professional offices (doctor dentist lawyer accountant real estate)</th> <th>Schools or daycare centers</th> <th>Supermarkets/grocery stores</th> <th>Trees</th>\n",
       "        </tr>\n",
       "    </thead>\n",
       "    <tbody>\n",
       "        <tr>\n",
       "            <td>4030        </td> <td>0                     </td> <td>0                  </td> <td>0               </td> <td>1                        </td> <td>0           </td> <td>0    </td> <td>0          </td> <td>0          </td> <td>0                                                                  </td> <td>0                         </td> <td>0                          </td> <td>0    </td>\n",
       "        </tr>\n",
       "        <tr>\n",
       "            <td>4205        </td> <td>1                     </td> <td>0                  </td> <td>1               </td> <td>1                        </td> <td>0           </td> <td>0    </td> <td>0          </td> <td>1          </td> <td>0                                                                  </td> <td>0                         </td> <td>1                          </td> <td>1    </td>\n",
       "        </tr>\n",
       "        <tr>\n",
       "            <td>4214        </td> <td>0                     </td> <td>0                  </td> <td>0               </td> <td>0                        </td> <td>0           </td> <td>0    </td> <td>0          </td> <td>0          </td> <td>0                                                                  </td> <td>1                         </td> <td>0                          </td> <td>1    </td>\n",
       "        </tr>\n",
       "        <tr>\n",
       "            <td>4030        </td> <td>1                     </td> <td>0                  </td> <td>0               </td> <td>1                        </td> <td>0           </td> <td>0    </td> <td>0          </td> <td>0          </td> <td>0                                                                  </td> <td>0                         </td> <td>1                          </td> <td>0    </td>\n",
       "        </tr>\n",
       "        <tr>\n",
       "            <td>4213        </td> <td>0                     </td> <td>0                  </td> <td>0               </td> <td>0                        </td> <td>0           </td> <td>0    </td> <td>0          </td> <td>0          </td> <td>1                                                                  </td> <td>0                         </td> <td>0                          </td> <td>1    </td>\n",
       "        </tr>\n",
       "    </tbody>\n",
       "</table>\n",
       "<p>... (127 rows omitted)</p>"
      ],
      "text/plain": [
       "<IPython.core.display.HTML object>"
      ]
     },
     "metadata": {},
     "output_type": "display_data"
    }
   ],
   "source": [
    "#selecting all the necessary columns from amenities table to be included in positive_amenities\n",
    "positive_amenities = amenities.select(\n",
    "    'Census Tract',\n",
    "    'Banks or credit unions',\n",
    "    'Chain retail stores',\n",
    "    'Community center',\n",
    "    'Eating places/restaurants',\n",
    "    'Fire station',\n",
    "    'Parks',\n",
    "    'Playgrounds',\n",
    "     # 'Public library',\n",
    "    'Post office',\n",
    "    'Professional offices (doctor dentist lawyer accountant real estate)',\n",
    "    'Schools or daycare centers',\n",
    "    'Supermarkets/grocery stores',\n",
    "    'Trees'\n",
    ")\n",
    "positive_amenities.show(5)"
   ]
  },
  {
   "cell_type": "markdown",
   "metadata": {},
   "source": [
    "To make positive amenities comparable between census tracts, we can find the mean of positive amenities for each census tract. A higher value indicates a more positive census tract"
   ]
  },
  {
   "cell_type": "code",
   "execution_count": 18,
   "metadata": {},
   "outputs": [
    {
     "data": {
      "text/html": [
       "<table border=\"1\" class=\"dataframe\">\n",
       "    <thead>\n",
       "        <tr>\n",
       "            <th>Census Tract</th> <th>Positive Amenities</th>\n",
       "        </tr>\n",
       "    </thead>\n",
       "    <tbody>\n",
       "        <tr>\n",
       "            <td>4005        </td> <td>0.180556          </td>\n",
       "        </tr>\n",
       "        <tr>\n",
       "            <td>4006        </td> <td>0.0694444         </td>\n",
       "        </tr>\n",
       "        <tr>\n",
       "            <td>4007        </td> <td>0.111111          </td>\n",
       "        </tr>\n",
       "        <tr>\n",
       "            <td>4010        </td> <td>0.0694444         </td>\n",
       "        </tr>\n",
       "        <tr>\n",
       "            <td>4014        </td> <td>0.202381          </td>\n",
       "        </tr>\n",
       "        <tr>\n",
       "            <td>4027        </td> <td>0.166667          </td>\n",
       "        </tr>\n",
       "        <tr>\n",
       "            <td>4028        </td> <td>0.183333          </td>\n",
       "        </tr>\n",
       "        <tr>\n",
       "            <td>4030        </td> <td>0.208333          </td>\n",
       "        </tr>\n",
       "        <tr>\n",
       "            <td>4031        </td> <td>0.316667          </td>\n",
       "        </tr>\n",
       "        <tr>\n",
       "            <td>4033        </td> <td>0.111111          </td>\n",
       "        </tr>\n",
       "    </tbody>\n",
       "</table>\n",
       "<p>... (14 rows omitted)</p>"
      ],
      "text/plain": [
       "Census Tract | Positive Amenities\n",
       "4005         | 0.180556\n",
       "4006         | 0.0694444\n",
       "4007         | 0.111111\n",
       "4010         | 0.0694444\n",
       "4014         | 0.202381\n",
       "4027         | 0.166667\n",
       "4028         | 0.183333\n",
       "4030         | 0.208333\n",
       "4031         | 0.316667\n",
       "4033         | 0.111111\n",
       "... (14 rows omitted)"
      ]
     },
     "execution_count": 18,
     "metadata": {},
     "output_type": "execute_result"
    }
   ],
   "source": [
    "#extracting means across columns\n",
    "means = positive_amenities.group(\"Census Tract\", np.mean).drop(\"Census Tract\").values.mean(axis=1)\n",
    "\n",
    "#assigning Census Tract to the respective means of positive amenities\n",
    "positive_amenities = Table().with_columns(\n",
    "    \"Census Tract\", np.unique(positive_amenities.column(\"Census Tract\")),\n",
    "    \"Positive Amenities\", means\n",
    ")\n",
    "positive_amenities"
   ]
  },
  {
   "cell_type": "markdown",
   "metadata": {},
   "source": [
    "Certain amenities are negative and indicate undesirable conditions in a neighborhood. These characteristics include things like Bars or Fast Food Restaurants. Let's create a Data Frame with only negative amenities"
   ]
  },
  {
   "cell_type": "code",
   "execution_count": 19,
   "metadata": {},
   "outputs": [
    {
     "data": {
      "text/html": [
       "<table border=\"1\" class=\"dataframe\">\n",
       "    <thead>\n",
       "        <tr>\n",
       "            <th>Census Tract</th> <th>Auto repair/auto body shop</th> <th>Bars and alcoholic beverage services</th> <th>Bodega deli corner-store convenience store</th> <th>Fast food or take-out places</th> <th>Gas station</th> <th>Liquor stores or Marijuana Dispensaries</th> <th>Manufacturing</th> <th>Payday lenders check cashers or pawn shops</th> <th>Warehouses</th>\n",
       "        </tr>\n",
       "    </thead>\n",
       "    <tbody>\n",
       "        <tr>\n",
       "            <td>4030        </td> <td>0                         </td> <td>0                                   </td> <td>1                                         </td> <td>1                           </td> <td>0          </td> <td>0                                      </td> <td>0            </td> <td>0                                         </td> <td>0         </td>\n",
       "        </tr>\n",
       "        <tr>\n",
       "            <td>4205        </td> <td>0                         </td> <td>0                                   </td> <td>0                                         </td> <td>1                           </td> <td>1          </td> <td>0                                      </td> <td>0            </td> <td>0                                         </td> <td>0         </td>\n",
       "        </tr>\n",
       "        <tr>\n",
       "            <td>4214        </td> <td>0                         </td> <td>0                                   </td> <td>0                                         </td> <td>0                           </td> <td>0          </td> <td>0                                      </td> <td>0            </td> <td>0                                         </td> <td>0         </td>\n",
       "        </tr>\n",
       "        <tr>\n",
       "            <td>4030        </td> <td>0                         </td> <td>0                                   </td> <td>0                                         </td> <td>0                           </td> <td>0          </td> <td>0                                      </td> <td>0            </td> <td>0                                         </td> <td>0         </td>\n",
       "        </tr>\n",
       "        <tr>\n",
       "            <td>4213        </td> <td>0                         </td> <td>0                                   </td> <td>0                                         </td> <td>0                           </td> <td>0          </td> <td>0                                      </td> <td>0            </td> <td>0                                         </td> <td>0         </td>\n",
       "        </tr>\n",
       "    </tbody>\n",
       "</table>\n",
       "<p>... (127 rows omitted)</p>"
      ],
      "text/plain": [
       "<IPython.core.display.HTML object>"
      ]
     },
     "metadata": {},
     "output_type": "display_data"
    }
   ],
   "source": [
    "#selecting all the necessary columns from amenities table to be included in negative_amenities\n",
    "negative_amenities = amenities.select(\n",
    "    'Census Tract',\n",
    "    'Auto repair/auto body shop',\n",
    "    'Bars and alcoholic beverage services',\n",
    "    'Bodega deli corner-store convenience store',\n",
    "    'Fast food or take-out places',\n",
    "    'Gas station',\n",
    "    'Liquor stores or Marijuana Dispensaries',\n",
    "    'Manufacturing' ,\n",
    "    'Payday lenders check cashers or pawn shops',\n",
    "    'Warehouses'\n",
    ")\n",
    "negative_amenities.show(5)"
   ]
  },
  {
   "cell_type": "markdown",
   "metadata": {},
   "source": [
    "To make negative amenities comparable between census tracts, we can find the mean of negative amenities for each census tract. A higher value indicates a more negative census tract"
   ]
  },
  {
   "cell_type": "code",
   "execution_count": 20,
   "metadata": {},
   "outputs": [
    {
     "data": {
      "text/html": [
       "<table border=\"1\" class=\"dataframe\">\n",
       "    <thead>\n",
       "        <tr>\n",
       "            <th>Census Tract</th> <th>Negative Amenities</th>\n",
       "        </tr>\n",
       "    </thead>\n",
       "    <tbody>\n",
       "        <tr>\n",
       "            <td>4005        </td> <td>0.0555556         </td>\n",
       "        </tr>\n",
       "        <tr>\n",
       "            <td>4006        </td> <td>0.0925926         </td>\n",
       "        </tr>\n",
       "        <tr>\n",
       "            <td>4007        </td> <td>0.0185185         </td>\n",
       "        </tr>\n",
       "        <tr>\n",
       "            <td>4010        </td> <td>0.185185          </td>\n",
       "        </tr>\n",
       "        <tr>\n",
       "            <td>4014        </td> <td>0.0952381         </td>\n",
       "        </tr>\n",
       "        <tr>\n",
       "            <td>4027        </td> <td>0                 </td>\n",
       "        </tr>\n",
       "        <tr>\n",
       "            <td>4028        </td> <td>0.0888889         </td>\n",
       "        </tr>\n",
       "        <tr>\n",
       "            <td>4030        </td> <td>0.166667          </td>\n",
       "        </tr>\n",
       "        <tr>\n",
       "            <td>4031        </td> <td>0.111111          </td>\n",
       "        </tr>\n",
       "        <tr>\n",
       "            <td>4033        </td> <td>0.0740741         </td>\n",
       "        </tr>\n",
       "    </tbody>\n",
       "</table>\n",
       "<p>... (14 rows omitted)</p>"
      ],
      "text/plain": [
       "Census Tract | Negative Amenities\n",
       "4005         | 0.0555556\n",
       "4006         | 0.0925926\n",
       "4007         | 0.0185185\n",
       "4010         | 0.185185\n",
       "4014         | 0.0952381\n",
       "4027         | 0\n",
       "4028         | 0.0888889\n",
       "4030         | 0.166667\n",
       "4031         | 0.111111\n",
       "4033         | 0.0740741\n",
       "... (14 rows omitted)"
      ]
     },
     "execution_count": 20,
     "metadata": {},
     "output_type": "execute_result"
    }
   ],
   "source": [
    "#extracting means across columns\n",
    "means = negative_amenities.group(\"Census Tract\", np.mean).drop(\"Census Tract\").values.mean(axis=1)\n",
    "\n",
    "#assigning Census Tract to the respective means of  negative amenities\n",
    "negative_amenities = Table().with_columns(\n",
    "    \"Census Tract\", np.unique(negative_amenities.column(\"Census Tract\")),\n",
    "    \"Negative Amenities\", means\n",
    ")\n",
    "negative_amenities"
   ]
  },
  {
   "cell_type": "markdown",
   "metadata": {},
   "source": [
    "---\n",
    "\n",
    "# Part 3: Census Data<a id='census'></a>\n",
    "\n",
    "Let's read in some data for census tracts from the [American FactFinder](https://factfinder.census.gov/faces/nav/jsf/pages/index.xhtml):"
   ]
  },
  {
   "cell_type": "code",
   "execution_count": 81,
   "metadata": {},
   "outputs": [
    {
     "data": {
      "text/html": [
       "<table border=\"1\" class=\"dataframe\">\n",
       "    <thead>\n",
       "        <tr>\n",
       "            <th>Census Tract</th> <th>Unemployment %</th> <th>Household Median Income</th> <th>Bachelor's Degree or higher %</th> <th>% families with income under poverty line</th> <th>% families with public assistance income </th> <th>median house value</th> <th>% white</th> <th>% black</th> <th>% asian</th> <th>% hispanic/latino</th> <th>% foreign born</th> <th>% single mother family</th>\n",
       "        </tr>\n",
       "    </thead>\n",
       "    <tbody>\n",
       "        <tr>\n",
       "            <td>4005        </td> <td>6.5           </td> <td>76038                  </td> <td>61.9                         </td> <td>6.1                                      </td> <td>4.5                                      </td> <td>611300            </td> <td>51.7   </td> <td>24.3   </td> <td>4.8    </td> <td>14.2             </td> <td>16.8          </td> <td>27                    </td>\n",
       "        </tr>\n",
       "        <tr>\n",
       "            <td>4006        </td> <td>14.9          </td> <td>60804                  </td> <td>55.3                         </td> <td>3                                        </td> <td>3.6                                      </td> <td>466700            </td> <td>34.8   </td> <td>38.7   </td> <td>6.5    </td> <td>12.3             </td> <td>13            </td> <td>25                    </td>\n",
       "        </tr>\n",
       "        <tr>\n",
       "            <td>4007        </td> <td>10.5          </td> <td>39614                  </td> <td>40.9                         </td> <td>14.5                                     </td> <td>1.2                                      </td> <td>572300            </td> <td>35.7   </td> <td>40.3   </td> <td>2.9    </td> <td>13               </td> <td>11            </td> <td>40                    </td>\n",
       "        </tr>\n",
       "        <tr>\n",
       "            <td>4010        </td> <td>9.2           </td> <td>44766                  </td> <td>33.2                         </td> <td>21.3                                     </td> <td>7.1                                      </td> <td>358100            </td> <td>31.4   </td> <td>38.5   </td> <td>4.3    </td> <td>19.6             </td> <td>12.2          </td> <td>41                    </td>\n",
       "        </tr>\n",
       "        <tr>\n",
       "            <td>4014        </td> <td>16.2          </td> <td>28532                  </td> <td>18.6                         </td> <td>34.6                                     </td> <td>11.8                                     </td> <td>333700            </td> <td>13.8   </td> <td>45.1   </td> <td>10.9   </td> <td>23.6             </td> <td>23.4          </td> <td>36.8                  </td>\n",
       "        </tr>\n",
       "        <tr>\n",
       "            <td>4027        </td> <td>8.3           </td> <td>40169                  </td> <td>28.9                         </td> <td>36.6                                     </td> <td>13.4                                     </td> <td>364300            </td> <td>27.3   </td> <td>45.7   </td> <td>8.2    </td> <td>16.4             </td> <td>11            </td> <td>41.8                  </td>\n",
       "        </tr>\n",
       "        <tr>\n",
       "            <td>4028        </td> <td>14.9          </td> <td>17278                  </td> <td>33.8                         </td> <td>27.1                                     </td> <td>6.3                                      </td> <td>517600            </td> <td>30.8   </td> <td>40.7   </td> <td>15.9   </td> <td>8                </td> <td>29            </td> <td>27                    </td>\n",
       "        </tr>\n",
       "        <tr>\n",
       "            <td>4030        </td> <td>12.6          </td> <td>17609                  </td> <td>24.6                         </td> <td>14.3                                     </td> <td>1.1                                      </td> <td>344700            </td> <td>6.8    </td> <td>2.4    </td> <td>85.2   </td> <td>2.5              </td> <td>68.8          </td> <td>17.8                  </td>\n",
       "        </tr>\n",
       "        <tr>\n",
       "            <td>4031        </td> <td>7             </td> <td>59250                  </td> <td>38.5                         </td> <td>25.4                                     </td> <td>0.9                                      </td> <td>386000            </td> <td>25.1   </td> <td>17.5   </td> <td>38.1   </td> <td>13.4             </td> <td>36.9          </td> <td>11.8                  </td>\n",
       "        </tr>\n",
       "        <tr>\n",
       "            <td>4033        </td> <td>8.9           </td> <td>57064                  </td> <td>46.5                         </td> <td>19.9                                     </td> <td>4.7                                      </td> <td>338300            </td> <td>26.2   </td> <td>9      </td> <td>54.9   </td> <td>4.7              </td> <td>52.5          </td> <td>24.1                  </td>\n",
       "        </tr>\n",
       "    </tbody>\n",
       "</table>\n",
       "<p>... (14 rows omitted)</p>"
      ],
      "text/plain": [
       "Census Tract | Unemployment % | Household Median Income | Bachelor's Degree or higher % | % families with income under poverty line | % families with public assistance income  | median house value | % white | % black | % asian | % hispanic/latino | % foreign born | % single mother family\n",
       "4005         | 6.5            | 76038                   | 61.9                          | 6.1                                       | 4.5                                       | 611300             | 51.7    | 24.3    | 4.8     | 14.2              | 16.8           | 27\n",
       "4006         | 14.9           | 60804                   | 55.3                          | 3                                         | 3.6                                       | 466700             | 34.8    | 38.7    | 6.5     | 12.3              | 13             | 25\n",
       "4007         | 10.5           | 39614                   | 40.9                          | 14.5                                      | 1.2                                       | 572300             | 35.7    | 40.3    | 2.9     | 13                | 11             | 40\n",
       "4010         | 9.2            | 44766                   | 33.2                          | 21.3                                      | 7.1                                       | 358100             | 31.4    | 38.5    | 4.3     | 19.6              | 12.2           | 41\n",
       "4014         | 16.2           | 28532                   | 18.6                          | 34.6                                      | 11.8                                      | 333700             | 13.8    | 45.1    | 10.9    | 23.6              | 23.4           | 36.8\n",
       "4027         | 8.3            | 40169                   | 28.9                          | 36.6                                      | 13.4                                      | 364300             | 27.3    | 45.7    | 8.2     | 16.4              | 11             | 41.8\n",
       "4028         | 14.9           | 17278                   | 33.8                          | 27.1                                      | 6.3                                       | 517600             | 30.8    | 40.7    | 15.9    | 8                 | 29             | 27\n",
       "4030         | 12.6           | 17609                   | 24.6                          | 14.3                                      | 1.1                                       | 344700             | 6.8     | 2.4     | 85.2    | 2.5               | 68.8           | 17.8\n",
       "4031         | 7              | 59250                   | 38.5                          | 25.4                                      | 0.9                                       | 386000             | 25.1    | 17.5    | 38.1    | 13.4              | 36.9           | 11.8\n",
       "4033         | 8.9            | 57064                   | 46.5                          | 19.9                                      | 4.7                                       | 338300             | 26.2    | 9       | 54.9    | 4.7               | 52.5           | 24.1\n",
       "... (14 rows omitted)"
      ]
     },
     "execution_count": 81,
     "metadata": {},
     "output_type": "execute_result"
    }
   ],
   "source": [
    "official_data = Table.read_table(\"data/merged-census.csv\")\n",
    "official_data[\"Census Tract\"] = [str(i) for i in official_data[\"Census Tract\"]]\n",
    "\n",
    "# sub is the function that removes decimals. We defined this function in Part 1.\n",
    "official_data[\"Census Tract\"] = official_data.apply(sub, \"Census Tract\")\n",
    "official_data"
   ]
  },
  {
   "cell_type": "markdown",
   "metadata": {},
   "source": [
    "We can add our columns to this table to put it all in one place:"
   ]
  },
  {
   "cell_type": "code",
   "execution_count": 22,
   "metadata": {},
   "outputs": [
    {
     "data": {
      "text/html": [
       "<table border=\"1\" class=\"dataframe\">\n",
       "    <thead>\n",
       "        <tr>\n",
       "            <th>Census Tract</th> <th>Unemployment %</th> <th>Household Median Income</th> <th>Bachelor's Degree or higher %</th> <th>% families with income under poverty line</th> <th>% families with public assistance income </th> <th>median house value</th> <th>% white</th> <th>% black</th> <th>% asian</th> <th>% hispanic/latino</th> <th>% foreign born</th> <th>% single mother family</th> <th>Social Disorder</th> <th>Positive Amenities</th> <th>Negative Amenities</th>\n",
       "        </tr>\n",
       "    </thead>\n",
       "    <tbody>\n",
       "        <tr>\n",
       "            <td>4005        </td> <td>6.5           </td> <td>76038                  </td> <td>61.9                         </td> <td>6.1                                      </td> <td>4.5                                      </td> <td>611300            </td> <td>51.7   </td> <td>24.3   </td> <td>4.8    </td> <td>14.2             </td> <td>16.8          </td> <td>27                    </td> <td>0.2875         </td> <td>0.180556          </td> <td>0.0555556         </td>\n",
       "        </tr>\n",
       "        <tr>\n",
       "            <td>4006        </td> <td>14.9          </td> <td>60804                  </td> <td>55.3                         </td> <td>3                                        </td> <td>3.6                                      </td> <td>466700            </td> <td>34.8   </td> <td>38.7   </td> <td>6.5    </td> <td>12.3             </td> <td>13            </td> <td>25                    </td> <td>0.202778       </td> <td>0.0694444         </td> <td>0.0925926         </td>\n",
       "        </tr>\n",
       "        <tr>\n",
       "            <td>4007        </td> <td>10.5          </td> <td>39614                  </td> <td>40.9                         </td> <td>14.5                                     </td> <td>1.2                                      </td> <td>572300            </td> <td>35.7   </td> <td>40.3   </td> <td>2.9    </td> <td>13               </td> <td>11            </td> <td>40                    </td> <td>0.283333       </td> <td>0.111111          </td> <td>0.0185185         </td>\n",
       "        </tr>\n",
       "        <tr>\n",
       "            <td>4010        </td> <td>9.2           </td> <td>44766                  </td> <td>33.2                         </td> <td>21.3                                     </td> <td>7.1                                      </td> <td>358100            </td> <td>31.4   </td> <td>38.5   </td> <td>4.3    </td> <td>19.6             </td> <td>12.2          </td> <td>41                    </td> <td>0.308333       </td> <td>0.0694444         </td> <td>0.185185          </td>\n",
       "        </tr>\n",
       "        <tr>\n",
       "            <td>4014        </td> <td>16.2          </td> <td>28532                  </td> <td>18.6                         </td> <td>34.6                                     </td> <td>11.8                                     </td> <td>333700            </td> <td>13.8   </td> <td>45.1   </td> <td>10.9   </td> <td>23.6             </td> <td>23.4          </td> <td>36.8                  </td> <td>0.484524       </td> <td>0.202381          </td> <td>0.0952381         </td>\n",
       "        </tr>\n",
       "        <tr>\n",
       "            <td>4027        </td> <td>8.3           </td> <td>40169                  </td> <td>28.9                         </td> <td>36.6                                     </td> <td>13.4                                     </td> <td>364300            </td> <td>27.3   </td> <td>45.7   </td> <td>8.2    </td> <td>16.4             </td> <td>11            </td> <td>41.8                  </td> <td>0.319444       </td> <td>0.166667          </td> <td>0                 </td>\n",
       "        </tr>\n",
       "        <tr>\n",
       "            <td>4028        </td> <td>14.9          </td> <td>17278                  </td> <td>33.8                         </td> <td>27.1                                     </td> <td>6.3                                      </td> <td>517600            </td> <td>30.8   </td> <td>40.7   </td> <td>15.9   </td> <td>8                </td> <td>29            </td> <td>27                    </td> <td>0.315          </td> <td>0.183333          </td> <td>0.0888889         </td>\n",
       "        </tr>\n",
       "        <tr>\n",
       "            <td>4030        </td> <td>12.6          </td> <td>17609                  </td> <td>24.6                         </td> <td>14.3                                     </td> <td>1.1                                      </td> <td>344700            </td> <td>6.8    </td> <td>2.4    </td> <td>85.2   </td> <td>2.5              </td> <td>68.8          </td> <td>17.8                  </td> <td>0.343056       </td> <td>0.208333          </td> <td>0.166667          </td>\n",
       "        </tr>\n",
       "        <tr>\n",
       "            <td>4031        </td> <td>7             </td> <td>59250                  </td> <td>38.5                         </td> <td>25.4                                     </td> <td>0.9                                      </td> <td>386000            </td> <td>25.1   </td> <td>17.5   </td> <td>38.1   </td> <td>13.4             </td> <td>36.9          </td> <td>11.8                  </td> <td>0.298333       </td> <td>0.316667          </td> <td>0.111111          </td>\n",
       "        </tr>\n",
       "        <tr>\n",
       "            <td>4033        </td> <td>8.9           </td> <td>57064                  </td> <td>46.5                         </td> <td>19.9                                     </td> <td>4.7                                      </td> <td>338300            </td> <td>26.2   </td> <td>9      </td> <td>54.9   </td> <td>4.7              </td> <td>52.5          </td> <td>24.1                  </td> <td>0.302778       </td> <td>0.111111          </td> <td>0.0740741         </td>\n",
       "        </tr>\n",
       "    </tbody>\n",
       "</table>\n",
       "<p>... (14 rows omitted)</p>"
      ],
      "text/plain": [
       "Census Tract | Unemployment % | Household Median Income | Bachelor's Degree or higher % | % families with income under poverty line | % families with public assistance income  | median house value | % white | % black | % asian | % hispanic/latino | % foreign born | % single mother family | Social Disorder | Positive Amenities | Negative Amenities\n",
       "4005         | 6.5            | 76038                   | 61.9                          | 6.1                                       | 4.5                                       | 611300             | 51.7    | 24.3    | 4.8     | 14.2              | 16.8           | 27                     | 0.2875          | 0.180556           | 0.0555556\n",
       "4006         | 14.9           | 60804                   | 55.3                          | 3                                         | 3.6                                       | 466700             | 34.8    | 38.7    | 6.5     | 12.3              | 13             | 25                     | 0.202778        | 0.0694444          | 0.0925926\n",
       "4007         | 10.5           | 39614                   | 40.9                          | 14.5                                      | 1.2                                       | 572300             | 35.7    | 40.3    | 2.9     | 13                | 11             | 40                     | 0.283333        | 0.111111           | 0.0185185\n",
       "4010         | 9.2            | 44766                   | 33.2                          | 21.3                                      | 7.1                                       | 358100             | 31.4    | 38.5    | 4.3     | 19.6              | 12.2           | 41                     | 0.308333        | 0.0694444          | 0.185185\n",
       "4014         | 16.2           | 28532                   | 18.6                          | 34.6                                      | 11.8                                      | 333700             | 13.8    | 45.1    | 10.9    | 23.6              | 23.4           | 36.8                   | 0.484524        | 0.202381           | 0.0952381\n",
       "4027         | 8.3            | 40169                   | 28.9                          | 36.6                                      | 13.4                                      | 364300             | 27.3    | 45.7    | 8.2     | 16.4              | 11             | 41.8                   | 0.319444        | 0.166667           | 0\n",
       "4028         | 14.9           | 17278                   | 33.8                          | 27.1                                      | 6.3                                       | 517600             | 30.8    | 40.7    | 15.9    | 8                 | 29             | 27                     | 0.315           | 0.183333           | 0.0888889\n",
       "4030         | 12.6           | 17609                   | 24.6                          | 14.3                                      | 1.1                                       | 344700             | 6.8     | 2.4     | 85.2    | 2.5               | 68.8           | 17.8                   | 0.343056        | 0.208333           | 0.166667\n",
       "4031         | 7              | 59250                   | 38.5                          | 25.4                                      | 0.9                                       | 386000             | 25.1    | 17.5    | 38.1    | 13.4              | 36.9           | 11.8                   | 0.298333        | 0.316667           | 0.111111\n",
       "4033         | 8.9            | 57064                   | 46.5                          | 19.9                                      | 4.7                                       | 338300             | 26.2    | 9       | 54.9    | 4.7               | 52.5           | 24.1                   | 0.302778        | 0.111111           | 0.0740741\n",
       "... (14 rows omitted)"
      ]
     },
     "execution_count": 22,
     "metadata": {},
     "output_type": "execute_result"
    }
   ],
   "source": [
    "joined_data = (official_data\n",
    "               .join(\"Census Tract\", social_disorder)\n",
    "               .join(\"Census Tract\", positive_amenities)\n",
    "               .join(\"Census Tract\", negative_amenities)\n",
    "              )\n",
    "joined_data"
   ]
  },
  {
   "cell_type": "code",
   "execution_count": 23,
   "metadata": {
    "scrolled": false
   },
   "outputs": [
    {
     "data": {
      "text/html": [
       "<table border=\"1\" class=\"dataframe\">\n",
       "    <thead>\n",
       "        <tr>\n",
       "            <th>Census Tract</th> <th>Unemployment %</th> <th>Household Median Income</th> <th>Bachelor's Degree or higher %</th> <th>% families with income under poverty line</th> <th>% families with public assistance income </th> <th>median house value</th> <th>% white</th> <th>% black</th> <th>% asian</th> <th>% hispanic/latino</th> <th>% foreign born</th> <th>% single mother family</th> <th>Social Disorder</th> <th>Positive Amenities</th> <th>Negative Amenities</th>\n",
       "        </tr>\n",
       "    </thead>\n",
       "    <tbody>\n",
       "        <tr>\n",
       "            <td>4005        </td> <td>6.5           </td> <td>76038                  </td> <td>61.9                         </td> <td>6.1                                      </td> <td>4.5                                      </td> <td>611300            </td> <td>51.7   </td> <td>24.3   </td> <td>4.8    </td> <td>14.2             </td> <td>16.8          </td> <td>27                    </td> <td>0.2875         </td> <td>0.180556          </td> <td>0.0555556         </td>\n",
       "        </tr>\n",
       "        <tr>\n",
       "            <td>4006        </td> <td>14.9          </td> <td>60804                  </td> <td>55.3                         </td> <td>3                                        </td> <td>3.6                                      </td> <td>466700            </td> <td>34.8   </td> <td>38.7   </td> <td>6.5    </td> <td>12.3             </td> <td>13            </td> <td>25                    </td> <td>0.202778       </td> <td>0.0694444         </td> <td>0.0925926         </td>\n",
       "        </tr>\n",
       "        <tr>\n",
       "            <td>4007        </td> <td>10.5          </td> <td>39614                  </td> <td>40.9                         </td> <td>14.5                                     </td> <td>1.2                                      </td> <td>572300            </td> <td>35.7   </td> <td>40.3   </td> <td>2.9    </td> <td>13               </td> <td>11            </td> <td>40                    </td> <td>0.283333       </td> <td>0.111111          </td> <td>0.0185185         </td>\n",
       "        </tr>\n",
       "        <tr>\n",
       "            <td>4010        </td> <td>9.2           </td> <td>44766                  </td> <td>33.2                         </td> <td>21.3                                     </td> <td>7.1                                      </td> <td>358100            </td> <td>31.4   </td> <td>38.5   </td> <td>4.3    </td> <td>19.6             </td> <td>12.2          </td> <td>41                    </td> <td>0.308333       </td> <td>0.0694444         </td> <td>0.185185          </td>\n",
       "        </tr>\n",
       "        <tr>\n",
       "            <td>4014        </td> <td>16.2          </td> <td>28532                  </td> <td>18.6                         </td> <td>34.6                                     </td> <td>11.8                                     </td> <td>333700            </td> <td>13.8   </td> <td>45.1   </td> <td>10.9   </td> <td>23.6             </td> <td>23.4          </td> <td>36.8                  </td> <td>0.484524       </td> <td>0.202381          </td> <td>0.0952381         </td>\n",
       "        </tr>\n",
       "    </tbody>\n",
       "</table>\n",
       "<p>... (357 rows omitted)</p>"
      ],
      "text/plain": [
       "<IPython.core.display.HTML object>"
      ]
     },
     "metadata": {},
     "output_type": "display_data"
    }
   ],
   "source": [
    "# Add zeros for all features in tracts for which we did not collect data\n",
    "unobserved_tracts = [str(alameda[\"features\"][x]['properties']['name10']) for x in range(len(alameda[\"features\"])) \\\n",
    "                     if alameda[\"features\"][x]['properties']['name10'] not in list(joined_data[\"Census Tract\"])]\n",
    "\n",
    "unobserved_data = Table().with_column(\"Census Tract\", unobserved_tracts)\n",
    "for col in joined_data.labels[1:]:\n",
    "    unobserved_data[col] = np.zeros(len(unobserved_tracts))\n",
    "\n",
    "    \n",
    "# Append these rows filled with 0 to the end of the table.\n",
    "joined_data = joined_data.append(unobserved_data)\n",
    "joined_data.show(5)"
   ]
  },
  {
   "cell_type": "markdown",
   "metadata": {},
   "source": [
    "---\n",
    "\n",
    "## Mapping Exploration\n",
    "\n",
    "Before we quantify the relationship between the census data and our own metrics, let's do some exploratory mapping. We can now add our social disorder and amenities metrics to the popup too!\n",
    "\n",
    "First we'll map a choropleth of unemployment:"
   ]
  },
  {
   "cell_type": "code",
   "execution_count": 24,
   "metadata": {},
   "outputs": [
    {
     "data": {
      "text/html": [
       "\n",
       "        <iframe\n",
       "            width=\"700\"\n",
       "            height=\"400\"\n",
       "            src=\"maps/map2.html\"\n",
       "            frameborder=\"0\"\n",
       "            allowfullscreen\n",
       "        ></iframe>\n",
       "        "
      ],
      "text/plain": [
       "<IPython.lib.display.IFrame at 0x7faabbc52278>"
      ]
     },
     "execution_count": 24,
     "metadata": {},
     "output_type": "execute_result"
    }
   ],
   "source": [
    "map2 = folium.Map(location=(37.8044, -122.2711), zoom_start=11.4)\n",
    "folium.features.Choropleth(geo_data=alameda,\n",
    "             name='unemployment', \n",
    "             data=joined_data.to_df(),\n",
    "             columns=['Census Tract', 'Unemployment %'],\n",
    "             key_on='feature.properties.name10',  \n",
    "             fill_color='BuPu', \n",
    "             fill_opacity=0.7, \n",
    "             line_opacity=0.2,\n",
    "             legend_name='Unemployment Rate (%)'\n",
    "            ).add_to(map2)\n",
    "folium.LayerControl().add_to(map2)\n",
    "map2.save(\"maps/map2.html\")\n",
    "IFrame('maps/map2.html', width=700, height=400)"
   ]
  },
  {
   "cell_type": "markdown",
   "metadata": {},
   "source": [
    "Household Median Income:"
   ]
  },
  {
   "cell_type": "code",
   "execution_count": 25,
   "metadata": {},
   "outputs": [
    {
     "data": {
      "text/html": [
       "\n",
       "        <iframe\n",
       "            width=\"700\"\n",
       "            height=\"400\"\n",
       "            src=\"maps/map3.html\"\n",
       "            frameborder=\"0\"\n",
       "            allowfullscreen\n",
       "        ></iframe>\n",
       "        "
      ],
      "text/plain": [
       "<IPython.lib.display.IFrame at 0x7faabbc7f0b8>"
      ]
     },
     "execution_count": 25,
     "metadata": {},
     "output_type": "execute_result"
    }
   ],
   "source": [
    "map3 = folium.Map(location=(37.8044, -122.2711), zoom_start=11.4)\n",
    "folium.Choropleth(geo_data=alameda, \n",
    "             name='household median income', \n",
    "             data=joined_data.to_df(),\n",
    "             columns=['Census Tract', 'Household Median Income'],\n",
    "             key_on='feature.properties.name10',  \n",
    "             fill_color='BuPu', \n",
    "             fill_opacity=0.7, \n",
    "             line_opacity=0.2,\n",
    "             legend_name='Household Median Income'\n",
    "            ).add_to(map3)\n",
    "map3.save(\"maps/map3.html\")\n",
    "IFrame('maps/map3.html', width=700, height=400)"
   ]
  },
  {
   "cell_type": "markdown",
   "metadata": {},
   "source": [
    "Bachelor's Degree or higher %:"
   ]
  },
  {
   "cell_type": "code",
   "execution_count": 26,
   "metadata": {},
   "outputs": [
    {
     "data": {
      "text/html": [
       "\n",
       "        <iframe\n",
       "            width=\"700\"\n",
       "            height=\"400\"\n",
       "            src=\"maps/map4.html\"\n",
       "            frameborder=\"0\"\n",
       "            allowfullscreen\n",
       "        ></iframe>\n",
       "        "
      ],
      "text/plain": [
       "<IPython.lib.display.IFrame at 0x7faabbc1ebe0>"
      ]
     },
     "execution_count": 26,
     "metadata": {},
     "output_type": "execute_result"
    }
   ],
   "source": [
    "map4 = folium.Map(location=(37.8044, -122.2711), zoom_start=11.4)\n",
    "folium.Choropleth(geo_data=alameda, \n",
    "             name=\">= bachelor's %\", \n",
    "             data=joined_data.to_df(),\n",
    "             columns=['Census Tract', \"Bachelor's Degree or higher %\"],\n",
    "             key_on='feature.properties.name10',  \n",
    "             fill_color='BuPu', \n",
    "             fill_opacity=0.7, \n",
    "             line_opacity=0.2,\n",
    "             legend_name=\">= Bachelors Degree\"\n",
    "            ).add_to(map4)\n",
    "map4.save(\"maps/map4.html\")\n",
    "IFrame('maps/map4.html', width=700, height=400)"
   ]
  },
  {
   "cell_type": "markdown",
   "metadata": {},
   "source": [
    "Now our \"social disorder\":"
   ]
  },
  {
   "cell_type": "code",
   "execution_count": 27,
   "metadata": {},
   "outputs": [
    {
     "data": {
      "text/plain": [
       "0.0"
      ]
     },
     "execution_count": 27,
     "metadata": {},
     "output_type": "execute_result"
    }
   ],
   "source": [
    "df = joined_data.to_df()\n",
    "df[\"Social Disorder\"].min()"
   ]
  },
  {
   "cell_type": "code",
   "execution_count": 28,
   "metadata": {},
   "outputs": [
    {
     "data": {
      "text/html": [
       "\n",
       "        <iframe\n",
       "            width=\"700\"\n",
       "            height=\"400\"\n",
       "            src=\"maps/map5.html\"\n",
       "            frameborder=\"0\"\n",
       "            allowfullscreen\n",
       "        ></iframe>\n",
       "        "
      ],
      "text/plain": [
       "<IPython.lib.display.IFrame at 0x7faabbbd5b70>"
      ]
     },
     "execution_count": 28,
     "metadata": {},
     "output_type": "execute_result"
    }
   ],
   "source": [
    "map5 = folium.Map(location=(37.8044, -122.2711), zoom_start=11.4)\n",
    "folium.Choropleth(geo_data=alameda, \n",
    "             name='social disorder', \n",
    "             data=joined_data.to_df(),\n",
    "             columns=['Census Tract', \"Social Disorder\"],\n",
    "             key_on='feature.properties.name10',  \n",
    "             fill_color='BuPu', \n",
    "             fill_opacity=0.7, \n",
    "             line_opacity=0.2,\n",
    "             legend_name=\"Social Disorder\"\n",
    "            ).add_to(map5)\n",
    "map5.save(\"maps/map5.html\")\n",
    "IFrame('maps/map5.html', width=700, height=400)"
   ]
  },
  {
   "cell_type": "markdown",
   "metadata": {},
   "source": [
    "Now \"Positive Amenities\":"
   ]
  },
  {
   "cell_type": "code",
   "execution_count": 29,
   "metadata": {},
   "outputs": [
    {
     "data": {
      "text/html": [
       "\n",
       "        <iframe\n",
       "            width=\"700\"\n",
       "            height=\"400\"\n",
       "            src=\"maps/map6.html\"\n",
       "            frameborder=\"0\"\n",
       "            allowfullscreen\n",
       "        ></iframe>\n",
       "        "
      ],
      "text/plain": [
       "<IPython.lib.display.IFrame at 0x7faabbbf7898>"
      ]
     },
     "execution_count": 29,
     "metadata": {},
     "output_type": "execute_result"
    }
   ],
   "source": [
    "map6 = folium.Map(location=(37.8044, -122.2711), zoom_start=11.4)\n",
    "folium.Choropleth(geo_data=alameda, \n",
    "             name='positive amenities', \n",
    "             data=joined_data.to_df(),\n",
    "             columns=['Census Tract', \"Positive Amenities\"],\n",
    "             key_on='feature.properties.name10',  \n",
    "             fill_color='BuPu', \n",
    "             fill_opacity=0.7, \n",
    "             line_opacity=0.2,\n",
    "             legend_name=\"Positive Amenities\"\n",
    "            ).add_to(map6)\n",
    "map6.save(\"maps/map6.html\")\n",
    "IFrame('maps/map6.html', width=700, height=400)"
   ]
  },
  {
   "cell_type": "markdown",
   "metadata": {},
   "source": [
    "Finally, \"Negative Amenities\""
   ]
  },
  {
   "cell_type": "code",
   "execution_count": 30,
   "metadata": {},
   "outputs": [
    {
     "data": {
      "text/html": [
       "\n",
       "        <iframe\n",
       "            width=\"700\"\n",
       "            height=\"400\"\n",
       "            src=\"maps/map7.html\"\n",
       "            frameborder=\"0\"\n",
       "            allowfullscreen\n",
       "        ></iframe>\n",
       "        "
      ],
      "text/plain": [
       "<IPython.lib.display.IFrame at 0x7faabbc07f28>"
      ]
     },
     "execution_count": 30,
     "metadata": {},
     "output_type": "execute_result"
    }
   ],
   "source": [
    "map7 = folium.Map(location=(37.8044, -122.2711), zoom_start=11.4)\n",
    "folium.Choropleth(geo_data=alameda, \n",
    "             name='negative amenities', \n",
    "             data=joined_data.to_df(),\n",
    "             # change the second element with any column you like!\n",
    "             columns=['Census Tract', \"Negative Amenities\"], \n",
    "             key_on='feature.properties.name10',  \n",
    "             fill_color='BuPu', \n",
    "             fill_opacity=0.7, \n",
    "             line_opacity=0.2,\n",
    "             legend_name=\"Negative Amenities\" # also remember to change the legend name\n",
    "            ).add_to(map7)\n",
    "map7.save(\"maps/map7.html\")\n",
    "IFrame('maps/map7.html', width=700, height=400)"
   ]
  },
  {
   "cell_type": "markdown",
   "metadata": {},
   "source": [
    "<div class=\"alert alert-info\">\n",
    "    \n",
    "**QUESTION:** What do you notice?\n",
    "\n",
    "</div>"
   ]
  },
  {
   "cell_type": "markdown",
   "metadata": {},
   "source": [
    "_Type your answer here, replacing this text._"
   ]
  },
  {
   "cell_type": "markdown",
   "metadata": {},
   "source": [
    "<div class=\"alert alert-info\">\n",
    "\n",
    "**QUESTION:** Try copying and pasting one of the mapping cells above and change the `column_name` variable to a different variable (column in our data) you'd like to map, then run the cell!\n",
    "\n",
    "</div>"
   ]
  },
  {
   "cell_type": "markdown",
   "metadata": {},
   "source": [
    "**Hint:** Go to the cell above (map7 cell) and read the comments in the code. You will find how to change the variables plotted!\n"
   ]
  },
  {
   "cell_type": "code",
   "execution_count": null,
   "metadata": {},
   "outputs": [],
   "source": [
    "..."
   ]
  },
  {
   "cell_type": "markdown",
   "metadata": {},
   "source": [
    "---\n",
    "\n",
    "## Variable Distributions\n",
    "\n",
    "We can also visualize the distributions of these variables according to census tract with [histograms](https://en.wikipedia.org/wiki/Histogram). A histogram will create bins, or ranges, within a variable and then count up the frequency for that bin. If we look at household median income, we may have bins of $10,000, and then we'd count how many tracts fall within that bin:"
   ]
  },
  {
   "cell_type": "code",
   "execution_count": 31,
   "metadata": {},
   "outputs": [
    {
     "data": {
      "application/vnd.jupyter.widget-view+json": {
       "model_id": "95937aec04504be696f54215e6d29bec",
       "version_major": 2,
       "version_minor": 0
      },
      "text/plain": [
       "interactive(children=(Dropdown(description='var_name', options=('Unemployment %', 'Household Median Income', \"…"
      ]
     },
     "metadata": {},
     "output_type": "display_data"
    }
   ],
   "source": [
    "# only take rows where we have data\n",
    "valid_data = joined_data.where(joined_data['Unemployment %'] != 0)\n",
    "\n",
    "# some interactive function\n",
    "def viz_dist(var_name, tract):\n",
    "    x = valid_data.where(var_name, lambda x: not pd.isna(x))[var_name]\n",
    "    \n",
    "    plt.hist(x)\n",
    "    plt.axvline(x=valid_data.where(\"Census Tract\", tract)[var_name], color = \"RED\")\n",
    "    plt.xlabel(var_name, fontsize=18)\n",
    "    plt.show()\n",
    "\n",
    "display(widgets.interactive(viz_dist, var_name=list(valid_data.labels[1:]), \n",
    "                            tract=list(valid_data[\"Census Tract\"])))"
   ]
  },
  {
   "cell_type": "markdown",
   "metadata": {},
   "source": [
    "<div class=\"alert alert-info\">\n",
    "\n",
    "**QUESTION:** What do these distributions tell you?\n",
    "\n",
    "</div>"
   ]
  },
  {
   "cell_type": "markdown",
   "metadata": {},
   "source": [
    "_Type your answer here, replacing this text._"
   ]
  },
  {
   "cell_type": "markdown",
   "metadata": {},
   "source": [
    "---\n",
    "\n",
    "\n",
    "# Part 4: Correlation<a id='correlation'></a>\n",
    "\n",
    "Let's first analyze income levels. We have sorted the data according to income level. Compare the income levels to the level of social disorder and amenities. Is there a correlation you can spot(as one increases or decreases, does the other do the same)?"
   ]
  },
  {
   "cell_type": "code",
   "execution_count": 32,
   "metadata": {},
   "outputs": [
    {
     "data": {
      "text/html": [
       "<table border=\"1\" class=\"dataframe\">\n",
       "    <thead>\n",
       "        <tr>\n",
       "            <th>Household Median Income</th> <th>Social Disorder</th> <th>Positive Amenities</th> <th>Negative Amenities</th>\n",
       "        </tr>\n",
       "    </thead>\n",
       "    <tbody>\n",
       "        <tr>\n",
       "            <td>150673                 </td> <td>0.109722       </td> <td>0.111111          </td> <td>0                 </td>\n",
       "        </tr>\n",
       "        <tr>\n",
       "            <td>135556                 </td> <td>0.134722       </td> <td>0.152778          </td> <td>0.0555556         </td>\n",
       "        </tr>\n",
       "        <tr>\n",
       "            <td>132250                 </td> <td>0.144444       </td> <td>0.125             </td> <td>0                 </td>\n",
       "        </tr>\n",
       "        <tr>\n",
       "            <td>117083                 </td> <td>0.104167       </td> <td>0.208333          </td> <td>0                 </td>\n",
       "        </tr>\n",
       "        <tr>\n",
       "            <td>107875                 </td> <td>0.168333       </td> <td>0.216667          </td> <td>0                 </td>\n",
       "        </tr>\n",
       "        <tr>\n",
       "            <td>85119                  </td> <td>0.0472222      </td> <td>0.277778          </td> <td>0.259259          </td>\n",
       "        </tr>\n",
       "        <tr>\n",
       "            <td>82206                  </td> <td>0.12           </td> <td>0.1               </td> <td>0.0666667         </td>\n",
       "        </tr>\n",
       "        <tr>\n",
       "            <td>80404                  </td> <td>0.125          </td> <td>0.316667          </td> <td>0.0666667         </td>\n",
       "        </tr>\n",
       "        <tr>\n",
       "            <td>76038                  </td> <td>0.2875         </td> <td>0.180556          </td> <td>0.0555556         </td>\n",
       "        </tr>\n",
       "        <tr>\n",
       "            <td>68190                  </td> <td>0.106944       </td> <td>0.138889          </td> <td>0                 </td>\n",
       "        </tr>\n",
       "        <tr>\n",
       "            <td>61543                  </td> <td>0.341667       </td> <td>0.111111          </td> <td>0.12963           </td>\n",
       "        </tr>\n",
       "        <tr>\n",
       "            <td>60804                  </td> <td>0.202778       </td> <td>0.0694444         </td> <td>0.0925926         </td>\n",
       "        </tr>\n",
       "        <tr>\n",
       "            <td>59250                  </td> <td>0.298333       </td> <td>0.316667          </td> <td>0.111111          </td>\n",
       "        </tr>\n",
       "        <tr>\n",
       "            <td>57064                  </td> <td>0.302778       </td> <td>0.111111          </td> <td>0.0740741         </td>\n",
       "        </tr>\n",
       "        <tr>\n",
       "            <td>54554                  </td> <td>0.201667       </td> <td>0.166667          </td> <td>0.0222222         </td>\n",
       "        </tr>\n",
       "        <tr>\n",
       "            <td>44766                  </td> <td>0.308333       </td> <td>0.0694444         </td> <td>0.185185          </td>\n",
       "        </tr>\n",
       "        <tr>\n",
       "            <td>42813                  </td> <td>0.2875         </td> <td>0.104167          </td> <td>0.0277778         </td>\n",
       "        </tr>\n",
       "        <tr>\n",
       "            <td>40169                  </td> <td>0.319444       </td> <td>0.166667          </td> <td>0                 </td>\n",
       "        </tr>\n",
       "        <tr>\n",
       "            <td>39614                  </td> <td>0.283333       </td> <td>0.111111          </td> <td>0.0185185         </td>\n",
       "        </tr>\n",
       "        <tr>\n",
       "            <td>38689                  </td> <td>0.145833       </td> <td>0.229167          </td> <td>0.0555556         </td>\n",
       "        </tr>\n",
       "        <tr>\n",
       "            <td>28532                  </td> <td>0.484524       </td> <td>0.202381          </td> <td>0.0952381         </td>\n",
       "        </tr>\n",
       "        <tr>\n",
       "            <td>24702                  </td> <td>0.270833       </td> <td>0.277778          </td> <td>0.12963           </td>\n",
       "        </tr>\n",
       "        <tr>\n",
       "            <td>17609                  </td> <td>0.343056       </td> <td>0.208333          </td> <td>0.166667          </td>\n",
       "        </tr>\n",
       "        <tr>\n",
       "            <td>17278                  </td> <td>0.315          </td> <td>0.183333          </td> <td>0.0888889         </td>\n",
       "        </tr>\n",
       "    </tbody>\n",
       "</table>"
      ],
      "text/plain": [
       "<IPython.core.display.HTML object>"
      ]
     },
     "metadata": {},
     "output_type": "display_data"
    }
   ],
   "source": [
    "(valid_data\n",
    " .sort(\"Household Median Income\", descending=True)\n",
    " .select(\"Household Median Income\", \"Social Disorder\", \"Positive Amenities\", \"Negative Amenities\")\n",
    ").show()"
   ]
  },
  {
   "cell_type": "markdown",
   "metadata": {},
   "source": [
    "<div class=\"alert alert-info\">\n",
    "\n",
    "**QUESTION:** Did you look at the whole table? A common mistake is to assume that since the top 10 results follow or do not follow a pattern, the rest don't. Real life data is often messy and not clean. Does the correlation continue throughout the whole table (a.k.a. as income decreases the points decrease) or is there no pattern? What does this mean about the data?\n",
    "\n",
    "</div>"
   ]
  },
  {
   "cell_type": "markdown",
   "metadata": {},
   "source": [
    "_Type your answer here, replacing this text._"
   ]
  },
  {
   "cell_type": "markdown",
   "metadata": {},
   "source": [
    "---\n",
    "\n",
    "Eyeballing patterns is not the same as a statisical measure of a correlation; you must quantify it with numbers and statistics to prove your thoughts. Looking at the tables is not a very statistical measure of how much a variable correlates to the results. What does it mean for a variable \"income\" to match 7 out of the top 15 social disorder points? Does this correlate to the rest of the results? How well does it correlate? \n",
    "\n",
    "### The correlation coefficient - *r*\n",
    "\n",
    "> The correlation coefficient ranges from −1 to 1. A value of 1 implies that a linear equation describes the relationship between X and Y perfectly, with all data points lying on a line for which Y increases as X increases. A value of −1 implies that all data points lie on a line for which Y decreases as X increases. A value of 0 implies that there is no linear correlation between the variables. ~Wikipedia\n",
    "\n",
    "*r* = 1: the scatter diagram is a perfect straight line sloping upwards\n",
    "\n",
    "*r* = -1: the scatter diagram is a perfect straight line sloping downwards.\n",
    "\n",
    "Let's calculate the correlation coefficient between acceleration and price. We can use the `corr` method of a DataFrame to generate a correlation matrix of our `joined_data`:"
   ]
  },
  {
   "cell_type": "code",
   "execution_count": 33,
   "metadata": {},
   "outputs": [
    {
     "data": {
      "text/html": [
       "<div>\n",
       "<style scoped>\n",
       "    .dataframe tbody tr th:only-of-type {\n",
       "        vertical-align: middle;\n",
       "    }\n",
       "\n",
       "    .dataframe tbody tr th {\n",
       "        vertical-align: top;\n",
       "    }\n",
       "\n",
       "    .dataframe thead th {\n",
       "        text-align: right;\n",
       "    }\n",
       "</style>\n",
       "<table border=\"1\" class=\"dataframe\">\n",
       "  <thead>\n",
       "    <tr style=\"text-align: right;\">\n",
       "      <th></th>\n",
       "      <th>Unemployment %</th>\n",
       "      <th>Household Median Income</th>\n",
       "      <th>Bachelor's Degree or higher %</th>\n",
       "      <th>% families with income under poverty line</th>\n",
       "      <th>% families with public assistance income</th>\n",
       "      <th>median house value</th>\n",
       "      <th>% white</th>\n",
       "      <th>% black</th>\n",
       "      <th>% asian</th>\n",
       "      <th>% hispanic/latino</th>\n",
       "      <th>% foreign born</th>\n",
       "      <th>% single mother family</th>\n",
       "      <th>Social Disorder</th>\n",
       "      <th>Positive Amenities</th>\n",
       "      <th>Negative Amenities</th>\n",
       "    </tr>\n",
       "  </thead>\n",
       "  <tbody>\n",
       "    <tr>\n",
       "      <th>Unemployment %</th>\n",
       "      <td>1.000000</td>\n",
       "      <td>-0.603165</td>\n",
       "      <td>-0.713526</td>\n",
       "      <td>0.440112</td>\n",
       "      <td>0.486698</td>\n",
       "      <td>-0.562424</td>\n",
       "      <td>-0.605472</td>\n",
       "      <td>0.654917</td>\n",
       "      <td>0.006495</td>\n",
       "      <td>0.208379</td>\n",
       "      <td>0.071717</td>\n",
       "      <td>0.440705</td>\n",
       "      <td>0.626375</td>\n",
       "      <td>-0.166044</td>\n",
       "      <td>0.124368</td>\n",
       "    </tr>\n",
       "    <tr>\n",
       "      <th>Household Median Income</th>\n",
       "      <td>-0.603165</td>\n",
       "      <td>1.000000</td>\n",
       "      <td>0.666749</td>\n",
       "      <td>-0.720950</td>\n",
       "      <td>-0.377383</td>\n",
       "      <td>0.824158</td>\n",
       "      <td>0.831746</td>\n",
       "      <td>-0.529505</td>\n",
       "      <td>-0.320564</td>\n",
       "      <td>-0.329685</td>\n",
       "      <td>-0.379526</td>\n",
       "      <td>-0.673784</td>\n",
       "      <td>-0.691037</td>\n",
       "      <td>-0.101163</td>\n",
       "      <td>-0.372846</td>\n",
       "    </tr>\n",
       "    <tr>\n",
       "      <th>Bachelor's Degree or higher %</th>\n",
       "      <td>-0.713526</td>\n",
       "      <td>0.666749</td>\n",
       "      <td>1.000000</td>\n",
       "      <td>-0.728400</td>\n",
       "      <td>-0.686351</td>\n",
       "      <td>0.893376</td>\n",
       "      <td>0.808593</td>\n",
       "      <td>-0.757976</td>\n",
       "      <td>-0.135170</td>\n",
       "      <td>-0.247850</td>\n",
       "      <td>-0.097317</td>\n",
       "      <td>-0.548979</td>\n",
       "      <td>-0.810221</td>\n",
       "      <td>-0.015571</td>\n",
       "      <td>-0.367913</td>\n",
       "    </tr>\n",
       "    <tr>\n",
       "      <th>% families with income under poverty line</th>\n",
       "      <td>0.440112</td>\n",
       "      <td>-0.720950</td>\n",
       "      <td>-0.728400</td>\n",
       "      <td>1.000000</td>\n",
       "      <td>0.701519</td>\n",
       "      <td>-0.789058</td>\n",
       "      <td>-0.789171</td>\n",
       "      <td>0.629719</td>\n",
       "      <td>0.168780</td>\n",
       "      <td>0.456315</td>\n",
       "      <td>0.264307</td>\n",
       "      <td>0.552157</td>\n",
       "      <td>0.682915</td>\n",
       "      <td>0.198259</td>\n",
       "      <td>0.261428</td>\n",
       "    </tr>\n",
       "    <tr>\n",
       "      <th>% families with public assistance income</th>\n",
       "      <td>0.486698</td>\n",
       "      <td>-0.377383</td>\n",
       "      <td>-0.686351</td>\n",
       "      <td>0.701519</td>\n",
       "      <td>1.000000</td>\n",
       "      <td>-0.580419</td>\n",
       "      <td>-0.465503</td>\n",
       "      <td>0.767828</td>\n",
       "      <td>-0.282785</td>\n",
       "      <td>0.485997</td>\n",
       "      <td>-0.223277</td>\n",
       "      <td>0.464966</td>\n",
       "      <td>0.635373</td>\n",
       "      <td>-0.141723</td>\n",
       "      <td>0.033425</td>\n",
       "    </tr>\n",
       "    <tr>\n",
       "      <th>median house value</th>\n",
       "      <td>-0.562424</td>\n",
       "      <td>0.824158</td>\n",
       "      <td>0.893376</td>\n",
       "      <td>-0.789058</td>\n",
       "      <td>-0.580419</td>\n",
       "      <td>1.000000</td>\n",
       "      <td>0.930920</td>\n",
       "      <td>-0.624848</td>\n",
       "      <td>-0.340275</td>\n",
       "      <td>-0.372572</td>\n",
       "      <td>-0.359871</td>\n",
       "      <td>-0.676363</td>\n",
       "      <td>-0.707338</td>\n",
       "      <td>-0.148914</td>\n",
       "      <td>-0.553265</td>\n",
       "    </tr>\n",
       "    <tr>\n",
       "      <th>% white</th>\n",
       "      <td>-0.605472</td>\n",
       "      <td>0.831746</td>\n",
       "      <td>0.808593</td>\n",
       "      <td>-0.789171</td>\n",
       "      <td>-0.465503</td>\n",
       "      <td>0.930920</td>\n",
       "      <td>1.000000</td>\n",
       "      <td>-0.542763</td>\n",
       "      <td>-0.484182</td>\n",
       "      <td>-0.292091</td>\n",
       "      <td>-0.509702</td>\n",
       "      <td>-0.514432</td>\n",
       "      <td>-0.622880</td>\n",
       "      <td>-0.189164</td>\n",
       "      <td>-0.518245</td>\n",
       "    </tr>\n",
       "    <tr>\n",
       "      <th>% black</th>\n",
       "      <td>0.654917</td>\n",
       "      <td>-0.529505</td>\n",
       "      <td>-0.757976</td>\n",
       "      <td>0.629719</td>\n",
       "      <td>0.767828</td>\n",
       "      <td>-0.624848</td>\n",
       "      <td>-0.542763</td>\n",
       "      <td>1.000000</td>\n",
       "      <td>-0.426467</td>\n",
       "      <td>0.478352</td>\n",
       "      <td>-0.374101</td>\n",
       "      <td>0.631991</td>\n",
       "      <td>0.643611</td>\n",
       "      <td>-0.237751</td>\n",
       "      <td>0.122468</td>\n",
       "    </tr>\n",
       "    <tr>\n",
       "      <th>% asian</th>\n",
       "      <td>0.006495</td>\n",
       "      <td>-0.320564</td>\n",
       "      <td>-0.135170</td>\n",
       "      <td>0.168780</td>\n",
       "      <td>-0.282785</td>\n",
       "      <td>-0.340275</td>\n",
       "      <td>-0.484182</td>\n",
       "      <td>-0.426467</td>\n",
       "      <td>1.000000</td>\n",
       "      <td>-0.421236</td>\n",
       "      <td>0.922193</td>\n",
       "      <td>-0.103157</td>\n",
       "      <td>0.052124</td>\n",
       "      <td>0.408226</td>\n",
       "      <td>0.379460</td>\n",
       "    </tr>\n",
       "    <tr>\n",
       "      <th>% hispanic/latino</th>\n",
       "      <td>0.208379</td>\n",
       "      <td>-0.329685</td>\n",
       "      <td>-0.247850</td>\n",
       "      <td>0.456315</td>\n",
       "      <td>0.485997</td>\n",
       "      <td>-0.372572</td>\n",
       "      <td>-0.292091</td>\n",
       "      <td>0.478352</td>\n",
       "      <td>-0.421236</td>\n",
       "      <td>1.000000</td>\n",
       "      <td>-0.227361</td>\n",
       "      <td>0.286904</td>\n",
       "      <td>0.297844</td>\n",
       "      <td>-0.100845</td>\n",
       "      <td>0.048589</td>\n",
       "    </tr>\n",
       "    <tr>\n",
       "      <th>% foreign born</th>\n",
       "      <td>0.071717</td>\n",
       "      <td>-0.379526</td>\n",
       "      <td>-0.097317</td>\n",
       "      <td>0.264307</td>\n",
       "      <td>-0.223277</td>\n",
       "      <td>-0.359871</td>\n",
       "      <td>-0.509702</td>\n",
       "      <td>-0.374101</td>\n",
       "      <td>0.922193</td>\n",
       "      <td>-0.227361</td>\n",
       "      <td>1.000000</td>\n",
       "      <td>-0.124515</td>\n",
       "      <td>0.034989</td>\n",
       "      <td>0.408564</td>\n",
       "      <td>0.283218</td>\n",
       "    </tr>\n",
       "    <tr>\n",
       "      <th>% single mother family</th>\n",
       "      <td>0.440705</td>\n",
       "      <td>-0.673784</td>\n",
       "      <td>-0.548979</td>\n",
       "      <td>0.552157</td>\n",
       "      <td>0.464966</td>\n",
       "      <td>-0.676363</td>\n",
       "      <td>-0.514432</td>\n",
       "      <td>0.631991</td>\n",
       "      <td>-0.103157</td>\n",
       "      <td>0.286904</td>\n",
       "      <td>-0.124515</td>\n",
       "      <td>1.000000</td>\n",
       "      <td>0.545020</td>\n",
       "      <td>-0.029136</td>\n",
       "      <td>0.340014</td>\n",
       "    </tr>\n",
       "    <tr>\n",
       "      <th>Social Disorder</th>\n",
       "      <td>0.626375</td>\n",
       "      <td>-0.691037</td>\n",
       "      <td>-0.810221</td>\n",
       "      <td>0.682915</td>\n",
       "      <td>0.635373</td>\n",
       "      <td>-0.707338</td>\n",
       "      <td>-0.622880</td>\n",
       "      <td>0.643611</td>\n",
       "      <td>0.052124</td>\n",
       "      <td>0.297844</td>\n",
       "      <td>0.034989</td>\n",
       "      <td>0.545020</td>\n",
       "      <td>1.000000</td>\n",
       "      <td>-0.099443</td>\n",
       "      <td>0.201525</td>\n",
       "    </tr>\n",
       "    <tr>\n",
       "      <th>Positive Amenities</th>\n",
       "      <td>-0.166044</td>\n",
       "      <td>-0.101163</td>\n",
       "      <td>-0.015571</td>\n",
       "      <td>0.198259</td>\n",
       "      <td>-0.141723</td>\n",
       "      <td>-0.148914</td>\n",
       "      <td>-0.189164</td>\n",
       "      <td>-0.237751</td>\n",
       "      <td>0.408226</td>\n",
       "      <td>-0.100845</td>\n",
       "      <td>0.408564</td>\n",
       "      <td>-0.029136</td>\n",
       "      <td>-0.099443</td>\n",
       "      <td>1.000000</td>\n",
       "      <td>0.251884</td>\n",
       "    </tr>\n",
       "    <tr>\n",
       "      <th>Negative Amenities</th>\n",
       "      <td>0.124368</td>\n",
       "      <td>-0.372846</td>\n",
       "      <td>-0.367913</td>\n",
       "      <td>0.261428</td>\n",
       "      <td>0.033425</td>\n",
       "      <td>-0.553265</td>\n",
       "      <td>-0.518245</td>\n",
       "      <td>0.122468</td>\n",
       "      <td>0.379460</td>\n",
       "      <td>0.048589</td>\n",
       "      <td>0.283218</td>\n",
       "      <td>0.340014</td>\n",
       "      <td>0.201525</td>\n",
       "      <td>0.251884</td>\n",
       "      <td>1.000000</td>\n",
       "    </tr>\n",
       "  </tbody>\n",
       "</table>\n",
       "</div>"
      ],
      "text/plain": [
       "                                           Unemployment %  \\\n",
       "Unemployment %                                   1.000000   \n",
       "Household Median Income                         -0.603165   \n",
       "Bachelor's Degree or higher %                   -0.713526   \n",
       "% families with income under poverty line        0.440112   \n",
       "% families with public assistance income         0.486698   \n",
       "median house value                              -0.562424   \n",
       "% white                                         -0.605472   \n",
       "% black                                          0.654917   \n",
       "% asian                                          0.006495   \n",
       "% hispanic/latino                                0.208379   \n",
       "% foreign born                                   0.071717   \n",
       "% single mother family                           0.440705   \n",
       "Social Disorder                                  0.626375   \n",
       "Positive Amenities                              -0.166044   \n",
       "Negative Amenities                               0.124368   \n",
       "\n",
       "                                           Household Median Income  \\\n",
       "Unemployment %                                           -0.603165   \n",
       "Household Median Income                                   1.000000   \n",
       "Bachelor's Degree or higher %                             0.666749   \n",
       "% families with income under poverty line                -0.720950   \n",
       "% families with public assistance income                 -0.377383   \n",
       "median house value                                        0.824158   \n",
       "% white                                                   0.831746   \n",
       "% black                                                  -0.529505   \n",
       "% asian                                                  -0.320564   \n",
       "% hispanic/latino                                        -0.329685   \n",
       "% foreign born                                           -0.379526   \n",
       "% single mother family                                   -0.673784   \n",
       "Social Disorder                                          -0.691037   \n",
       "Positive Amenities                                       -0.101163   \n",
       "Negative Amenities                                       -0.372846   \n",
       "\n",
       "                                           Bachelor's Degree or higher %  \\\n",
       "Unemployment %                                                 -0.713526   \n",
       "Household Median Income                                         0.666749   \n",
       "Bachelor's Degree or higher %                                   1.000000   \n",
       "% families with income under poverty line                      -0.728400   \n",
       "% families with public assistance income                       -0.686351   \n",
       "median house value                                              0.893376   \n",
       "% white                                                         0.808593   \n",
       "% black                                                        -0.757976   \n",
       "% asian                                                        -0.135170   \n",
       "% hispanic/latino                                              -0.247850   \n",
       "% foreign born                                                 -0.097317   \n",
       "% single mother family                                         -0.548979   \n",
       "Social Disorder                                                -0.810221   \n",
       "Positive Amenities                                             -0.015571   \n",
       "Negative Amenities                                             -0.367913   \n",
       "\n",
       "                                           % families with income under poverty line  \\\n",
       "Unemployment %                                                              0.440112   \n",
       "Household Median Income                                                    -0.720950   \n",
       "Bachelor's Degree or higher %                                              -0.728400   \n",
       "% families with income under poverty line                                   1.000000   \n",
       "% families with public assistance income                                    0.701519   \n",
       "median house value                                                         -0.789058   \n",
       "% white                                                                    -0.789171   \n",
       "% black                                                                     0.629719   \n",
       "% asian                                                                     0.168780   \n",
       "% hispanic/latino                                                           0.456315   \n",
       "% foreign born                                                              0.264307   \n",
       "% single mother family                                                      0.552157   \n",
       "Social Disorder                                                             0.682915   \n",
       "Positive Amenities                                                          0.198259   \n",
       "Negative Amenities                                                          0.261428   \n",
       "\n",
       "                                           % families with public assistance income   \\\n",
       "Unemployment %                                                              0.486698   \n",
       "Household Median Income                                                    -0.377383   \n",
       "Bachelor's Degree or higher %                                              -0.686351   \n",
       "% families with income under poverty line                                   0.701519   \n",
       "% families with public assistance income                                    1.000000   \n",
       "median house value                                                         -0.580419   \n",
       "% white                                                                    -0.465503   \n",
       "% black                                                                     0.767828   \n",
       "% asian                                                                    -0.282785   \n",
       "% hispanic/latino                                                           0.485997   \n",
       "% foreign born                                                             -0.223277   \n",
       "% single mother family                                                      0.464966   \n",
       "Social Disorder                                                             0.635373   \n",
       "Positive Amenities                                                         -0.141723   \n",
       "Negative Amenities                                                          0.033425   \n",
       "\n",
       "                                           median house value   % white  \\\n",
       "Unemployment %                                      -0.562424 -0.605472   \n",
       "Household Median Income                              0.824158  0.831746   \n",
       "Bachelor's Degree or higher %                        0.893376  0.808593   \n",
       "% families with income under poverty line           -0.789058 -0.789171   \n",
       "% families with public assistance income            -0.580419 -0.465503   \n",
       "median house value                                   1.000000  0.930920   \n",
       "% white                                              0.930920  1.000000   \n",
       "% black                                             -0.624848 -0.542763   \n",
       "% asian                                             -0.340275 -0.484182   \n",
       "% hispanic/latino                                   -0.372572 -0.292091   \n",
       "% foreign born                                      -0.359871 -0.509702   \n",
       "% single mother family                              -0.676363 -0.514432   \n",
       "Social Disorder                                     -0.707338 -0.622880   \n",
       "Positive Amenities                                  -0.148914 -0.189164   \n",
       "Negative Amenities                                  -0.553265 -0.518245   \n",
       "\n",
       "                                            % black   % asian  \\\n",
       "Unemployment %                             0.654917  0.006495   \n",
       "Household Median Income                   -0.529505 -0.320564   \n",
       "Bachelor's Degree or higher %             -0.757976 -0.135170   \n",
       "% families with income under poverty line  0.629719  0.168780   \n",
       "% families with public assistance income   0.767828 -0.282785   \n",
       "median house value                        -0.624848 -0.340275   \n",
       "% white                                   -0.542763 -0.484182   \n",
       "% black                                    1.000000 -0.426467   \n",
       "% asian                                   -0.426467  1.000000   \n",
       "% hispanic/latino                          0.478352 -0.421236   \n",
       "% foreign born                            -0.374101  0.922193   \n",
       "% single mother family                     0.631991 -0.103157   \n",
       "Social Disorder                            0.643611  0.052124   \n",
       "Positive Amenities                        -0.237751  0.408226   \n",
       "Negative Amenities                         0.122468  0.379460   \n",
       "\n",
       "                                           % hispanic/latino  % foreign born  \\\n",
       "Unemployment %                                      0.208379        0.071717   \n",
       "Household Median Income                            -0.329685       -0.379526   \n",
       "Bachelor's Degree or higher %                      -0.247850       -0.097317   \n",
       "% families with income under poverty line           0.456315        0.264307   \n",
       "% families with public assistance income            0.485997       -0.223277   \n",
       "median house value                                 -0.372572       -0.359871   \n",
       "% white                                            -0.292091       -0.509702   \n",
       "% black                                             0.478352       -0.374101   \n",
       "% asian                                            -0.421236        0.922193   \n",
       "% hispanic/latino                                   1.000000       -0.227361   \n",
       "% foreign born                                     -0.227361        1.000000   \n",
       "% single mother family                              0.286904       -0.124515   \n",
       "Social Disorder                                     0.297844        0.034989   \n",
       "Positive Amenities                                 -0.100845        0.408564   \n",
       "Negative Amenities                                  0.048589        0.283218   \n",
       "\n",
       "                                           % single mother family  \\\n",
       "Unemployment %                                           0.440705   \n",
       "Household Median Income                                 -0.673784   \n",
       "Bachelor's Degree or higher %                           -0.548979   \n",
       "% families with income under poverty line                0.552157   \n",
       "% families with public assistance income                 0.464966   \n",
       "median house value                                      -0.676363   \n",
       "% white                                                 -0.514432   \n",
       "% black                                                  0.631991   \n",
       "% asian                                                 -0.103157   \n",
       "% hispanic/latino                                        0.286904   \n",
       "% foreign born                                          -0.124515   \n",
       "% single mother family                                   1.000000   \n",
       "Social Disorder                                          0.545020   \n",
       "Positive Amenities                                      -0.029136   \n",
       "Negative Amenities                                       0.340014   \n",
       "\n",
       "                                           Social Disorder  \\\n",
       "Unemployment %                                    0.626375   \n",
       "Household Median Income                          -0.691037   \n",
       "Bachelor's Degree or higher %                    -0.810221   \n",
       "% families with income under poverty line         0.682915   \n",
       "% families with public assistance income          0.635373   \n",
       "median house value                               -0.707338   \n",
       "% white                                          -0.622880   \n",
       "% black                                           0.643611   \n",
       "% asian                                           0.052124   \n",
       "% hispanic/latino                                 0.297844   \n",
       "% foreign born                                    0.034989   \n",
       "% single mother family                            0.545020   \n",
       "Social Disorder                                   1.000000   \n",
       "Positive Amenities                               -0.099443   \n",
       "Negative Amenities                                0.201525   \n",
       "\n",
       "                                           Positive Amenities  \\\n",
       "Unemployment %                                      -0.166044   \n",
       "Household Median Income                             -0.101163   \n",
       "Bachelor's Degree or higher %                       -0.015571   \n",
       "% families with income under poverty line            0.198259   \n",
       "% families with public assistance income            -0.141723   \n",
       "median house value                                  -0.148914   \n",
       "% white                                             -0.189164   \n",
       "% black                                             -0.237751   \n",
       "% asian                                              0.408226   \n",
       "% hispanic/latino                                   -0.100845   \n",
       "% foreign born                                       0.408564   \n",
       "% single mother family                              -0.029136   \n",
       "Social Disorder                                     -0.099443   \n",
       "Positive Amenities                                   1.000000   \n",
       "Negative Amenities                                   0.251884   \n",
       "\n",
       "                                           Negative Amenities  \n",
       "Unemployment %                                       0.124368  \n",
       "Household Median Income                             -0.372846  \n",
       "Bachelor's Degree or higher %                       -0.367913  \n",
       "% families with income under poverty line            0.261428  \n",
       "% families with public assistance income             0.033425  \n",
       "median house value                                  -0.553265  \n",
       "% white                                             -0.518245  \n",
       "% black                                              0.122468  \n",
       "% asian                                              0.379460  \n",
       "% hispanic/latino                                    0.048589  \n",
       "% foreign born                                       0.283218  \n",
       "% single mother family                               0.340014  \n",
       "Social Disorder                                      0.201525  \n",
       "Positive Amenities                                   0.251884  \n",
       "Negative Amenities                                   1.000000  "
      ]
     },
     "execution_count": 33,
     "metadata": {},
     "output_type": "execute_result"
    }
   ],
   "source": [
    "valid_data.to_df().corr()"
   ]
  },
  {
   "cell_type": "markdown",
   "metadata": {},
   "source": [
    "You'll notice that the matrix is mirrored with a `1.000000` going down the diagonal. This matrix yields the correlation coefficient for each variable to every other variable in our data.\n",
    "\n",
    "For example, if we look at the `Social Disorder`, we see that there is a `0.911115` correlation, implying that there is a strong positive relationship between our constructed social disorder variable and the unemployment rate (i.e., as one goes up the other goes up too)."
   ]
  },
  {
   "cell_type": "markdown",
   "metadata": {},
   "source": [
    "<div class=\"alert alert-info\">\n",
    "\n",
    "**QUESTION:** What else do you notice about the correlation values above?\n",
    "\n",
    "</div>"
   ]
  },
  {
   "cell_type": "markdown",
   "metadata": {},
   "source": [
    "_Type your answere here, replacing this text._"
   ]
  },
  {
   "cell_type": "markdown",
   "metadata": {},
   "source": [
    "---\n",
    "\n"
   ]
  },
  {
   "cell_type": "markdown",
   "metadata": {},
   "source": [
    "# Part 5: Regression<a id='regression'></a>\n",
    "\n",
    "We will now use a method called linear regression to make a graph that will show the best fit line that correlates to the data. The slope of the line will show whether it is positively correlated or negatively correlated. The code that we've created so far has helped us establish a relationship between our two variables. Once a relationship has been established, it's time to create a model of the data. To do this we'll find the equation of the **regression line**!\n",
    "\n",
    "The regression line is the **best fit** line for our data. It’s like an average of where all the points line up. In linear regression, the regression line is a perfectly straight line! Below is a picture showing the best fit line.\n",
    "\n",
    "![image](http://onlinestatbook.com/2/regression/graphics/gpa.jpg)\n",
    "\n",
    "As you can infer from the picture, once we find the **slope** and the **y-intercept** we can start predicting values! The equation for the above regression to predict university GPA based on high school GPA would look like this:\n",
    "\n",
    "$\\text{UNIGPA}_i= \\alpha + \\beta \\cdot \\text{HSGPA} + \\epsilon_i$\n",
    "\n",
    "The variable we want to predict (or model) is the left side `y` variable, the variable which we think has an influence on our left side variable is on the right side. The $\\alpha$ term is the y-intercept and the $\\epsilon_i$ describes the randomness.\n",
    "\n",
    "We can set up a visualization to choose which variables we want as `x` and `y` and then plot the line of best fit:"
   ]
  },
  {
   "cell_type": "code",
   "execution_count": 34,
   "metadata": {},
   "outputs": [
    {
     "data": {
      "application/vnd.jupyter.widget-view+json": {
       "model_id": "c222d0e512084d19925e630809b4c4a4",
       "version_major": 2,
       "version_minor": 0
      },
      "text/plain": [
       "interactive(children=(Dropdown(description='x_variable', options=('Unemployment %', 'Household Median Income',…"
      ]
     },
     "metadata": {},
     "output_type": "display_data"
    }
   ],
   "source": [
    "def f(x_variable, y_variable):\n",
    "    \n",
    "    if \"median house value\" in [x_variable, y_variable]:\n",
    "         # if not all census tracts have values, we drop N/A values and create new table\n",
    "        drop_na = joined_data.to_df().dropna() \n",
    "        #selecting columns from the new table\n",
    "        x = drop_na[x_variable]\n",
    "        y = drop_na[y_variable]\n",
    "        \n",
    "    else:\n",
    "        x = joined_data[x_variable]\n",
    "        y = joined_data[y_variable]\n",
    "        \n",
    "    #plotting the graph\n",
    "    plt.scatter(x, y)\n",
    "    plt.xlabel(x_variable, fontsize=18)\n",
    "    plt.ylabel(y_variable, fontsize=18)\n",
    "    plt.plot(np.unique(x), np.poly1d(np.polyfit(x, y, 1))(np.unique(x)), color=\"r\") #calculate line of best fit\n",
    "    plt.show()\n",
    "    slope, intercept, r_value, p_value, std_err = stats.linregress(x, y) #gets the r_value\n",
    "    print(\"R-squared: \", r_value**2)\n",
    "    \n",
    "display(widgets.interactive(f, x_variable=list(valid_data)[1:], y_variable=list(valid_data)[1:]))"
   ]
  },
  {
   "cell_type": "markdown",
   "metadata": {},
   "source": [
    "***Note:*** The `R-squared` tells us how much of the variation in the data can be explained by our model.\n",
    "\n",
    "Why is this a better method than just sorting tables? First of all, we are now comparing all of the data in the graph to the variable, rather than comparing what our eyes glance quickly over. It shows a more complete picture than just saying \"There are some similar results in the top half of the sorted data\". Second of all, the graph gives a more intuitive sense to see if your variable does match the data. You can quickly see if the data points match up with the regression line. Lastly, the r-squared value will give you a way to quantify how good the variable is to explain the data.\n",
    "\n",
    "One of the beautiful things about computer science and statistics is that you do not need to reinvent the wheel. You don't need to know how to calculate the `R-squared` value, or draw the regression line; someone has already implemented it! You simply need to tell the computer to calculate it. However, if you are interested in these mathematical models, take a data science or statistics course!\n",
    "\n",
    "\n",
    "---\n",
    "## Peer Consulting Office Hours\n",
    "\n",
    "Not quite understand everything covered in this notebook? Curious about concepts covered in this lab at a deeper level? Looking for more data enabled courses with modules like this? **Come to Peer Consulting Office Hours at 3rd Floor Moffitt!** Find a Peer Consultant with the expertise you need and get your questions answered: [Office Hours Schedule is linked here]( https://data.berkeley.edu/education/peer-consulting)!\n",
    "\n",
    "\n",
    "## We Want Your Feedback!\n",
    "\n",
    "Help us make your module experience better in future courses: ***Please fill out our short [feedback form](https://docs.google.com/forms/d/e/1FAIpQLSfahkYSKqlEEfC6WMKlaqeIxRVj0r7T4N5lgBf9bRVwRG58wQ/viewform)!***\n",
    "\n",
    "---\n",
    "\n",
    "Fall 2019 Notebook revised by: Yana Mykhailovska, Timlan Wong, Xiantao Wang\n",
    "\n",
    "Fall 2018 Notebook developed by: Keeley Takimoto, Anna Nguyen, Taj Shaik, Keiko Kamei\n",
    "\n",
    "Adapted from Spring 2018 and Fall 2017 materials by: Anna Nguyen, Sujude Dalieh, Michaela Palmer, Gavin Poe, Theodore Tran \n",
    "\n",
    "Data Science Modules: http://data.berkeley.edu/education/modules"
   ]
  },
  {
   "cell_type": "markdown",
   "metadata": {},
   "source": [
    "# NEW STUFF - for Redlining - Below"
   ]
  },
  {
   "cell_type": "code",
   "execution_count": 52,
   "metadata": {},
   "outputs": [],
   "source": [
    "import geopandas as gpd"
   ]
  },
  {
   "cell_type": "code",
   "execution_count": 54,
   "metadata": {},
   "outputs": [],
   "source": [
    "oakland_gdf= gpd.read_file(\"data/CAOakland1937.geojson\")"
   ]
  },
  {
   "cell_type": "code",
   "execution_count": 56,
   "metadata": {},
   "outputs": [
    {
     "data": {
      "text/html": [
       "<div>\n",
       "<style scoped>\n",
       "    .dataframe tbody tr th:only-of-type {\n",
       "        vertical-align: middle;\n",
       "    }\n",
       "\n",
       "    .dataframe tbody tr th {\n",
       "        vertical-align: top;\n",
       "    }\n",
       "\n",
       "    .dataframe thead th {\n",
       "        text-align: right;\n",
       "    }\n",
       "</style>\n",
       "<table border=\"1\" class=\"dataframe\">\n",
       "  <thead>\n",
       "    <tr style=\"text-align: right;\">\n",
       "      <th></th>\n",
       "      <th>name</th>\n",
       "      <th>holc_id</th>\n",
       "      <th>holc_grade</th>\n",
       "      <th>area_description_data</th>\n",
       "      <th>geometry</th>\n",
       "    </tr>\n",
       "  </thead>\n",
       "  <tbody>\n",
       "    <tr>\n",
       "      <th>0</th>\n",
       "      <td>None</td>\n",
       "      <td>A</td>\n",
       "      <td>A</td>\n",
       "      <td>{'': ''}</td>\n",
       "      <td>(POLYGON ((-122.202522 37.810986, -122.202308 ...</td>\n",
       "    </tr>\n",
       "    <tr>\n",
       "      <th>1</th>\n",
       "      <td>None</td>\n",
       "      <td>A1</td>\n",
       "      <td>A</td>\n",
       "      <td>{'1': 'Berkeley Green A-1', '2': 'Characterize...</td>\n",
       "      <td>(POLYGON ((-122.263194 37.900395, -122.261827 ...</td>\n",
       "    </tr>\n",
       "    <tr>\n",
       "      <th>2</th>\n",
       "      <td>None</td>\n",
       "      <td>A10</td>\n",
       "      <td>A</td>\n",
       "      <td>{'1': 'Oakland, California Low Green A-10', '2...</td>\n",
       "      <td>(POLYGON ((-122.23403 37.80671, -122.234358 37...</td>\n",
       "    </tr>\n",
       "    <tr>\n",
       "      <th>3</th>\n",
       "      <td>None</td>\n",
       "      <td>A11</td>\n",
       "      <td>A</td>\n",
       "      <td>{'1': 'Oakland, California Green A-11', '2': '...</td>\n",
       "      <td>(POLYGON ((-122.202522 37.810986, -122.203372 ...</td>\n",
       "    </tr>\n",
       "    <tr>\n",
       "      <th>4</th>\n",
       "      <td>None</td>\n",
       "      <td>A2</td>\n",
       "      <td>A</td>\n",
       "      <td>{'1': 'Berkeley, California Green A-2', '2': '...</td>\n",
       "      <td>(POLYGON ((-122.278471 37.897102, -122.278515 ...</td>\n",
       "    </tr>\n",
       "  </tbody>\n",
       "</table>\n",
       "</div>"
      ],
      "text/plain": [
       "   name holc_id holc_grade                              area_description_data  \\\n",
       "0  None       A          A                                           {'': ''}   \n",
       "1  None      A1          A  {'1': 'Berkeley Green A-1', '2': 'Characterize...   \n",
       "2  None     A10          A  {'1': 'Oakland, California Low Green A-10', '2...   \n",
       "3  None     A11          A  {'1': 'Oakland, California Green A-11', '2': '...   \n",
       "4  None      A2          A  {'1': 'Berkeley, California Green A-2', '2': '...   \n",
       "\n",
       "                                            geometry  \n",
       "0  (POLYGON ((-122.202522 37.810986, -122.202308 ...  \n",
       "1  (POLYGON ((-122.263194 37.900395, -122.261827 ...  \n",
       "2  (POLYGON ((-122.23403 37.80671, -122.234358 37...  \n",
       "3  (POLYGON ((-122.202522 37.810986, -122.203372 ...  \n",
       "4  (POLYGON ((-122.278471 37.897102, -122.278515 ...  "
      ]
     },
     "execution_count": 56,
     "metadata": {},
     "output_type": "execute_result"
    }
   ],
   "source": [
    "oakland_gdf.head()"
   ]
  },
  {
   "cell_type": "code",
   "execution_count": 57,
   "metadata": {},
   "outputs": [
    {
     "data": {
      "text/plain": [
       "B    46\n",
       "C    41\n",
       "D    20\n",
       "A    12\n",
       "Name: holc_grade, dtype: int64"
      ]
     },
     "execution_count": 57,
     "metadata": {},
     "output_type": "execute_result"
    }
   ],
   "source": [
    "oakland_gdf.holc_grade.value_counts()"
   ]
  },
  {
   "cell_type": "code",
   "execution_count": 129,
   "metadata": {},
   "outputs": [],
   "source": [
    "# Subset the redlining data to keep only those with a bad grade (D)\n",
    "oakland_d = oakland_gdf[oakland_gdf['holc_grade']=='D']"
   ]
  },
  {
   "cell_type": "code",
   "execution_count": 130,
   "metadata": {},
   "outputs": [
    {
     "data": {
      "text/plain": [
       "D    20\n",
       "Name: holc_grade, dtype: int64"
      ]
     },
     "execution_count": 130,
     "metadata": {},
     "output_type": "execute_result"
    }
   ],
   "source": [
    "oakland_d.holc_grade.value_counts()"
   ]
  },
  {
   "cell_type": "code",
   "execution_count": 138,
   "metadata": {},
   "outputs": [
    {
     "data": {
      "text/html": [
       "<div style=\"width:100%;\"><div style=\"position:relative;width:100%;height:0;padding-bottom:60%;\"><iframe src=\"data:text/html;charset=utf-8;base64,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\" style=\"position:absolute;width:100%;height:100%;left:0;top:0;border:none !important;\" allowfullscreen webkitallowfullscreen mozallowfullscreen></iframe></div></div>"
      ],
      "text/plain": [
       "<folium.folium.Map at 0x7faad5020518>"
      ]
     },
     "execution_count": 138,
     "metadata": {},
     "output_type": "execute_result"
    }
   ],
   "source": [
    "#Map the redlined D areas\n",
    "m1 = folium.Map(location=(37.8044, -122.2711), zoom_start=12.4)\n",
    "\n",
    "m1.choropleth(oakland_d, fill_color=\"white\", fill_opacity=0.25)\n",
    "m1"
   ]
  },
  {
   "cell_type": "markdown",
   "metadata": {},
   "source": [
    " "
   ]
  },
  {
   "cell_type": "code",
   "execution_count": 120,
   "metadata": {},
   "outputs": [
    {
     "data": {
      "text/html": [
       "<div>\n",
       "<style scoped>\n",
       "    .dataframe tbody tr th:only-of-type {\n",
       "        vertical-align: middle;\n",
       "    }\n",
       "\n",
       "    .dataframe tbody tr th {\n",
       "        vertical-align: top;\n",
       "    }\n",
       "\n",
       "    .dataframe thead th {\n",
       "        text-align: right;\n",
       "    }\n",
       "</style>\n",
       "<table border=\"1\" class=\"dataframe\">\n",
       "  <thead>\n",
       "    <tr style=\"text-align: right;\">\n",
       "      <th></th>\n",
       "      <th>FIPS</th>\n",
       "      <th>Name of Area</th>\n",
       "      <th>Total Population</th>\n",
       "      <th>Percent Non-Hispanic White</th>\n",
       "      <th>Percent Black</th>\n",
       "      <th>Percent Hispanic</th>\n",
       "      <th>Percent Asian</th>\n",
       "      <th>Percent Other Race/Ethnicity</th>\n",
       "      <th>Poverty Rate</th>\n",
       "      <th>Percent BA or Higher</th>\n",
       "      <th>High School Drop Out Rate</th>\n",
       "      <th>Median Household Income</th>\n",
       "      <th>Housing Units</th>\n",
       "      <th>Percent Owner Occupied</th>\n",
       "      <th>Median House Value</th>\n",
       "    </tr>\n",
       "  </thead>\n",
       "  <tbody>\n",
       "    <tr>\n",
       "      <th>0</th>\n",
       "      <td>6001400100</td>\n",
       "      <td>Census Tract 4001, Alameda County, California</td>\n",
       "      <td>2991</td>\n",
       "      <td>69.2</td>\n",
       "      <td>2.8</td>\n",
       "      <td>3.8</td>\n",
       "      <td>16.2</td>\n",
       "      <td>8.0</td>\n",
       "      <td>4.2</td>\n",
       "      <td>81.3</td>\n",
       "      <td>0.0</td>\n",
       "      <td>208393</td>\n",
       "      <td>1254</td>\n",
       "      <td>88.0</td>\n",
       "      <td>1104500.0</td>\n",
       "    </tr>\n",
       "    <tr>\n",
       "      <th>1</th>\n",
       "      <td>6001400200</td>\n",
       "      <td>Census Tract 4002, Alameda County, California</td>\n",
       "      <td>1997</td>\n",
       "      <td>71.3</td>\n",
       "      <td>0.9</td>\n",
       "      <td>8.9</td>\n",
       "      <td>9.8</td>\n",
       "      <td>9.1</td>\n",
       "      <td>5.5</td>\n",
       "      <td>81.7</td>\n",
       "      <td>0.0</td>\n",
       "      <td>147500</td>\n",
       "      <td>828</td>\n",
       "      <td>59.8</td>\n",
       "      <td>1045200.0</td>\n",
       "    </tr>\n",
       "    <tr>\n",
       "      <th>2</th>\n",
       "      <td>6001400300</td>\n",
       "      <td>Census Tract 4003, Alameda County, California</td>\n",
       "      <td>5123</td>\n",
       "      <td>67.0</td>\n",
       "      <td>9.4</td>\n",
       "      <td>7.5</td>\n",
       "      <td>9.8</td>\n",
       "      <td>6.3</td>\n",
       "      <td>7.5</td>\n",
       "      <td>66.3</td>\n",
       "      <td>0.0</td>\n",
       "      <td>88173</td>\n",
       "      <td>2458</td>\n",
       "      <td>43.7</td>\n",
       "      <td>943300.0</td>\n",
       "    </tr>\n",
       "    <tr>\n",
       "      <th>3</th>\n",
       "      <td>6001400400</td>\n",
       "      <td>Census Tract 4004, Alameda County, California</td>\n",
       "      <td>3991</td>\n",
       "      <td>65.8</td>\n",
       "      <td>6.0</td>\n",
       "      <td>9.4</td>\n",
       "      <td>12.1</td>\n",
       "      <td>6.7</td>\n",
       "      <td>9.2</td>\n",
       "      <td>80.1</td>\n",
       "      <td>0.0</td>\n",
       "      <td>102821</td>\n",
       "      <td>1786</td>\n",
       "      <td>36.7</td>\n",
       "      <td>872400.0</td>\n",
       "    </tr>\n",
       "    <tr>\n",
       "      <th>4</th>\n",
       "      <td>6001400500</td>\n",
       "      <td>Census Tract 4005, Alameda County, California</td>\n",
       "      <td>3944</td>\n",
       "      <td>53.4</td>\n",
       "      <td>24.1</td>\n",
       "      <td>10.3</td>\n",
       "      <td>5.6</td>\n",
       "      <td>6.6</td>\n",
       "      <td>9.4</td>\n",
       "      <td>67.2</td>\n",
       "      <td>0.0</td>\n",
       "      <td>92375</td>\n",
       "      <td>1625</td>\n",
       "      <td>35.8</td>\n",
       "      <td>721700.0</td>\n",
       "    </tr>\n",
       "  </tbody>\n",
       "</table>\n",
       "</div>"
      ],
      "text/plain": [
       "         FIPS                                   Name of Area  \\\n",
       "0  6001400100  Census Tract 4001, Alameda County, California   \n",
       "1  6001400200  Census Tract 4002, Alameda County, California   \n",
       "2  6001400300  Census Tract 4003, Alameda County, California   \n",
       "3  6001400400  Census Tract 4004, Alameda County, California   \n",
       "4  6001400500  Census Tract 4005, Alameda County, California   \n",
       "\n",
       "   Total Population  Percent Non-Hispanic White  Percent Black  \\\n",
       "0              2991                        69.2            2.8   \n",
       "1              1997                        71.3            0.9   \n",
       "2              5123                        67.0            9.4   \n",
       "3              3991                        65.8            6.0   \n",
       "4              3944                        53.4           24.1   \n",
       "\n",
       "   Percent Hispanic  Percent Asian  Percent Other Race/Ethnicity  \\\n",
       "0               3.8           16.2                           8.0   \n",
       "1               8.9            9.8                           9.1   \n",
       "2               7.5            9.8                           6.3   \n",
       "3               9.4           12.1                           6.7   \n",
       "4              10.3            5.6                           6.6   \n",
       "\n",
       "   Poverty Rate  Percent BA or Higher  High School Drop Out Rate  \\\n",
       "0           4.2                  81.3                        0.0   \n",
       "1           5.5                  81.7                        0.0   \n",
       "2           7.5                  66.3                        0.0   \n",
       "3           9.2                  80.1                        0.0   \n",
       "4           9.4                  67.2                        0.0   \n",
       "\n",
       "   Median Household Income  Housing Units  Percent Owner Occupied  \\\n",
       "0                   208393           1254                    88.0   \n",
       "1                   147500            828                    59.8   \n",
       "2                    88173           2458                    43.7   \n",
       "3                   102821           1786                    36.7   \n",
       "4                    92375           1625                    35.8   \n",
       "\n",
       "   Median House Value  \n",
       "0           1104500.0  \n",
       "1           1045200.0  \n",
       "2            943300.0  \n",
       "3            872400.0  \n",
       "4            721700.0  "
      ]
     },
     "execution_count": 120,
     "metadata": {},
     "output_type": "execute_result"
    }
   ],
   "source": [
    "#Read in the redlining census data\n",
    "cendata = pd.read_csv(\"data/CP113BDataforRedliningAnalysis.csv\")\n",
    "cendata.head()"
   ]
  },
  {
   "cell_type": "code",
   "execution_count": 121,
   "metadata": {},
   "outputs": [],
   "source": [
    "#Make the fips code which contains the tract a string\n",
    "cendata['FIPS_str'] = cendata.FIPS.apply(str)"
   ]
  },
  {
   "cell_type": "code",
   "execution_count": 123,
   "metadata": {},
   "outputs": [],
   "source": [
    "#extract the census tract identifier\n",
    "cendata['Census Tract'] = [i[4:8] for i in cendata[\"FIPS_str\"]]"
   ]
  },
  {
   "cell_type": "code",
   "execution_count": 124,
   "metadata": {},
   "outputs": [
    {
     "data": {
      "text/html": [
       "<div>\n",
       "<style scoped>\n",
       "    .dataframe tbody tr th:only-of-type {\n",
       "        vertical-align: middle;\n",
       "    }\n",
       "\n",
       "    .dataframe tbody tr th {\n",
       "        vertical-align: top;\n",
       "    }\n",
       "\n",
       "    .dataframe thead th {\n",
       "        text-align: right;\n",
       "    }\n",
       "</style>\n",
       "<table border=\"1\" class=\"dataframe\">\n",
       "  <thead>\n",
       "    <tr style=\"text-align: right;\">\n",
       "      <th></th>\n",
       "      <th>FIPS</th>\n",
       "      <th>Name of Area</th>\n",
       "      <th>Total Population</th>\n",
       "      <th>Percent Non-Hispanic White</th>\n",
       "      <th>Percent Black</th>\n",
       "      <th>Percent Hispanic</th>\n",
       "      <th>Percent Asian</th>\n",
       "      <th>Percent Other Race/Ethnicity</th>\n",
       "      <th>Poverty Rate</th>\n",
       "      <th>Percent BA or Higher</th>\n",
       "      <th>High School Drop Out Rate</th>\n",
       "      <th>Median Household Income</th>\n",
       "      <th>Housing Units</th>\n",
       "      <th>Percent Owner Occupied</th>\n",
       "      <th>Median House Value</th>\n",
       "      <th>FIPS_str</th>\n",
       "      <th>Census Tract</th>\n",
       "    </tr>\n",
       "  </thead>\n",
       "  <tbody>\n",
       "    <tr>\n",
       "      <th>0</th>\n",
       "      <td>6001400100</td>\n",
       "      <td>Census Tract 4001, Alameda County, California</td>\n",
       "      <td>2991</td>\n",
       "      <td>69.2</td>\n",
       "      <td>2.8</td>\n",
       "      <td>3.8</td>\n",
       "      <td>16.2</td>\n",
       "      <td>8.0</td>\n",
       "      <td>4.2</td>\n",
       "      <td>81.3</td>\n",
       "      <td>0.0</td>\n",
       "      <td>208393</td>\n",
       "      <td>1254</td>\n",
       "      <td>88.0</td>\n",
       "      <td>1104500.0</td>\n",
       "      <td>6001400100</td>\n",
       "      <td>4001</td>\n",
       "    </tr>\n",
       "    <tr>\n",
       "      <th>1</th>\n",
       "      <td>6001400200</td>\n",
       "      <td>Census Tract 4002, Alameda County, California</td>\n",
       "      <td>1997</td>\n",
       "      <td>71.3</td>\n",
       "      <td>0.9</td>\n",
       "      <td>8.9</td>\n",
       "      <td>9.8</td>\n",
       "      <td>9.1</td>\n",
       "      <td>5.5</td>\n",
       "      <td>81.7</td>\n",
       "      <td>0.0</td>\n",
       "      <td>147500</td>\n",
       "      <td>828</td>\n",
       "      <td>59.8</td>\n",
       "      <td>1045200.0</td>\n",
       "      <td>6001400200</td>\n",
       "      <td>4002</td>\n",
       "    </tr>\n",
       "    <tr>\n",
       "      <th>2</th>\n",
       "      <td>6001400300</td>\n",
       "      <td>Census Tract 4003, Alameda County, California</td>\n",
       "      <td>5123</td>\n",
       "      <td>67.0</td>\n",
       "      <td>9.4</td>\n",
       "      <td>7.5</td>\n",
       "      <td>9.8</td>\n",
       "      <td>6.3</td>\n",
       "      <td>7.5</td>\n",
       "      <td>66.3</td>\n",
       "      <td>0.0</td>\n",
       "      <td>88173</td>\n",
       "      <td>2458</td>\n",
       "      <td>43.7</td>\n",
       "      <td>943300.0</td>\n",
       "      <td>6001400300</td>\n",
       "      <td>4003</td>\n",
       "    </tr>\n",
       "    <tr>\n",
       "      <th>3</th>\n",
       "      <td>6001400400</td>\n",
       "      <td>Census Tract 4004, Alameda County, California</td>\n",
       "      <td>3991</td>\n",
       "      <td>65.8</td>\n",
       "      <td>6.0</td>\n",
       "      <td>9.4</td>\n",
       "      <td>12.1</td>\n",
       "      <td>6.7</td>\n",
       "      <td>9.2</td>\n",
       "      <td>80.1</td>\n",
       "      <td>0.0</td>\n",
       "      <td>102821</td>\n",
       "      <td>1786</td>\n",
       "      <td>36.7</td>\n",
       "      <td>872400.0</td>\n",
       "      <td>6001400400</td>\n",
       "      <td>4004</td>\n",
       "    </tr>\n",
       "    <tr>\n",
       "      <th>4</th>\n",
       "      <td>6001400500</td>\n",
       "      <td>Census Tract 4005, Alameda County, California</td>\n",
       "      <td>3944</td>\n",
       "      <td>53.4</td>\n",
       "      <td>24.1</td>\n",
       "      <td>10.3</td>\n",
       "      <td>5.6</td>\n",
       "      <td>6.6</td>\n",
       "      <td>9.4</td>\n",
       "      <td>67.2</td>\n",
       "      <td>0.0</td>\n",
       "      <td>92375</td>\n",
       "      <td>1625</td>\n",
       "      <td>35.8</td>\n",
       "      <td>721700.0</td>\n",
       "      <td>6001400500</td>\n",
       "      <td>4005</td>\n",
       "    </tr>\n",
       "  </tbody>\n",
       "</table>\n",
       "</div>"
      ],
      "text/plain": [
       "         FIPS                                   Name of Area  \\\n",
       "0  6001400100  Census Tract 4001, Alameda County, California   \n",
       "1  6001400200  Census Tract 4002, Alameda County, California   \n",
       "2  6001400300  Census Tract 4003, Alameda County, California   \n",
       "3  6001400400  Census Tract 4004, Alameda County, California   \n",
       "4  6001400500  Census Tract 4005, Alameda County, California   \n",
       "\n",
       "   Total Population  Percent Non-Hispanic White  Percent Black  \\\n",
       "0              2991                        69.2            2.8   \n",
       "1              1997                        71.3            0.9   \n",
       "2              5123                        67.0            9.4   \n",
       "3              3991                        65.8            6.0   \n",
       "4              3944                        53.4           24.1   \n",
       "\n",
       "   Percent Hispanic  Percent Asian  Percent Other Race/Ethnicity  \\\n",
       "0               3.8           16.2                           8.0   \n",
       "1               8.9            9.8                           9.1   \n",
       "2               7.5            9.8                           6.3   \n",
       "3               9.4           12.1                           6.7   \n",
       "4              10.3            5.6                           6.6   \n",
       "\n",
       "   Poverty Rate  Percent BA or Higher  High School Drop Out Rate  \\\n",
       "0           4.2                  81.3                        0.0   \n",
       "1           5.5                  81.7                        0.0   \n",
       "2           7.5                  66.3                        0.0   \n",
       "3           9.2                  80.1                        0.0   \n",
       "4           9.4                  67.2                        0.0   \n",
       "\n",
       "   Median Household Income  Housing Units  Percent Owner Occupied  \\\n",
       "0                   208393           1254                    88.0   \n",
       "1                   147500            828                    59.8   \n",
       "2                    88173           2458                    43.7   \n",
       "3                   102821           1786                    36.7   \n",
       "4                    92375           1625                    35.8   \n",
       "\n",
       "   Median House Value    FIPS_str Census Tract  \n",
       "0           1104500.0  6001400100         4001  \n",
       "1           1045200.0  6001400200         4002  \n",
       "2            943300.0  6001400300         4003  \n",
       "3            872400.0  6001400400         4004  \n",
       "4            721700.0  6001400500         4005  "
      ]
     },
     "execution_count": 124,
     "metadata": {},
     "output_type": "execute_result"
    }
   ],
   "source": [
    "cendata.head()"
   ]
  },
  {
   "cell_type": "code",
   "execution_count": 141,
   "metadata": {},
   "outputs": [
    {
     "data": {
      "text/html": [
       "\n",
       "        <iframe\n",
       "            width=\"800\"\n",
       "            height=\"800\"\n",
       "            src=\"maps/map6.html\"\n",
       "            frameborder=\"0\"\n",
       "            allowfullscreen\n",
       "        ></iframe>\n",
       "        "
      ],
      "text/plain": [
       "<IPython.lib.display.IFrame at 0x7faad4f935f8>"
      ]
     },
     "execution_count": 141,
     "metadata": {},
     "output_type": "execute_result"
    }
   ],
   "source": [
    "# Map the census tract data by a variable\n",
    "# and then overlay the redlined \"D\" areas to visually explore the relationship\n",
    "#\n",
    "map6 = folium.Map(location=(37.8044, -122.2711), zoom_start=12.4)\n",
    "folium.Choropleth(geo_data=alameda, \n",
    "             name='Poverty Rate', \n",
    "             data=cendata,\n",
    "             columns=['Census Tract', 'Poverty Rate'],\n",
    "             key_on='feature.properties.name10',  \n",
    "             fill_color='YlOrRd', \n",
    "             fill_opacity=0.7, \n",
    "             line_opacity=0.2,\n",
    "             \n",
    "             nan_fill_opacity = 0,\n",
    "             legend_name=\"Poverty Rate\"\n",
    "            ).add_to(map6)\n",
    "\n",
    "#add redline data\n",
    "map6.choropleth(oakland_d, fill_color=\"blue\", line_color=\"black\", line_weight=2, fill_opacity=0)\n",
    "\n",
    "map6.save(\"maps/map6.html\")\n",
    "IFrame('maps/map6.html', width=800, height=800)"
   ]
  },
  {
   "cell_type": "code",
   "execution_count": null,
   "metadata": {},
   "outputs": [],
   "source": []
  }
 ],
 "metadata": {
  "@webio": {
   "lastCommId": null,
   "lastKernelId": null
  },
  "anaconda-cloud": {},
  "kernelspec": {
   "display_name": "Python 3",
   "language": "python",
   "name": "python3"
  },
  "language_info": {
   "codemirror_mode": {
    "name": "ipython",
    "version": 3
   },
   "file_extension": ".py",
   "mimetype": "text/x-python",
   "name": "python",
   "nbconvert_exporter": "python",
   "pygments_lexer": "ipython3",
   "version": "3.6.8"
  },
  "varInspector": {
   "cols": {
    "lenName": 16,
    "lenType": 16,
    "lenVar": 40
   },
   "kernels_config": {
    "python": {
     "delete_cmd_postfix": "",
     "delete_cmd_prefix": "del ",
     "library": "var_list.py",
     "varRefreshCmd": "print(var_dic_list())"
    },
    "r": {
     "delete_cmd_postfix": ") ",
     "delete_cmd_prefix": "rm(",
     "library": "var_list.r",
     "varRefreshCmd": "cat(var_dic_list()) "
    }
   },
   "types_to_exclude": [
    "module",
    "function",
    "builtin_function_or_method",
    "instance",
    "_Feature"
   ],
   "window_display": false
  }
 },
 "nbformat": 4,
 "nbformat_minor": 2
}
